{
 "cells": [
  {
   "cell_type": "markdown",
   "metadata": {},
   "source": [
    "### Setup"
   ]
  },
  {
   "cell_type": "code",
   "execution_count": 1,
   "metadata": {},
   "outputs": [],
   "source": [
    "import pandas as pd\n",
    "from sklearn.ensemble import RandomForestClassifier\n",
    "from sklearn.model_selection import train_test_split\n",
    "from sklearn.metrics import accuracy_score, precision_score, recall_score, f1_score, precision_recall_fscore_support, confusion_matrix\n",
    "from sklearn.feature_extraction.text import CountVectorizer\n",
    "import numpy as np\n",
    "from sklearn import tree \n",
    "from matplotlib import pyplot as plt\n",
    "import tldextract\n",
    "from urllib.parse import urlparse, parse_qs\n",
    "import re"
   ]
  },
  {
   "cell_type": "markdown",
   "metadata": {},
   "source": [
    "### Dataset"
   ]
  },
  {
   "cell_type": "code",
   "execution_count": 2,
   "metadata": {},
   "outputs": [
    {
     "data": {
      "text/html": [
       "<div>\n",
       "<style scoped>\n",
       "    .dataframe tbody tr th:only-of-type {\n",
       "        vertical-align: middle;\n",
       "    }\n",
       "\n",
       "    .dataframe tbody tr th {\n",
       "        vertical-align: top;\n",
       "    }\n",
       "\n",
       "    .dataframe thead th {\n",
       "        text-align: right;\n",
       "    }\n",
       "</style>\n",
       "<table border=\"1\" class=\"dataframe\">\n",
       "  <thead>\n",
       "    <tr style=\"text-align: right;\">\n",
       "      <th></th>\n",
       "      <th>url</th>\n",
       "      <th>type</th>\n",
       "    </tr>\n",
       "  </thead>\n",
       "  <tbody>\n",
       "    <tr>\n",
       "      <th>0</th>\n",
       "      <td>br-icloud.com.br</td>\n",
       "      <td>phishing</td>\n",
       "    </tr>\n",
       "    <tr>\n",
       "      <th>1</th>\n",
       "      <td>mp3raid.com/music/krizz_kaliko.html</td>\n",
       "      <td>benign</td>\n",
       "    </tr>\n",
       "    <tr>\n",
       "      <th>2</th>\n",
       "      <td>bopsecrets.org/rexroth/cr/1.htm</td>\n",
       "      <td>benign</td>\n",
       "    </tr>\n",
       "    <tr>\n",
       "      <th>3</th>\n",
       "      <td>http://www.garage-pirenne.be/index.php?option=...</td>\n",
       "      <td>defacement</td>\n",
       "    </tr>\n",
       "    <tr>\n",
       "      <th>4</th>\n",
       "      <td>http://adventure-nicaragua.net/index.php?optio...</td>\n",
       "      <td>defacement</td>\n",
       "    </tr>\n",
       "  </tbody>\n",
       "</table>\n",
       "</div>"
      ],
      "text/plain": [
       "                                                 url        type\n",
       "0                                   br-icloud.com.br    phishing\n",
       "1                mp3raid.com/music/krizz_kaliko.html      benign\n",
       "2                    bopsecrets.org/rexroth/cr/1.htm      benign\n",
       "3  http://www.garage-pirenne.be/index.php?option=...  defacement\n",
       "4  http://adventure-nicaragua.net/index.php?optio...  defacement"
      ]
     },
     "execution_count": 2,
     "metadata": {},
     "output_type": "execute_result"
    }
   ],
   "source": [
    "df = pd.read_csv('../datasets/malicious_phish.csv')\n",
    "df.head()"
   ]
  },
  {
   "cell_type": "code",
   "execution_count": 3,
   "metadata": {},
   "outputs": [
    {
     "name": "stdout",
     "output_type": "stream",
     "text": [
      "0                                     br-icloud.com.br\n",
      "1                  mp3raid.com/music/krizz_kaliko.html\n",
      "2                      bopsecrets.org/rexroth/cr/1.htm\n",
      "3    http://www.garage-pirenne.be/index.php?option=...\n",
      "4    http://adventure-nicaragua.net/index.php?optio...\n",
      "Name: url, dtype: object\n",
      "0      phishing\n",
      "1        benign\n",
      "2        benign\n",
      "3    defacement\n",
      "4    defacement\n",
      "Name: type, dtype: object\n",
      "type\n",
      "benign        428103\n",
      "defacement     96457\n",
      "phishing       94111\n",
      "malware        32520\n",
      "Name: count, dtype: int64\n"
     ]
    }
   ],
   "source": [
    "X = df.iloc[:, 0]\n",
    "y = df.iloc[:, 1]\n",
    "\n",
    "print(X.head())\n",
    "print(y.head())\n",
    "print(y.value_counts())"
   ]
  },
  {
   "cell_type": "code",
   "execution_count": 4,
   "metadata": {},
   "outputs": [
    {
     "data": {
      "text/plain": [
       "type\n",
       "0    428103\n",
       "1     96457\n",
       "2     94111\n",
       "3     32520\n",
       "Name: count, dtype: int64"
      ]
     },
     "execution_count": 4,
     "metadata": {},
     "output_type": "execute_result"
    }
   ],
   "source": [
    "def classification_type(type):\n",
    "    '''\n",
    "    Convert classification type into values:\n",
    "        1) Benign = 0\n",
    "        2) Defacement = 1\n",
    "        3) Phishing = 2\n",
    "        4) Malware = 3    \n",
    "    '''\n",
    "    if type == \"benign\":\n",
    "        return 0\n",
    "    elif type == \"defacement\":\n",
    "        return 1\n",
    "    elif type == \"phishing\":\n",
    "        return 2\n",
    "    elif type == \"malware\":\n",
    "        return 3\n",
    "    else:\n",
    "        print(f\"Unable to find proper type: {type}\")\n",
    "\n",
    "y = y.apply(classification_type)\n",
    "y.value_counts()"
   ]
  },
  {
   "cell_type": "markdown",
   "metadata": {},
   "source": [
    "### Feature extraction"
   ]
  },
  {
   "cell_type": "markdown",
   "metadata": {},
   "source": [
    "#### Trigram"
   ]
  },
  {
   "cell_type": "code",
   "execution_count": 5,
   "metadata": {},
   "outputs": [],
   "source": [
    "# Initialize CountVectorizer for trigrams, 1000 features\n",
    "tf_vectorizer = CountVectorizer(ngram_range=(3,3), max_features=1000)"
   ]
  },
  {
   "cell_type": "code",
   "execution_count": 6,
   "metadata": {},
   "outputs": [],
   "source": [
    "def get_trigram_feature_set(X_, vectorizer, fit=False):\n",
    "    if fit:\n",
    "        return vectorizer.fit_transform(X_)\n",
    "    else:\n",
    "        return vectorizer.transform(X_)"
   ]
  },
  {
   "cell_type": "code",
   "execution_count": 7,
   "metadata": {},
   "outputs": [],
   "source": [
    "feature_set = get_trigram_feature_set(X, tf_vectorizer, True)"
   ]
  },
  {
   "cell_type": "code",
   "execution_count": 8,
   "metadata": {},
   "outputs": [
    {
     "name": "stdout",
     "output_type": "stream",
     "text": [
      "{'mp3raid com music': 732, 'be index php': 178, 'index php option': 660, 'php option com_content': 808, 'option com_content view': 769, 'com_content view article': 341, 'view article id': 934, 'net index php': 751, 'php option com_mailto': 813, 'option com_mailto tmpl': 774, 'com_mailto tmpl component': 347, 'tmpl component link': 903, 'http buzzfil net': 567, 'espn go com': 500, 'nl index php': 757, 'de index php': 432, 'uk linkedin com': 925, 'linkedin com pub': 695, 'baseball reference com': 161, 'reference com players': 843, '192 com atoz': 4, 'com atoz people': 277, 'en wikipedia org': 494, 'wikipedia org wiki': 966, 'com index php': 306, 'php option com_virtuemart': 818, 'option com_virtuemart page': 779, 'com_virtuemart page shop': 352, 'page shop browse': 792, 'shop browse category_id': 865, 'movies yahoo com': 731, 'com app member': 275, 'app member sportoption': 115, 'member sportoption php': 717, 'sportoption php uid': 880, 'php uid guest': 822, 'uid guest langx': 920, 'guest langx gb': 538, 'https docs google': 624, 'docs google com': 441, 'google com spreadsheet': 532, 'spreadsheet viewform formkey': 885, 'wikia com wiki': 964, 'spoke com dir': 878, 'http interpark com': 581, 'interpark com displaycorner': 673, 'com displaycorner freemarket': 294, 'displaycorner freemarket do': 438, 'freemarket do _method': 522, 'ir index php': 674, 'index php view': 666, 'php view article': 823, 'view article catid': 933, 'tmpl component print': 905, 'component print layout': 359, 'print layout default': 832, 'layout default page': 688, 'default page option': 433, 'page option com_content': 790, 'option com_content itemid': 768, 'com br index': 280, 'br index html': 197, 'local yahoo com': 700, 'yahoo com info': 992, 'youtube com watch': 997, 'chacha com question': 229, 'com sports baskbl': 328, 'org index php': 785, 'pipl com directory': 825, 'com directory name': 290, 'pl index php': 826, 'php option com_user': 817, 'option com_user view': 777, 'com_user view remind': 350, 'cf 84 ce': 219, 'ce b1 ce': 216, 'ce b9 ce': 217, 'html page shop': 550, 'http serverfault com': 602, 'serverfault com questions': 863, 'br index php': 198, 'php option com_wrapper': 820, 'option com_wrapper view': 782, 'com_wrapper view wrapper': 353, 'view wrapper itemid': 945, 'icehockey wikia com': 634, 'it index php': 675, 'http 9779 info': 558, '9779 info e5': 63, 'e5 84 bf': 457, '84 bf e7': 40, 'bf e7 ab': 180, 'e7 ab a5': 475, 'e7 ba b8': 477, 'ba b8 e8': 157, 'b8 e8 b4': 152, 'e8 b4 b4': 480, 'b4 b4 e7': 150, 'b4 e7 94': 151, 'e7 94 bb': 473, 'bleacherreport com articles': 187, 'feed type rss': 511, 'http motthegioi vn': 589, 'https twitter com': 632, 'twitter com home': 918, 'com home status': 298, 'home status e3': 541, 'status e3 83': 888, 'e3 83 8c': 451, '83 8c e3': 36, '8c e3 81': 55, 'e3 81 91': 446, '81 91 e3': 32, '91 e3 82': 57, 'e3 82 8b': 448, '82 8b ef': 35, '8b ef bc': 54, 'ef bc 81': 485, 'bc 81 e3': 172, '81 e3 80': 34, 'e3 80 90': 444, 'e3 82 a2': 449, 'e3 80 91': 445, '80 91 http': 31, '91 http 3a': 59, 'http 3a 2f': 555, '3a 2f 2fero': 22, '2f 2fero video': 14, '2fero video net': 18, 'video net 2ft': 932, '23ero 23douga 23agesage': 13, 'http correios com': 571, 'correios com br': 367, 'com br para': 281, 'http olx ro': 595, 'olx ro i2': 763, 'cl index php': 233, 'php option com_contact': 807, 'option com_contact view': 767, 'com_contact view contact': 340, 'view contact id': 938, 'contact id itemid': 363, 'facebook com people': 507, 'ru index php': 851, 'article id itemid': 135, 'com pub dir': 322, 'com 2011 10': 271, 'http qz com': 601, '9779 info e6': 64, 'info e6 a0': 671, 'e6 a0 91': 471, 'a0 91 e5': 75, '91 e5 8f': 58, 'e5 8f b6': 459, 'e7 b2 98': 476, 'b2 98 e8': 148, '98 e8 b4': 67, 'http mylust com': 590, 'mylust com videos': 741, 'ca index php': 205, 'sk index php': 872, 'es index php': 499, 'archiver rootsweb ancestry': 124, 'rootsweb ancestry com': 847, 'ancestry com th': 109, 'com th read': 329, 'wordpress com 2011': 968, 'com 2011 02': 263, 'http mic com': 588, 'mic com articles': 722, 'drive google com': 443, 'manta com ic': 714, 'archive index php': 122, 'index php nl': 659, 'home comcast net': 540, 'facebook com pages': 506, 'e5 b8 83': 467, 'http grantland com': 577, 'fanpix net gallery': 509, 'familytreemaker genealogy com': 508, 'genealogy com users': 526, 'http thenextweb com': 608, 'music yahoo com': 734, 'e5 ad 90': 464, 'e6 8b bc': 470, '8b bc e8': 52, 'bc e8 b4': 174, 'php option com_jevents': 810, 'option com_jevents task': 771, 'com_jevents task day': 345, 'task day listevents': 893, 'day listevents year': 428, 'listevents year 2013': 698, 'year 2013 month': 994, '2013 month 01': 7, 'month 01 day': 728, 'ultimate guitar com': 926, 'blogspot com 2011': 194, 'com 2011 04': 265, 'baseball almanac com': 160, 'index php page': 661, 'php page shop': 821, 'option com_virtuemart itemid': 778, 'html tmpl component': 551, 'http codecanyon net': 570, 'br site index': 199, 'site index php': 868, 'org wiki category': 786, 'http otomoto pl': 597, 'tvguide com celebrities': 917, 'archive org stream': 123, 'buzzfil net article': 203, 'html href inner_website': 548, 'com_content view category': 342, 'view category layout': 937, 'category layout blog': 211, 'layout blog id': 687, 'flickr com photos': 515, 'citysearch com profile': 232, '9779 info e7': 65, 'ba b8 e7': 156, 'imdb com name': 645, 'http kienthuc net': 584, 'kienthuc net vn': 684, 'http pikabu ru': 599, 'd0 b8 d0': 373, 'd0 bd d0': 376, 'd0 b0 d0': 369, 'd0 bb d0': 375, 'absoluteastronomy com topics': 88, 'com index cfm': 303, 'http extratorrent cc': 576, 'extratorrent cc torrent': 504, 'com cgi bin': 282, 'info e5 b9': 670, 'e5 b9 bc': 468, 'b9 bc e5': 153, 'bc e5 84': 173, 'usa people search': 930, 'people search com': 800, 'search com find': 858, 'hu index php': 633, 'component mailto index': 358, 'mailto index html': 711, 'index html tmpl': 655, 'answers com topic': 110, 'com_content view section': 344, 'uk ask com': 921, 'ask com wiki': 138, 'flixster com actor': 516, 'dailymotion com video': 425, 'http grasslandhotel com': 578, 'grasslandhotel com vn': 535, 'com vn index': 334, 'vn index php': 949, 'index php component': 656, 'http torcache net': 611, 'torcache net torrent': 909, 'torrent title kickass': 910, 'title kickass to': 901, 'ca linkedin com': 206, '9779 info e4': 62, 'e4 ba ba': 455, 'http elitedaily com': 574, 'index php en': 657, 'component content article': 357, 'component print page': 360, 'https medium com': 626, 'e5 9b be': 462, 'people famouswhy com': 799, 'style org hc360': 890, 'org hc360 com': 784, 'blogspot com 2009': 192, 'worthpoint com worthopedia': 969, 'http babal net': 565, 'd9 83 d8': 412, 'd8 a7 d8': 386, 'd9 85 d8': 416, '85 d8 a7': 45, 'd8 a7 d9': 387, 'a7 d9 84': 80, 'd9 84 d8': 414, 'd8 b3 d8': 402, 'd9 87 d8': 420, 'd8 b1 d8': 400, 'b1 d8 a7': 146, 'a7 d9 86': 82, 'd9 86 d8': 418, 'd8 aa d8': 392, 'aa d8 a7': 85, 'http pastehtml com': 598, 'pastehtml com view': 795, 'e6 89 8b': 469, '89 8b e5': 48, '8b e5 b7': 53, 'e5 b7 a5': 466, '94 bb e5': 61, 'bb e5 9b': 169, '9b be e7': 69, 'be e7 89': 177, 'e7 89 87': 472, 'url http 3a': 927, 'legacy com obituaries': 689, 'associatedcontent com article': 141, 'page shop product_details': 793, 'shop product_details category_id': 866, 'fr index php': 520, 'com_content view frontpage': 343, 'view frontpage itemid': 940, 'article id 53': 133, 'com 2011 01': 262, 'nhl com club': 755, 'component virtuemart index': 361, 'virtuemart index html': 947, 'index html page': 654, 'com news 2011': 314, 'last fm music': 685, 'evri com person': 503, 'com component content': 287, 'linkedin com company': 692, 'en gb facebook': 487, 'gb facebook com': 524, 'http distractify com': 573, 'distractify com post': 439, 'com post related': 319, 'post related id': 830, 'skip 10 limit': 873, '10 limit 10': 0, 'limit 10 back': 691, 'co za index': 255, 'za index php': 998, 'article id 47': 127, 'flypage flypage tpl': 517, 'flypage tpl product_id': 518, 'com au index': 278, 'au index php': 143, 'freepages genealogy rootsweb': 523, 'genealogy rootsweb ancestry': 527, 'thecanadianencyclopedia com index': 898, 'index cfm pgnm': 650, 'cfm pgnm tce': 220, 'pgnm tce params': 802, 'com ar index': 276, 'ar index php': 121, 'article id 49': 129, 'docstoc com docs': 442, 'sites google com': 870, 'answers yahoo com': 111, 'yahoo com question': 993, 'com question index': 323, 'question index qid': 838, 'd8 a8 d9': 389, '86 d8 a7': 46, 'a7 d8 aa': 78, 'd8 aa d9': 393, 'd9 86 d9': 419, 'd9 8a d8': 423, '8a d8 a9': 51, 'com 2011 05': 266, 'http torrentdn com': 612, 'torrentdn com bbs': 911, 'com bbs php': 279, 'bbs php bo_table': 171, '2015 05 13': 11, 'com 2010 12': 261, 'com cl tpl': 284, 'genforum genealogy com': 528, 'php option com_rsgallery2': 815, 'option com_rsgallery2 page': 776, 'blogspot com 2010': 193, 'com 2010 11': 260, 'dictionary sensagent com': 435, 'shop product_details flypage': 867, 'product_details flypage flypage': 833, 'evri com organization': 502, 'articles sfgate com': 136, 'com 2011 06': 267, 'com 2010 10': 259, 'com 2015 05': 274, 'wp content themes': 971, 'images index htm': 643, '84 bf e5': 39, 'bf e5 9b': 179, 'e5 9b ad': 461, 'category_id option com_virtuemart': 212, 'kansas city royals': 683, 'com cl module': 283, 'cl module system': 234, 'module system method': 727, 'http twitter com': 614, 'e7 be 8e': 478, 'e5 a5 b3': 463, 'a5 b3 e3': 76, 'b3 e3 80': 149, 'e3 83 b3': 452, 'http tobogo net': 610, 'tobogo net cdsb': 906, 'net cdsb board': 748, 'cdsb board php': 215, 'board php board': 196, 'bm view no': 195, 'category auth page': 209, 'auth page search': 144, 'page search keyword': 791, 'search keyword recom': 859, 'com 2011 11': 272, 'browse category_id option': 201, 'info index php': 672, 'com 2010 08': 257, 'http appleid apple': 562, 'appleid apple co': 119, 'apple co uk': 117, 'co uk cgi': 251, 'uk cgi bin': 922, 'cgi bin webobjects': 224, 'bin webobjects myappleid': 183, 'webobjects myappleid woa': 958, 'net identify customer': 750, 'paypal co uk': 796, 'php option com_phocagallery': 814, 'option com_phocagallery view': 775, 'com_phocagallery view detail': 349, 'view detail catid': 939, 'tmpl component itemid': 902, 'e5 89 aa': 458, '89 aa e8': 49, 'aa e8 b4': 86, 'biomedexperts com profile': 185, 'com profile bme': 321, 'http www bruynzeelmultipanel': 619, 'www bruynzeelmultipanel be': 983, 'bruynzeelmultipanel be index': 202, 'http nguyentandung org': 592, 'britannica com ebchecked': 200, 'com ebchecked topic': 296, 'sportsillustrated cnn com': 884, 'http olx co': 594, 'olx co id': 762, 'co id i2': 248, 'freebase com view': 521, 'com view en': 332, 'com directory people': 291, 'com 2011 09': 270, 'wordiq com definition': 967, 'about com od': 87, 'yellowpages ca bus': 995, 'ca bus quebec': 204, 'info e5 85': 669, '90 e7 b2': 56, 'co index php': 249, 'catid latest news': 213, 'http superuser com': 605, 'superuser com questions': 891, 'spoke com info': 879, 'go com blog': 529, 'allstarpics net pic': 97, 'net pic gallery': 753, 'linkedin com in': 694, 'nme com artists': 759, 'lyricsmode com lyrics': 710, 'com showthread php': 326, 'http sourceforge net': 603, 'sourceforge net directory': 875, 'co uk index': 253, 'uk index php': 924, 'format feed type': 519, 'http techcrunch com': 606, 'commons wikimedia org': 354, 'wikimedia org wiki': 965, 'http 3cf ru': 556, '3cf ru 2015': 25, 'ru 2015 07': 850, 'http mashable com': 585, 'article id 51': 131, 'de component mailto': 430, 'http nypost com': 593, 'ad 90 e7': 93, 'com sejeal jpg': 325, 'vitals com doctors': 948, '9779 info e8': 66, 'php option com_sobi2': 816, 'gr index php': 534, 'guardian co uk': 537, 'http web de': 617, 'web de magazine': 953, 'blog id itemid': 188, 'hockeydb com ihdb': 539, 'com ihdb stats': 301, 'ihdb stats pdisplay': 641, 'classmates com directory': 235, 'imdb com title': 646, 'blogspot com 2007': 190, 'com wp content': 337, 'wp content plugins': 970, 'com viewarticle dbml': 333, 'viewarticle dbml db_oem_id': 946, 'http udn com': 615, 'udn com news': 919, 'com news story': 316, 'd0 be d1': 378, 'd1 82 d0': 383, 'd0 be d0': 377, 'd0 bf d0': 379, 'd1 80 d0': 380, 'd0 ba d0': 374, 'http atwiki jp': 564, '83 b3 e3': 37, 'otomoto pl oferta': 787, 'at index php': 142, 'names whitepages com': 742, 'ch index php': 228, 'letrs indiana edu': 690, 'indiana edu cgi': 667, 'edu cgi text': 484, 'cgi text text': 227, 'text text idx': 897, 'text idx wright2': 895, 'idx wright2 cc': 638, 'wright2 cc wright2': 975, 'cc wright2 view': 214, 'wright2 view text': 976, 'view text rgn': 943, 'text rgn main': 896, 'rgn main idno': 845, 'main idno wright2': 712, 'id itemid lang': 637, 'se index php': 857, 'http nesn com': 591, 'php option com_jcalpro': 809, 'option com_jcalpro itemid': 770, 'view category id': 936, 'index html option': 653, 'html option com_content': 549, 'babal net books': 158, 'net books view': 747, 'd9 82 d8': 411, 'd9 88 d9': 422, 'd9 84 d9': 415, 'a7 d8 a8': 77, 'd8 a8 d8': 388, 'a8 d8 a7': 83, 'd8 b9 d9': 408, '84 d9 8a': 44, 'd8 a9 d8': 390, 'a9 d8 a7': 84, 'd8 ad d8': 396, 'd8 b1 d9': 401, 'b1 d9 8a': 147, 'd9 8a d9': 424, 'us battle net': 928, 'battle net login': 166, 'net login en': 752, 'login en ref': 702, 'en ref us': 493, 'ref us battle': 841, 'battle net d3': 165, 'net d3 en': 749, 'd3 en index': 385, 'index php title': 663, 'http maybank2u com': 586, 'maybank2u com my': 715, 'com my mbb_info': 313, 'my mbb_info m2u': 739, 'mbb_info m2u public': 716, 'index php start': 662, 'scribd com doc': 856, 'rottentomatoes com celebrity': 848, 'com index html': 305, 'enotes com topic': 498, 'http www ninopizzaria': 621, 'www ninopizzaria com': 985, 'ninopizzaria com br': 756, 'discogs com artist': 437, 'city data com': 231, '2013 month 02': 8, 'month 02 day': 729, 'http indianexpress com': 580, 'indianexpress com article': 668, 'http ap org': 561, 'ap org content': 112, 'groups yahoo com': 536, 'yahoo com group': 991, 'zoominfo com people': 999, 'day listevents 2013': 427, 'listevents 2013 01': 697, 'http us battle': 616, 'com login en': 310, 'latest news itemid': 686, 'com_user view reset': 351, 'amazon com ie': 99, 'com ie utf8': 300, 'co uk identify': 252, 'uk identify customer': 923, 'php option com_k2': 812, 'option com_k2 view': 773, 'ebay com sch': 483, 'com sch html': 324, 'sch html _nkw': 854, 'http www pubyun': 622, 'www pubyun com': 988, 'metacafe com watch': 720, 'app com d3': 114, 'nndb com people': 760, 'en goldenmap com': 488, 'http bdnews24 com': 566, '2015 05 12': 10, 'homepages rootsweb ancestry': 542, 'e3 83 bc': 454, '83 bc e3': 38, 'e3 83 bb': 453, 'com_phocagallery view category': 348, 'category id itemid': 210, 'in the news': 647, 'com component mailto': 288, 'http stackoverflow com': 604, 'stackoverflow com questions': 887, 'wiki answers com': 963, 'http depositphotos com': 572, 'yelp com biz': 996, 'content usatoday com': 366, 'blogspot com 2008': 191, 'acronyms thefreedictionary com': 92, 'remax index htm': 844, 'sports espn go': 882, 'http chinesevie com': 569, 'chinesevie com index': 230, 'e3 82 b9': 450, 'encyclopedia2 thefreedictionary com': 496, 'amazon co uk': 98, 'findagrave com cgi': 514, 'cgi bin fg': 222, 'bin fg cgi': 181, 'fg cgi page': 512, 'cgi page gr': 226, 'page gr grid': 789, 'com kansas city': 309, 'tr index php': 914, 'http www allaroundrental': 618, 'www allaroundrental com': 978, 'allaroundrental com index': 95, 'mx index php': 736, 'php option com_joomgallery': 811, 'tv com people': 916, 'http plarium com': 600, 'movies nytimes com': 730, 'd8 b7 d8': 406, 'd8 b9 d8': 407, 'd9 81 d9': 410, '81 d9 8a': 33, 'd8 ac d8': 394, 'php component mailto': 806, 'sourceforge net projects': 876, 'com_k2 view item': 346, 'view item id': 941, 'http censor net': 568, 'censor net ua': 218, '8a d8 a7': 50, 'sports yahoo com': 883, 'e7 9a 84': 474, 'e3 81 ae': 447, 'view section layout': 942, 'section layout blog': 860, 'thenextweb com apps': 900, 'index php limitstart': 658, 'ro index php': 846, 'e4 bd 9c': 456, 'http tunein com': 613, 'tunein com radio': 915, '15480783 ca pub': 3, 'ca pub 1542925551861702': 208, 'id 10 itemid': 635, 'com 2011 08': 269, 'http allegro pl': 560, 'asia login en': 137, 'login en login': 701, 'en login html': 491, 'login html amp': 703, 'finance yahoo com': 513, 'tmpl component phocadownload': 904, 'com 2010 09': 258, 'reference com browse': 842, 'torrentreactor net torrents': 912, '9a 84 e5': 68, 'linkedin com directory': 693, 'english turkcebilgi com': 497, 'com 2015 04': 273, 'bbc co uk': 170, 'eu index php': 501, 'article id 46': 126, 'http aljazeera net': 559, 'd8 af d9': 399, 'd8 a9 d9': 391, 'd9 81 d8': 409, 'd9 88 d8': 421, '88 d8 a7': 47, '84 d9 85': 42, 'a7 d8 b1': 79, 'd8 ad d9': 397, 'd9 85 d9': 417, 'd8 af d8': 398, 'af d8 a7': 94, 'com 2011 07': 268, 'http metro co': 587, 'metro co uk': 721, 'co uk 2015': 250, 'publicrecords com people': 837, 'com people search': 317, 'people search records': 801, 'otomoto pl osobowe': 788, 'mod www amp': 726, 'http kenh14 vn': 583, 'secure runescape com': 861, 'runescape com weblogin': 853, 'com weblogin loginform': 335, 'weblogin loginform ws': 957, 'loginform ws mod': 709, 'ws mod www': 977, 'ssl amp dest': 886, 'index php tours': 665, 'items fbtrack js': 676, 'day date 2013': 426, 'com mx index': 312, '123people co uk': 2, 'php cmd _login': 803, 'cmd _login run': 236, '_login run amp': 72, 'run amp dispatch': 852, 'dk index php': 440, 'article id 55': 134, 'itunes apple com': 677, 'apple com us': 118, 'com us album': 330, 'http emgn com': 575, 'emgn com entertainment': 486, 'wc rootsweb ancestry': 951, 'ancestry com cgi': 108, 'cgi bin igm': 223, 'bin igm cgi': 182, 'igm cgi op': 640, 'google com site': 531, 'encyclopedia com topic': 495, 'http themeforest net': 607, 'themeforest net item': 899, 'http hotlinegsm com': 579, 'hotlinegsm com products': 543, 'com products mobile': 320, 'products mobile and': 834, 'mobile and tablet': 725, 'article id 10': 125, 'skip 20 limit': 874, '20 limit 10': 6, 'ebay com itm': 482, 'http askubuntu com': 563, 'askubuntu com questions': 139, 'd9 83 d9': 413, 'e8 b1 86': 479, 'com wp admin': 336, 'nlm nih gov': 758, 'connect in com': 362, 'usatoday com community': 931, 'com community tags': 285, 'community tags topic': 355, 'tags topic aspx': 892, 'topic aspx req': 908, 'aspx req tag': 140, 'com directory public': 292, 'directory public memberprofile': 436, 'public memberprofile list': 836, 'memberprofile list htm': 718, 'list htm regid': 696, 'profilecanada com companydetail': 835, 'com companydetail cfm': 286, 'companydetail cfm company': 356, 'index php topic': 664, 'php option com_weblinks': 819, 'option com_weblinks view': 781, 'view weblink catid': 944, 'http olx ua': 596, 'olx ua uk': 764, 'd1 81 d0': 381, 'd0 b2 d0': 371, 'be d1 81': 176, 'd1 81 d1': 382, 'rs com login': 849, '94 bb e4': 60, 'bb e4 bd': 168, 'bd 9c e5': 175, '9c e5 93': 70, 'e5 93 81': 460, 'www paypal com': 987, '_login run dispatch': 73, '5d 5b0 5d': 29, 'article id 48': 128, 'id 48 itemid': 636, 'http www feuerwehr': 620, 'com wp includes': 338, 'wp includes js': 974, 'option com_joomgallery itemid': 772, 'article id 52': 132, 'com directory school': 293, 'com js us': 308, 'js us battle': 679, 'en ref http': 492, 'ref http us': 840, 'en index amp': 489, 'index amp app': 648, 'amp app com': 104, 'e5 b0 8f': 465, 'com news index': 315, 'members tripod com': 719, 'de index html': 431, 'genealogielistfirstname aspx ancestor': 525, 'article id 50': 130, '2015 05 11': 9, 'xhamster com movies': 990, 'allegro pl listing': 96, 'sports baskbl spec': 881, 'baskbl spec rel': 162, 'nypost com 2015': 761, 'login html app': 704, 'html app wam': 546, 'http tinnhanh360 net': 609, 'http jezebel com': 582, 'a7 d9 85': 81, 'd8 ac d9': 395, 'com 2011 03': 264, 'nesn com 2015': 743, 'de cms index': 429, 'cms index php': 245, 'org br index': 783, '84 d9 88': 43, 'com 2010 02': 256, 'd8 b3 d9': 403, 'd8 b4 d8': 404, 'extratorrent cc torrent_download': 505, 'feed type atom': 510, 'd8 b5 d8': 405, 'b9 d9 84': 154, '84 d8 a7': 41, 'php component content': 805, 'www bjcurio com': 982, 'bjcurio com js': 186, 'com js index': 307, 'js index htm': 678, 'com d3 amp': 289, 'ref http 3a': 839, '3a 2f 2fus': 23, '2f 2fus battle': 15, '2fus battle net': 20, 'battle net 2fd3': 163, 'net 2fd3 2fen': 744, '2fd3 2fen 2findex': 16, 'player htm id': 827, 'ba b8 e5': 155, 'portal index php': 829, 'content plugins akismet': 364, 'co uk news': 254, 'blog wp content': 189, 'com en us': 297, 'paypal com cgi': 797, 'com login html': 311, '2fen 2findex amp': 17, '2findex amp app': 19, 'com images us': 302, 'images us battle': 644, 'view category catid': 935, '20high 20school org': 12, 'd0 b0 d1': 370, 'd0 b5 d0': 372, 'd3 amp us': 384, 'amp us battle': 107, 'en index app': 490, 'index app com': 649, 'wp content uploads': 972, 'php view weblink': 824, 'option com_weblinks itemid': 780, 'battle net ok': 167, 'www paypal co': 986, 'www battle net': 981, 'battle net account': 164, 'cmd _processing dispatch': 239, 'com www paypal': 339, 'cgi bin webscr': 225, 'com index htm': 304, 'webscr php cmd': 961, 'content uploads 2012': 365, 'bin webscr cmd': 184, 'webscr cmd login': 960, 'ebay co uk': 481, 'cmd _processing amp': 238, 'weblogin loginform html': 956, 'paypal com us': 798, 'com us cgi': 331, 'us cgi bin': 929, 'cmd _login submit': 237, '_login submit dispatch': 74, 'cgi bin ca': 221, 'index htm ref': 651, 'amp app bam': 103, 'app wam amp': 116, 'amp eor amp': 105, 'amp ref www': 106, 'wp includes images': 973, 'login submit dispatch': 707, 'index htm us': 652, 'htm us battle': 544, 'wam amp ref': 950, 'net account amp': 745, 'account amp eor': 89, 'amp amp amp': 101, 'amp amp app': 102, 'html cmd _login': 547, '9d345009 62cb3a1a sites': 71, '62cb3a1a sites googlegroups': 30, 'sites googlegroups com': 871, 'googlegroups com site': 533, 'com site stickamcomlogindo': 327, 'site stickamcomlogindo login': 869, 'stickamcomlogindo login html': 889, 'webscrlcmdl login submit': 962, 'cmd login submit': 241, 'news cnet com': 754, 'cn js index': 246, 'net account management': 746, 'account management index': 90, 'management index xml': 713, 'security login php': 862, 'cmd login run': 240, 'www freewebs com': 984, 'login php cmd': 706, 'php cmd login_submit': 804, 'cmd login_submit amp': 242, 'login_submit amp id': 708, 'google com forms': 530, 'my sharepoint com': 740, 'sharepoint com personal': 864, 'https onedrive live': 628, 'onedrive live com': 765, 'live com download': 699, 'com download cid': 295, 'https drive google': 625, 'https pastebin com': 629, 'pastebin com raw': 794, 'http 111 43': 553, '111 43 223': 1, 'http 45 95': 557, '45 95 168': 28, 'http 111 42': 552, 'http 37 49': 554, '37 49 226': 21, 'https toulousa com': 631, 'toulousa com omg': 913, 'https spdtextile com': 630, 'spdtextile com sport': 877, 'https apbfiber com': 623, 'apbfiber com openme': 113, 'https mitsui jyuku': 627, 'mitsui jyuku mixh': 723, 'jyuku mixh jp': 682, 'mixh jp uploads': 724, '3d 3d amp': 26, 'login html attachauth': 705, 'mpolvora accounts department': 733, 'accounts department online': 91, 'department online team': 434, 'online team webscr': 766, 'team webscr php': 894, 'com plo5xide webscr_prim': 318, 'plo5xide webscr_prim php': 828, 'images cgi bin': 642, 'mx images cgi': 735, 'web scr cmnd': 954, 'scr cmnd _lg': 855, 'cmnd _lg nav': 243, 'www babinet cz': 980, 'babinet cz avatars': 159, 'cz avatars 19889': 368, 'avatars 19889 hires': 145, '19889 hires dir': 5, 'html amp 3battredirects': 545, 'amp 3battredirects amp': 100, '3battredirects amp attachauth': 24, '3d amp attredirects': 27, 'mx js web': 737, 'js web apps': 680, 'web apps ca': 952, 'apps ca pp': 120, 'ca pp cmnd': 207, 'pp cmnd _lg': 831, 'mx js webapps': 738, 'js webapps uk': 681, 'webapps uk mpp': 955, 'cmnd _lg pagename': 244, 'www angelfire com': 979, 'www webring com': 989, 'webring com hub': 959, 'com hub ring': 299, 'cnet com 2100': 247, 'ietf org html': 639, 'tools ietf org': 907}\n",
      "  (1, 732)\t1\n",
      "  (3, 178)\t1\n",
      "  (3, 660)\t1\n",
      "  (3, 808)\t1\n",
      "  (3, 769)\t1\n",
      "  (3, 341)\t1\n",
      "  (3, 934)\t1\n",
      "  (4, 660)\t1\n",
      "  (4, 751)\t1\n",
      "  (4, 813)\t1\n",
      "  (4, 774)\t1\n",
      "  (4, 347)\t1\n",
      "  (4, 903)\t1\n",
      "  (5, 567)\t1\n",
      "  (6, 500)\t1\n",
      "  (11, 757)\t1\n",
      "  (13, 432)\t1\n",
      "  (18, 925)\t1\n",
      "  (18, 695)\t1\n",
      "  (20, 161)\t1\n",
      "  (20, 843)\t1\n",
      "  (22, 4)\t1\n",
      "  (22, 277)\t1\n",
      "  (29, 494)\t1\n",
      "  (29, 966)\t1\n",
      "  :\t:\n",
      "  (650447, 979)\t1\n",
      "  (650455, 984)\t1\n",
      "  (650549, 494)\t1\n",
      "  (650549, 966)\t1\n",
      "  (650599, 984)\t1\n",
      "  (650614, 494)\t1\n",
      "  (650614, 966)\t1\n",
      "  (650636, 494)\t1\n",
      "  (650636, 966)\t1\n",
      "  (650752, 984)\t1\n",
      "  (650807, 494)\t1\n",
      "  (650807, 966)\t1\n",
      "  (650814, 170)\t1\n",
      "  (650824, 494)\t1\n",
      "  (650824, 966)\t1\n",
      "  (650896, 494)\t1\n",
      "  (650896, 966)\t1\n",
      "  (650925, 306)\t1\n",
      "  (650958, 984)\t1\n",
      "  (651002, 984)\t1\n",
      "  (651157, 494)\t1\n",
      "  (651157, 966)\t1\n",
      "  (651189, 494)\t1\n",
      "  (651189, 966)\t1\n",
      "  (651190, 979)\t1\n"
     ]
    }
   ],
   "source": [
    "print(tf_vectorizer.vocabulary_)\n",
    "print(feature_set)"
   ]
  },
  {
   "cell_type": "markdown",
   "metadata": {},
   "source": [
    "### Train Test Split"
   ]
  },
  {
   "cell_type": "code",
   "execution_count": 9,
   "metadata": {},
   "outputs": [],
   "source": [
    "X_train, X_test, y_train, y_test = train_test_split(feature_set, y, test_size=0.2, random_state=69)"
   ]
  },
  {
   "cell_type": "code",
   "execution_count": 10,
   "metadata": {},
   "outputs": [
    {
     "name": "stdout",
     "output_type": "stream",
     "text": [
      "type\n",
      "0    342451\n",
      "1     77182\n",
      "2     75393\n",
      "3     25926\n",
      "Name: count, dtype: int64\n",
      "type\n",
      "0    85652\n",
      "1    19275\n",
      "2    18718\n",
      "3     6594\n",
      "Name: count, dtype: int64\n"
     ]
    }
   ],
   "source": [
    "print(y_train.value_counts())\n",
    "print(y_test.value_counts())"
   ]
  },
  {
   "cell_type": "markdown",
   "metadata": {},
   "source": [
    "### Model"
   ]
  },
  {
   "cell_type": "code",
   "execution_count": 11,
   "metadata": {},
   "outputs": [],
   "source": [
    "model = RandomForestClassifier(n_estimators=50, max_depth=20, random_state=69)"
   ]
  },
  {
   "cell_type": "code",
   "execution_count": 12,
   "metadata": {},
   "outputs": [
    {
     "data": {
      "text/html": [
       "<style>#sk-container-id-1 {\n",
       "  /* Definition of color scheme common for light and dark mode */\n",
       "  --sklearn-color-text: black;\n",
       "  --sklearn-color-line: gray;\n",
       "  /* Definition of color scheme for unfitted estimators */\n",
       "  --sklearn-color-unfitted-level-0: #fff5e6;\n",
       "  --sklearn-color-unfitted-level-1: #f6e4d2;\n",
       "  --sklearn-color-unfitted-level-2: #ffe0b3;\n",
       "  --sklearn-color-unfitted-level-3: chocolate;\n",
       "  /* Definition of color scheme for fitted estimators */\n",
       "  --sklearn-color-fitted-level-0: #f0f8ff;\n",
       "  --sklearn-color-fitted-level-1: #d4ebff;\n",
       "  --sklearn-color-fitted-level-2: #b3dbfd;\n",
       "  --sklearn-color-fitted-level-3: cornflowerblue;\n",
       "\n",
       "  /* Specific color for light theme */\n",
       "  --sklearn-color-text-on-default-background: var(--sg-text-color, var(--theme-code-foreground, var(--jp-content-font-color1, black)));\n",
       "  --sklearn-color-background: var(--sg-background-color, var(--theme-background, var(--jp-layout-color0, white)));\n",
       "  --sklearn-color-border-box: var(--sg-text-color, var(--theme-code-foreground, var(--jp-content-font-color1, black)));\n",
       "  --sklearn-color-icon: #696969;\n",
       "\n",
       "  @media (prefers-color-scheme: dark) {\n",
       "    /* Redefinition of color scheme for dark theme */\n",
       "    --sklearn-color-text-on-default-background: var(--sg-text-color, var(--theme-code-foreground, var(--jp-content-font-color1, white)));\n",
       "    --sklearn-color-background: var(--sg-background-color, var(--theme-background, var(--jp-layout-color0, #111)));\n",
       "    --sklearn-color-border-box: var(--sg-text-color, var(--theme-code-foreground, var(--jp-content-font-color1, white)));\n",
       "    --sklearn-color-icon: #878787;\n",
       "  }\n",
       "}\n",
       "\n",
       "#sk-container-id-1 {\n",
       "  color: var(--sklearn-color-text);\n",
       "}\n",
       "\n",
       "#sk-container-id-1 pre {\n",
       "  padding: 0;\n",
       "}\n",
       "\n",
       "#sk-container-id-1 input.sk-hidden--visually {\n",
       "  border: 0;\n",
       "  clip: rect(1px 1px 1px 1px);\n",
       "  clip: rect(1px, 1px, 1px, 1px);\n",
       "  height: 1px;\n",
       "  margin: -1px;\n",
       "  overflow: hidden;\n",
       "  padding: 0;\n",
       "  position: absolute;\n",
       "  width: 1px;\n",
       "}\n",
       "\n",
       "#sk-container-id-1 div.sk-dashed-wrapped {\n",
       "  border: 1px dashed var(--sklearn-color-line);\n",
       "  margin: 0 0.4em 0.5em 0.4em;\n",
       "  box-sizing: border-box;\n",
       "  padding-bottom: 0.4em;\n",
       "  background-color: var(--sklearn-color-background);\n",
       "}\n",
       "\n",
       "#sk-container-id-1 div.sk-container {\n",
       "  /* jupyter's `normalize.less` sets `[hidden] { display: none; }`\n",
       "     but bootstrap.min.css set `[hidden] { display: none !important; }`\n",
       "     so we also need the `!important` here to be able to override the\n",
       "     default hidden behavior on the sphinx rendered scikit-learn.org.\n",
       "     See: https://github.com/scikit-learn/scikit-learn/issues/21755 */\n",
       "  display: inline-block !important;\n",
       "  position: relative;\n",
       "}\n",
       "\n",
       "#sk-container-id-1 div.sk-text-repr-fallback {\n",
       "  display: none;\n",
       "}\n",
       "\n",
       "div.sk-parallel-item,\n",
       "div.sk-serial,\n",
       "div.sk-item {\n",
       "  /* draw centered vertical line to link estimators */\n",
       "  background-image: linear-gradient(var(--sklearn-color-text-on-default-background), var(--sklearn-color-text-on-default-background));\n",
       "  background-size: 2px 100%;\n",
       "  background-repeat: no-repeat;\n",
       "  background-position: center center;\n",
       "}\n",
       "\n",
       "/* Parallel-specific style estimator block */\n",
       "\n",
       "#sk-container-id-1 div.sk-parallel-item::after {\n",
       "  content: \"\";\n",
       "  width: 100%;\n",
       "  border-bottom: 2px solid var(--sklearn-color-text-on-default-background);\n",
       "  flex-grow: 1;\n",
       "}\n",
       "\n",
       "#sk-container-id-1 div.sk-parallel {\n",
       "  display: flex;\n",
       "  align-items: stretch;\n",
       "  justify-content: center;\n",
       "  background-color: var(--sklearn-color-background);\n",
       "  position: relative;\n",
       "}\n",
       "\n",
       "#sk-container-id-1 div.sk-parallel-item {\n",
       "  display: flex;\n",
       "  flex-direction: column;\n",
       "}\n",
       "\n",
       "#sk-container-id-1 div.sk-parallel-item:first-child::after {\n",
       "  align-self: flex-end;\n",
       "  width: 50%;\n",
       "}\n",
       "\n",
       "#sk-container-id-1 div.sk-parallel-item:last-child::after {\n",
       "  align-self: flex-start;\n",
       "  width: 50%;\n",
       "}\n",
       "\n",
       "#sk-container-id-1 div.sk-parallel-item:only-child::after {\n",
       "  width: 0;\n",
       "}\n",
       "\n",
       "/* Serial-specific style estimator block */\n",
       "\n",
       "#sk-container-id-1 div.sk-serial {\n",
       "  display: flex;\n",
       "  flex-direction: column;\n",
       "  align-items: center;\n",
       "  background-color: var(--sklearn-color-background);\n",
       "  padding-right: 1em;\n",
       "  padding-left: 1em;\n",
       "}\n",
       "\n",
       "\n",
       "/* Toggleable style: style used for estimator/Pipeline/ColumnTransformer box that is\n",
       "clickable and can be expanded/collapsed.\n",
       "- Pipeline and ColumnTransformer use this feature and define the default style\n",
       "- Estimators will overwrite some part of the style using the `sk-estimator` class\n",
       "*/\n",
       "\n",
       "/* Pipeline and ColumnTransformer style (default) */\n",
       "\n",
       "#sk-container-id-1 div.sk-toggleable {\n",
       "  /* Default theme specific background. It is overwritten whether we have a\n",
       "  specific estimator or a Pipeline/ColumnTransformer */\n",
       "  background-color: var(--sklearn-color-background);\n",
       "}\n",
       "\n",
       "/* Toggleable label */\n",
       "#sk-container-id-1 label.sk-toggleable__label {\n",
       "  cursor: pointer;\n",
       "  display: block;\n",
       "  width: 100%;\n",
       "  margin-bottom: 0;\n",
       "  padding: 0.5em;\n",
       "  box-sizing: border-box;\n",
       "  text-align: center;\n",
       "}\n",
       "\n",
       "#sk-container-id-1 label.sk-toggleable__label-arrow:before {\n",
       "  /* Arrow on the left of the label */\n",
       "  content: \"▸\";\n",
       "  float: left;\n",
       "  margin-right: 0.25em;\n",
       "  color: var(--sklearn-color-icon);\n",
       "}\n",
       "\n",
       "#sk-container-id-1 label.sk-toggleable__label-arrow:hover:before {\n",
       "  color: var(--sklearn-color-text);\n",
       "}\n",
       "\n",
       "/* Toggleable content - dropdown */\n",
       "\n",
       "#sk-container-id-1 div.sk-toggleable__content {\n",
       "  max-height: 0;\n",
       "  max-width: 0;\n",
       "  overflow: hidden;\n",
       "  text-align: left;\n",
       "  /* unfitted */\n",
       "  background-color: var(--sklearn-color-unfitted-level-0);\n",
       "}\n",
       "\n",
       "#sk-container-id-1 div.sk-toggleable__content.fitted {\n",
       "  /* fitted */\n",
       "  background-color: var(--sklearn-color-fitted-level-0);\n",
       "}\n",
       "\n",
       "#sk-container-id-1 div.sk-toggleable__content pre {\n",
       "  margin: 0.2em;\n",
       "  border-radius: 0.25em;\n",
       "  color: var(--sklearn-color-text);\n",
       "  /* unfitted */\n",
       "  background-color: var(--sklearn-color-unfitted-level-0);\n",
       "}\n",
       "\n",
       "#sk-container-id-1 div.sk-toggleable__content.fitted pre {\n",
       "  /* unfitted */\n",
       "  background-color: var(--sklearn-color-fitted-level-0);\n",
       "}\n",
       "\n",
       "#sk-container-id-1 input.sk-toggleable__control:checked~div.sk-toggleable__content {\n",
       "  /* Expand drop-down */\n",
       "  max-height: 200px;\n",
       "  max-width: 100%;\n",
       "  overflow: auto;\n",
       "}\n",
       "\n",
       "#sk-container-id-1 input.sk-toggleable__control:checked~label.sk-toggleable__label-arrow:before {\n",
       "  content: \"▾\";\n",
       "}\n",
       "\n",
       "/* Pipeline/ColumnTransformer-specific style */\n",
       "\n",
       "#sk-container-id-1 div.sk-label input.sk-toggleable__control:checked~label.sk-toggleable__label {\n",
       "  color: var(--sklearn-color-text);\n",
       "  background-color: var(--sklearn-color-unfitted-level-2);\n",
       "}\n",
       "\n",
       "#sk-container-id-1 div.sk-label.fitted input.sk-toggleable__control:checked~label.sk-toggleable__label {\n",
       "  background-color: var(--sklearn-color-fitted-level-2);\n",
       "}\n",
       "\n",
       "/* Estimator-specific style */\n",
       "\n",
       "/* Colorize estimator box */\n",
       "#sk-container-id-1 div.sk-estimator input.sk-toggleable__control:checked~label.sk-toggleable__label {\n",
       "  /* unfitted */\n",
       "  background-color: var(--sklearn-color-unfitted-level-2);\n",
       "}\n",
       "\n",
       "#sk-container-id-1 div.sk-estimator.fitted input.sk-toggleable__control:checked~label.sk-toggleable__label {\n",
       "  /* fitted */\n",
       "  background-color: var(--sklearn-color-fitted-level-2);\n",
       "}\n",
       "\n",
       "#sk-container-id-1 div.sk-label label.sk-toggleable__label,\n",
       "#sk-container-id-1 div.sk-label label {\n",
       "  /* The background is the default theme color */\n",
       "  color: var(--sklearn-color-text-on-default-background);\n",
       "}\n",
       "\n",
       "/* On hover, darken the color of the background */\n",
       "#sk-container-id-1 div.sk-label:hover label.sk-toggleable__label {\n",
       "  color: var(--sklearn-color-text);\n",
       "  background-color: var(--sklearn-color-unfitted-level-2);\n",
       "}\n",
       "\n",
       "/* Label box, darken color on hover, fitted */\n",
       "#sk-container-id-1 div.sk-label.fitted:hover label.sk-toggleable__label.fitted {\n",
       "  color: var(--sklearn-color-text);\n",
       "  background-color: var(--sklearn-color-fitted-level-2);\n",
       "}\n",
       "\n",
       "/* Estimator label */\n",
       "\n",
       "#sk-container-id-1 div.sk-label label {\n",
       "  font-family: monospace;\n",
       "  font-weight: bold;\n",
       "  display: inline-block;\n",
       "  line-height: 1.2em;\n",
       "}\n",
       "\n",
       "#sk-container-id-1 div.sk-label-container {\n",
       "  text-align: center;\n",
       "}\n",
       "\n",
       "/* Estimator-specific */\n",
       "#sk-container-id-1 div.sk-estimator {\n",
       "  font-family: monospace;\n",
       "  border: 1px dotted var(--sklearn-color-border-box);\n",
       "  border-radius: 0.25em;\n",
       "  box-sizing: border-box;\n",
       "  margin-bottom: 0.5em;\n",
       "  /* unfitted */\n",
       "  background-color: var(--sklearn-color-unfitted-level-0);\n",
       "}\n",
       "\n",
       "#sk-container-id-1 div.sk-estimator.fitted {\n",
       "  /* fitted */\n",
       "  background-color: var(--sklearn-color-fitted-level-0);\n",
       "}\n",
       "\n",
       "/* on hover */\n",
       "#sk-container-id-1 div.sk-estimator:hover {\n",
       "  /* unfitted */\n",
       "  background-color: var(--sklearn-color-unfitted-level-2);\n",
       "}\n",
       "\n",
       "#sk-container-id-1 div.sk-estimator.fitted:hover {\n",
       "  /* fitted */\n",
       "  background-color: var(--sklearn-color-fitted-level-2);\n",
       "}\n",
       "\n",
       "/* Specification for estimator info (e.g. \"i\" and \"?\") */\n",
       "\n",
       "/* Common style for \"i\" and \"?\" */\n",
       "\n",
       ".sk-estimator-doc-link,\n",
       "a:link.sk-estimator-doc-link,\n",
       "a:visited.sk-estimator-doc-link {\n",
       "  float: right;\n",
       "  font-size: smaller;\n",
       "  line-height: 1em;\n",
       "  font-family: monospace;\n",
       "  background-color: var(--sklearn-color-background);\n",
       "  border-radius: 1em;\n",
       "  height: 1em;\n",
       "  width: 1em;\n",
       "  text-decoration: none !important;\n",
       "  margin-left: 1ex;\n",
       "  /* unfitted */\n",
       "  border: var(--sklearn-color-unfitted-level-1) 1pt solid;\n",
       "  color: var(--sklearn-color-unfitted-level-1);\n",
       "}\n",
       "\n",
       ".sk-estimator-doc-link.fitted,\n",
       "a:link.sk-estimator-doc-link.fitted,\n",
       "a:visited.sk-estimator-doc-link.fitted {\n",
       "  /* fitted */\n",
       "  border: var(--sklearn-color-fitted-level-1) 1pt solid;\n",
       "  color: var(--sklearn-color-fitted-level-1);\n",
       "}\n",
       "\n",
       "/* On hover */\n",
       "div.sk-estimator:hover .sk-estimator-doc-link:hover,\n",
       ".sk-estimator-doc-link:hover,\n",
       "div.sk-label-container:hover .sk-estimator-doc-link:hover,\n",
       ".sk-estimator-doc-link:hover {\n",
       "  /* unfitted */\n",
       "  background-color: var(--sklearn-color-unfitted-level-3);\n",
       "  color: var(--sklearn-color-background);\n",
       "  text-decoration: none;\n",
       "}\n",
       "\n",
       "div.sk-estimator.fitted:hover .sk-estimator-doc-link.fitted:hover,\n",
       ".sk-estimator-doc-link.fitted:hover,\n",
       "div.sk-label-container:hover .sk-estimator-doc-link.fitted:hover,\n",
       ".sk-estimator-doc-link.fitted:hover {\n",
       "  /* fitted */\n",
       "  background-color: var(--sklearn-color-fitted-level-3);\n",
       "  color: var(--sklearn-color-background);\n",
       "  text-decoration: none;\n",
       "}\n",
       "\n",
       "/* Span, style for the box shown on hovering the info icon */\n",
       ".sk-estimator-doc-link span {\n",
       "  display: none;\n",
       "  z-index: 9999;\n",
       "  position: relative;\n",
       "  font-weight: normal;\n",
       "  right: .2ex;\n",
       "  padding: .5ex;\n",
       "  margin: .5ex;\n",
       "  width: min-content;\n",
       "  min-width: 20ex;\n",
       "  max-width: 50ex;\n",
       "  color: var(--sklearn-color-text);\n",
       "  box-shadow: 2pt 2pt 4pt #999;\n",
       "  /* unfitted */\n",
       "  background: var(--sklearn-color-unfitted-level-0);\n",
       "  border: .5pt solid var(--sklearn-color-unfitted-level-3);\n",
       "}\n",
       "\n",
       ".sk-estimator-doc-link.fitted span {\n",
       "  /* fitted */\n",
       "  background: var(--sklearn-color-fitted-level-0);\n",
       "  border: var(--sklearn-color-fitted-level-3);\n",
       "}\n",
       "\n",
       ".sk-estimator-doc-link:hover span {\n",
       "  display: block;\n",
       "}\n",
       "\n",
       "/* \"?\"-specific style due to the `<a>` HTML tag */\n",
       "\n",
       "#sk-container-id-1 a.estimator_doc_link {\n",
       "  float: right;\n",
       "  font-size: 1rem;\n",
       "  line-height: 1em;\n",
       "  font-family: monospace;\n",
       "  background-color: var(--sklearn-color-background);\n",
       "  border-radius: 1rem;\n",
       "  height: 1rem;\n",
       "  width: 1rem;\n",
       "  text-decoration: none;\n",
       "  /* unfitted */\n",
       "  color: var(--sklearn-color-unfitted-level-1);\n",
       "  border: var(--sklearn-color-unfitted-level-1) 1pt solid;\n",
       "}\n",
       "\n",
       "#sk-container-id-1 a.estimator_doc_link.fitted {\n",
       "  /* fitted */\n",
       "  border: var(--sklearn-color-fitted-level-1) 1pt solid;\n",
       "  color: var(--sklearn-color-fitted-level-1);\n",
       "}\n",
       "\n",
       "/* On hover */\n",
       "#sk-container-id-1 a.estimator_doc_link:hover {\n",
       "  /* unfitted */\n",
       "  background-color: var(--sklearn-color-unfitted-level-3);\n",
       "  color: var(--sklearn-color-background);\n",
       "  text-decoration: none;\n",
       "}\n",
       "\n",
       "#sk-container-id-1 a.estimator_doc_link.fitted:hover {\n",
       "  /* fitted */\n",
       "  background-color: var(--sklearn-color-fitted-level-3);\n",
       "}\n",
       "</style><div id=\"sk-container-id-1\" class=\"sk-top-container\"><div class=\"sk-text-repr-fallback\"><pre>RandomForestClassifier(max_depth=20, n_estimators=50, random_state=69)</pre><b>In a Jupyter environment, please rerun this cell to show the HTML representation or trust the notebook. <br />On GitHub, the HTML representation is unable to render, please try loading this page with nbviewer.org.</b></div><div class=\"sk-container\" hidden><div class=\"sk-item\"><div class=\"sk-estimator fitted sk-toggleable\"><input class=\"sk-toggleable__control sk-hidden--visually\" id=\"sk-estimator-id-1\" type=\"checkbox\" checked><label for=\"sk-estimator-id-1\" class=\"sk-toggleable__label fitted sk-toggleable__label-arrow fitted\">&nbsp;&nbsp;RandomForestClassifier<a class=\"sk-estimator-doc-link fitted\" rel=\"noreferrer\" target=\"_blank\" href=\"https://scikit-learn.org/1.4/modules/generated/sklearn.ensemble.RandomForestClassifier.html\">?<span>Documentation for RandomForestClassifier</span></a><span class=\"sk-estimator-doc-link fitted\">i<span>Fitted</span></span></label><div class=\"sk-toggleable__content fitted\"><pre>RandomForestClassifier(max_depth=20, n_estimators=50, random_state=69)</pre></div> </div></div></div></div>"
      ],
      "text/plain": [
       "RandomForestClassifier(max_depth=20, n_estimators=50, random_state=69)"
      ]
     },
     "execution_count": 12,
     "metadata": {},
     "output_type": "execute_result"
    }
   ],
   "source": [
    "model.fit(X_train, y_train)"
   ]
  },
  {
   "cell_type": "markdown",
   "metadata": {},
   "source": [
    "### Evaluation"
   ]
  },
  {
   "cell_type": "code",
   "execution_count": 13,
   "metadata": {},
   "outputs": [],
   "source": [
    "def calc_FNR_accuracy(y_true, y_pred):\n",
    "    conf_matrix = confusion_matrix(y_true, y_pred)\n",
    "    for label_class in range(4):\n",
    "        FN = sum(conf_matrix[label_class][i] for i in range(len(conf_matrix)) if i != label_class)  \n",
    "        \n",
    "        TP = conf_matrix[label_class][label_class]  \n",
    "        \n",
    "        TN = np.sum(np.delete(np.delete(conf_matrix, label_class, axis=0), label_class, axis=1))\n",
    "        \n",
    "        accuracy = (TP + TN) / np.sum(conf_matrix)\n",
    "        print(\"Accuracy for class\", label_class, \":\", accuracy)\n",
    "\n",
    "        FNR = FN / (FN + TP) if (FN + TP) > 0 else -1\n",
    "        print(\"FNR for class\", label_class, \":\", FNR)"
   ]
  },
  {
   "cell_type": "markdown",
   "metadata": {},
   "source": [
    "#### Malicious URLS (multi-class)\n",
    "1) Benign       = 0\n",
    "2) Defacement   = 1\n",
    "3) Phishing     = 2\n",
    "4) Malware      = 3 "
   ]
  },
  {
   "cell_type": "code",
   "execution_count": 14,
   "metadata": {},
   "outputs": [],
   "source": [
    "y_pred = model.predict(X_test)"
   ]
  },
  {
   "cell_type": "code",
   "execution_count": 15,
   "metadata": {},
   "outputs": [],
   "source": [
    "accuracy = accuracy_score(y_test, y_pred)\n",
    "precision = precision_score(y_test, y_pred, average='weighted')\n",
    "recall = recall_score(y_test, y_pred, average='weighted')\n",
    "f1 = f1_score(y_test, y_pred, average='weighted')\n",
    "\n",
    "class_test_precision, class_test_recall, class_test_f1, class_ = precision_recall_fscore_support(y_test, y_pred)"
   ]
  },
  {
   "cell_type": "code",
   "execution_count": 16,
   "metadata": {},
   "outputs": [
    {
     "name": "stdout",
     "output_type": "stream",
     "text": [
      "OVERALL: Accuracy: 0.74511475, Precision: 0.81467527, Recall: 0.74511475, f1 Score: 0.67663037\n"
     ]
    }
   ],
   "source": [
    "print(f'OVERALL: Accuracy: {accuracy:.8f}, Precision: {precision:.8f}, Recall: {recall:.8f}, f1 Score: {f1:.8f}')"
   ]
  },
  {
   "cell_type": "code",
   "execution_count": 17,
   "metadata": {},
   "outputs": [
    {
     "name": "stdout",
     "output_type": "stream",
     "text": [
      "Class 0:\tTest Precision: 0.72116876,\tTest Recall: 0.99905431,\tTest f1: 0.83766666\n",
      "Class 1:\tTest Precision: 0.98806294,\tTest Recall: 0.47237354,\tTest f1: 0.63917164\n",
      "Class 2:\tTest Precision: 0.99871959,\tTest Recall: 0.04167112,\tTest f1: 0.08000410\n",
      "Class 3:\tTest Precision: 1.00000000,\tTest Recall: 0.24067334,\tTest f1: 0.38797213\n"
     ]
    }
   ],
   "source": [
    "for i in range(4):\n",
    "    print(f'Class {i}:\\tTest Precision: {class_test_precision[i]:.8f},\\tTest Recall: {class_test_recall[i]:.8f},\\tTest f1: {class_test_f1[i]:.8f}')"
   ]
  },
  {
   "cell_type": "code",
   "execution_count": 18,
   "metadata": {},
   "outputs": [
    {
     "name": "stdout",
     "output_type": "stream",
     "text": [
      "Accuracy for class 0 : 0.745345096322914\n",
      "FNR for class 0 : 0.0009456871993648718\n",
      "Accuracy for class 1 : 0.9210681900198865\n",
      "FNR for class 1 : 0.5276264591439689\n",
      "Accuracy for class 2 : 0.862260920308049\n",
      "FNR for class 2 : 0.9583288812907362\n",
      "Accuracy for class 3 : 0.96155529449704\n",
      "FNR for class 3 : 0.759326660600546\n"
     ]
    }
   ],
   "source": [
    "calc_FNR_accuracy(y_test, y_pred)"
   ]
  },
  {
   "cell_type": "markdown",
   "metadata": {},
   "source": [
    "#### External Datasets"
   ]
  },
  {
   "cell_type": "code",
   "execution_count": 19,
   "metadata": {},
   "outputs": [
    {
     "data": {
      "text/plain": [
       "0                       https://servicecu.mobi/Service\n",
       "1          https://sp581716.sitebeat.crazydomains.com/\n",
       "2          https://sp774647.sitebeat.crazydomains.com/\n",
       "3          https://sp779562.sitebeat.crazydomains.com/\n",
       "4    https://manaliindiancuisine.es//gmx/rechnung/d...\n",
       "Name: url, dtype: object"
      ]
     },
     "execution_count": 19,
     "metadata": {},
     "output_type": "execute_result"
    }
   ],
   "source": [
    "# phishing\n",
    "df_phish = pd.read_csv('../datasets/phishtank_phish_urls.csv').iloc[:, 0]\n",
    "df_phish.head()"
   ]
  },
  {
   "cell_type": "code",
   "execution_count": 20,
   "metadata": {},
   "outputs": [],
   "source": [
    "y_pred_phish = model.predict(get_trigram_feature_set(df_phish, vectorizer=tf_vectorizer))\n",
    "y_test_phish = np.full((df_phish.shape[0],), 2)"
   ]
  },
  {
   "cell_type": "code",
   "execution_count": 21,
   "metadata": {},
   "outputs": [
    {
     "name": "stderr",
     "output_type": "stream",
     "text": [
      "c:\\Users\\Hong\\AppData\\Local\\Programs\\Python\\Python311\\Lib\\site-packages\\sklearn\\metrics\\_classification.py:1509: UndefinedMetricWarning: Precision is ill-defined and being set to 0.0 in labels with no predicted samples. Use `zero_division` parameter to control this behavior.\n",
      "  _warn_prf(average, modifier, f\"{metric.capitalize()} is\", len(result))\n",
      "c:\\Users\\Hong\\AppData\\Local\\Programs\\Python\\Python311\\Lib\\site-packages\\sklearn\\metrics\\_classification.py:1509: UndefinedMetricWarning: Recall is ill-defined and being set to 0.0 in labels with no true samples. Use `zero_division` parameter to control this behavior.\n",
      "  _warn_prf(average, modifier, f\"{metric.capitalize()} is\", len(result))\n"
     ]
    }
   ],
   "source": [
    "phish_accuracy = accuracy_score(y_test_phish, y_pred_phish)\n",
    "phish_precision = precision_score(y_test_phish, y_pred_phish, average='weighted')\n",
    "phish_recall = recall_score(y_test_phish, y_pred_phish, average='weighted')\n",
    "phish_f1 = f1_score(y_test_phish, y_pred_phish, average='weighted')"
   ]
  },
  {
   "cell_type": "code",
   "execution_count": 22,
   "metadata": {},
   "outputs": [
    {
     "name": "stdout",
     "output_type": "stream",
     "text": [
      "OVERALL: Accuracy: 0.00000000, Precision: 0.00000000, Recall: 0.00000000, f1 Score: 0.00000000\n"
     ]
    }
   ],
   "source": [
    "print(f'OVERALL: Accuracy: {phish_accuracy:.8f}, Precision: {phish_precision:.8f}, Recall: {phish_recall:.8f}, f1 Score: {phish_f1:.8f}')"
   ]
  },
  {
   "cell_type": "code",
   "execution_count": 23,
   "metadata": {},
   "outputs": [
    {
     "name": "stdout",
     "output_type": "stream",
     "text": [
      "Accuracy for class 0 : 8.434263351438886e-05\n",
      "FNR for class 0 : -1\n",
      "Accuracy for class 1 : 0.9999156573664856\n",
      "FNR for class 1 : -1\n",
      "Accuracy for class 2 : 0.0\n",
      "FNR for class 2 : 1.0\n"
     ]
    },
    {
     "ename": "IndexError",
     "evalue": "index 3 is out of bounds for axis 0 with size 3",
     "output_type": "error",
     "traceback": [
      "\u001b[1;31m---------------------------------------------------------------------------\u001b[0m",
      "\u001b[1;31mIndexError\u001b[0m                                Traceback (most recent call last)",
      "Cell \u001b[1;32mIn[23], line 1\u001b[0m\n\u001b[1;32m----> 1\u001b[0m \u001b[43mcalc_FNR_accuracy\u001b[49m\u001b[43m(\u001b[49m\u001b[43my_test_phish\u001b[49m\u001b[43m,\u001b[49m\u001b[43m \u001b[49m\u001b[43my_pred_phish\u001b[49m\u001b[43m)\u001b[49m\n",
      "Cell \u001b[1;32mIn[13], line 4\u001b[0m, in \u001b[0;36mcalc_FNR_accuracy\u001b[1;34m(y_true, y_pred)\u001b[0m\n\u001b[0;32m      2\u001b[0m conf_matrix \u001b[38;5;241m=\u001b[39m confusion_matrix(y_true, y_pred)\n\u001b[0;32m      3\u001b[0m \u001b[38;5;28;01mfor\u001b[39;00m label_class \u001b[38;5;129;01min\u001b[39;00m \u001b[38;5;28mrange\u001b[39m(\u001b[38;5;241m4\u001b[39m):\n\u001b[1;32m----> 4\u001b[0m     FN \u001b[38;5;241m=\u001b[39m \u001b[38;5;28msum\u001b[39m(conf_matrix[label_class][i] \u001b[38;5;28;01mfor\u001b[39;00m i \u001b[38;5;129;01min\u001b[39;00m \u001b[38;5;28mrange\u001b[39m(\u001b[38;5;28mlen\u001b[39m(conf_matrix)) \u001b[38;5;28;01mif\u001b[39;00m i \u001b[38;5;241m!=\u001b[39m label_class)  \n\u001b[0;32m      6\u001b[0m     TP \u001b[38;5;241m=\u001b[39m conf_matrix[label_class][label_class]  \n\u001b[0;32m      8\u001b[0m     TN \u001b[38;5;241m=\u001b[39m np\u001b[38;5;241m.\u001b[39msum(np\u001b[38;5;241m.\u001b[39mdelete(np\u001b[38;5;241m.\u001b[39mdelete(conf_matrix, label_class, axis\u001b[38;5;241m=\u001b[39m\u001b[38;5;241m0\u001b[39m), label_class, axis\u001b[38;5;241m=\u001b[39m\u001b[38;5;241m1\u001b[39m))\n",
      "Cell \u001b[1;32mIn[13], line 4\u001b[0m, in \u001b[0;36m<genexpr>\u001b[1;34m(.0)\u001b[0m\n\u001b[0;32m      2\u001b[0m conf_matrix \u001b[38;5;241m=\u001b[39m confusion_matrix(y_true, y_pred)\n\u001b[0;32m      3\u001b[0m \u001b[38;5;28;01mfor\u001b[39;00m label_class \u001b[38;5;129;01min\u001b[39;00m \u001b[38;5;28mrange\u001b[39m(\u001b[38;5;241m4\u001b[39m):\n\u001b[1;32m----> 4\u001b[0m     FN \u001b[38;5;241m=\u001b[39m \u001b[38;5;28msum\u001b[39m(\u001b[43mconf_matrix\u001b[49m\u001b[43m[\u001b[49m\u001b[43mlabel_class\u001b[49m\u001b[43m]\u001b[49m[i] \u001b[38;5;28;01mfor\u001b[39;00m i \u001b[38;5;129;01min\u001b[39;00m \u001b[38;5;28mrange\u001b[39m(\u001b[38;5;28mlen\u001b[39m(conf_matrix)) \u001b[38;5;28;01mif\u001b[39;00m i \u001b[38;5;241m!=\u001b[39m label_class)  \n\u001b[0;32m      6\u001b[0m     TP \u001b[38;5;241m=\u001b[39m conf_matrix[label_class][label_class]  \n\u001b[0;32m      8\u001b[0m     TN \u001b[38;5;241m=\u001b[39m np\u001b[38;5;241m.\u001b[39msum(np\u001b[38;5;241m.\u001b[39mdelete(np\u001b[38;5;241m.\u001b[39mdelete(conf_matrix, label_class, axis\u001b[38;5;241m=\u001b[39m\u001b[38;5;241m0\u001b[39m), label_class, axis\u001b[38;5;241m=\u001b[39m\u001b[38;5;241m1\u001b[39m))\n",
      "\u001b[1;31mIndexError\u001b[0m: index 3 is out of bounds for axis 0 with size 3"
     ]
    }
   ],
   "source": [
    "calc_FNR_accuracy(y_test_phish, y_pred_phish)"
   ]
  },
  {
   "cell_type": "markdown",
   "metadata": {},
   "source": [
    "___"
   ]
  },
  {
   "cell_type": "code",
   "execution_count": null,
   "metadata": {},
   "outputs": [],
   "source": [
    "# benign\n",
    "df_benign = pd.read_csv('../datasets/benign_urls.csv').iloc[:, 0]\n",
    "df_benign.head()"
   ]
  },
  {
   "cell_type": "code",
   "execution_count": null,
   "metadata": {},
   "outputs": [],
   "source": [
    "y_pred_benign = model.predict(get_trigram_feature_set(df_benign, vectorizer=tf_vectorizer))\n",
    "y_test_benign = np.full((df_benign.shape[0],), 0)"
   ]
  },
  {
   "cell_type": "code",
   "execution_count": null,
   "metadata": {},
   "outputs": [],
   "source": [
    "benign_accuracy = accuracy_score(y_test_benign, y_pred_benign)\n",
    "benign_precision = precision_score(y_test_benign, y_pred_benign, average='weighted')\n",
    "benign_recall = recall_score(y_test_benign, y_pred_benign, average='weighted')\n",
    "benign_f1 = f1_score(y_test_benign, y_pred_benign, average='weighted')"
   ]
  },
  {
   "cell_type": "code",
   "execution_count": null,
   "metadata": {},
   "outputs": [],
   "source": [
    "print(f'OVERALL: Accuracy: {benign_accuracy:.8f}, Precision: {benign_precision:.8f}, Recall: {benign_recall:.8f}, f1 Score: {benign_f1:.8f}')"
   ]
  },
  {
   "cell_type": "code",
   "execution_count": null,
   "metadata": {},
   "outputs": [],
   "source": [
    "calc_FNR_accuracy(y_test_benign, y_pred_benign)"
   ]
  }
 ],
 "metadata": {
  "kernelspec": {
   "display_name": "Python 3",
   "language": "python",
   "name": "python3"
  },
  "language_info": {
   "codemirror_mode": {
    "name": "ipython",
    "version": 3
   },
   "file_extension": ".py",
   "mimetype": "text/x-python",
   "name": "python",
   "nbconvert_exporter": "python",
   "pygments_lexer": "ipython3",
   "version": "3.11.8"
  }
 },
 "nbformat": 4,
 "nbformat_minor": 2
}
