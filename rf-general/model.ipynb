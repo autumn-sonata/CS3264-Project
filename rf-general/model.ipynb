{
 "cells": [
  {
   "cell_type": "markdown",
   "metadata": {},
   "source": [
    "### Predictions"
   ]
  },
  {
   "cell_type": "code",
   "execution_count": 7,
   "metadata": {},
   "outputs": [],
   "source": [
    "import pandas as pd\n",
    "from sklearn.ensemble import RandomForestClassifier\n",
    "from sklearn.model_selection import train_test_split\n",
    "from sklearn.metrics import accuracy_score, f1_score\n",
    "from sklearn.feature_selection import SelectKBest, mutual_info_classif \n",
    "from sklearn.preprocessing import MaxAbsScaler\n",
    "import numpy as np\n",
    "from sklearn.metrics import confusion_matrix\n",
    "from sklearn.metrics import precision_score, recall_score, f1_score, precision_recall_fscore_support\n"
   ]
  },
  {
   "cell_type": "code",
   "execution_count": 8,
   "metadata": {},
   "outputs": [],
   "source": [
    "column_names = ['www', 'url_length', 'digit_count', 'dot_count',\n",
    "                'bs_count', 'dash_count', 'url_entropy', 'params_count', 'subdomain_count',\n",
    "                'domain_extension', 'underscores_count', 'questionmarks_count', 'equals_count', 'ampersands_count', 'digit_letter_ratio', \n",
    "                \n",
    "                'pd_num_count', 'pd_non_alphanumeric_count', \n",
    "                \n",
    "                'uppercase_dirs', 'path_count_special_chars',\n",
    "                'path_uppercase_to_lowercase_ratio', 'params_length', 'queries_count']\n",
    "\n",
    "X_train_path = \"feature_updated_dataset_X.csv\"\n",
    "y_train_path = \"../datasets/feature_updated_dataset_y.csv\"\n",
    "benign_dataset_path = \"benign_dataset_X.csv\"\n",
    "phishing_dataset_path = \"phishing_dataset_X.csv\"\n",
    "\n",
    "def calc_FNR_accuracy(y_true, y_pred):\n",
    "    conf_matrix = confusion_matrix(y_true, y_pred)\n",
    "    for label_class in range(4):\n",
    "        FN = sum(conf_matrix[label_class][i] for i in range(len(conf_matrix)) if i != label_class)  \n",
    "        \n",
    "        TP = conf_matrix[label_class][label_class]  \n",
    "        \n",
    "        TN = np.sum(np.delete(np.delete(conf_matrix, label_class, axis=0), label_class, axis=1))\n",
    "        \n",
    "        accuracy = (TP + TN) / np.sum(conf_matrix)\n",
    "        print(\"Accuracy for class\", label_class, \":\", accuracy)\n",
    "\n",
    "        FNR = FN / (FN + TP) if (FN + TP) > 0 else -1\n",
    "        print(\"FNR for class\", label_class, \":\", FNR)"
   ]
  },
  {
   "cell_type": "markdown",
   "metadata": {},
   "source": [
    "### Selected feature evaluation - Malicious URLs"
   ]
  },
  {
   "cell_type": "code",
   "execution_count": 9,
   "metadata": {},
   "outputs": [
    {
     "name": "stdout",
     "output_type": "stream",
     "text": [
      "Accuracy: 0.9506752969540614 | F1 score: 0.9496420710643027 | RandomForestClassifier\n"
     ]
    }
   ],
   "source": [
    "X_train = pd.read_csv(X_train_path)\n",
    "y_train = pd.read_csv(y_train_path)\n",
    "y_train = y_train.values.ravel()\n",
    "\n",
    "X_train, X_test, y_train, y_test = train_test_split(X_train, y_train, test_size=0.2, random_state=69)\n",
    "\n",
    "scaler = MaxAbsScaler()\n",
    "X_train = scaler.fit_transform(X_train)\n",
    "X_test = scaler.transform(X_test)\n",
    "\n",
    "model = RandomForestClassifier(n_estimators=50, max_depth=20, random_state=69)\n",
    "model.fit(X_train, y_train)\n",
    "\n",
    "y_pred = model.predict(X_test)\n",
    "accuracy = accuracy_score(y_test, y_pred)\n",
    "f1 = f1_score(y_test, y_pred, average='weighted')\n",
    "\n",
    "print(f\"Accuracy: {accuracy} | F1 score: {f1} | {model.__class__.__name__}\")"
   ]
  },
  {
   "cell_type": "code",
   "execution_count": 10,
   "metadata": {},
   "outputs": [
    {
     "name": "stdout",
     "output_type": "stream",
     "text": [
      "OVERALL: Accuracy: 0.95067530, Precision: 0.95027579, Recall: 0.95067530, F1 Score: 0.94964207\n",
      "Class 0:\tTest Precision: 0.95217465,\tTest Recall: 0.98791594,\tTest f1: 0.96971607\n",
      "Class 1:\tTest Precision: 0.96066077,\tTest Recall: 0.94127412,\tTest f1: 0.95086864\n",
      "Class 2:\tTest Precision: 0.91526348,\tTest Recall: 0.80725466,\tTest f1: 0.85787278\n",
      "Class 3:\tTest Precision: 0.99464614,\tTest Recall: 0.90157719,\tTest f1: 0.94582770\n",
      "Accuracy for class 0 : 0.9594207572232588\n",
      "FNR for class 0 : 0.012084063047285465\n",
      "Accuracy for class 1 : 0.9856033906894248\n",
      "FNR for class 1 : 0.05872587673791243\n",
      "Accuracy for class 2 : 0.96155529449704\n",
      "FNR for class 2 : 0.19274533896041454\n",
      "Accuracy for class 3 : 0.9947711514983991\n",
      "FNR for class 3 : 0.09842280861389141\n"
     ]
    }
   ],
   "source": [
    "precision = precision_score(y_test, y_pred, average='weighted')\n",
    "recall = recall_score(y_test, y_pred, average='weighted')\n",
    "f1 = f1_score(y_test, y_pred, average='weighted')\n",
    "val_accuracy = accuracy_score(y_test, y_pred)\n",
    "print(f'OVERALL: Accuracy: {val_accuracy:.8f}, Precision: {precision:.8f}, Recall: {recall:.8f}, F1 Score: {f1:.8f}')\n",
    "\n",
    "class_test_precision, class_test_recall, class_test_f1, class_ = precision_recall_fscore_support(y_test, y_pred)\n",
    "for i in range(4):\n",
    "    print(f'Class {i}:\\tTest Precision: {class_test_precision[i]:.8f},\\tTest Recall: {class_test_recall[i]:.8f},\\tTest f1: {class_test_f1[i]:.8f}')\n",
    "calc_FNR_accuracy(y_test, y_pred)"
   ]
  },
  {
   "cell_type": "markdown",
   "metadata": {},
   "source": [
    "### Selected feature evaluation - External Datasets"
   ]
  },
  {
   "cell_type": "code",
   "execution_count": 11,
   "metadata": {},
   "outputs": [
    {
     "name": "stdout",
     "output_type": "stream",
     "text": [
      "Accuracy: 0.03275890992601334 | F1 score: 0.06343960746532834 | RandomForestClassifier\n",
      "0.03275890992601334\n",
      "0.45704550844859404\n",
      "0.5079684616675054\n",
      "0.0022271199578871863\n",
      "OVERALL: Accuracy: 0.03275891, Precision: 1.00000000, Recall: 0.03275891, F1 Score: 0.06343961\n",
      "Class 0:\tTest Precision: 1.00000000,\tTest Recall: 0.03275891,\tTest f1: 0.06343961\n",
      "Class 1:\tTest Precision: 0.00000000,\tTest Recall: 0.00000000,\tTest f1: 0.00000000\n",
      "Class 2:\tTest Precision: 0.00000000,\tTest Recall: 0.00000000,\tTest f1: 0.00000000\n",
      "Class 3:\tTest Precision: 0.00000000,\tTest Recall: 0.00000000,\tTest f1: 0.00000000\n",
      "Accuracy for class 0 : 0.03275890992601334\n",
      "FNR for class 0 : 0.9672410900739866\n",
      "Accuracy for class 1 : 0.542954491551406\n",
      "FNR for class 1 : -1\n",
      "Accuracy for class 2 : 0.4920315383324945\n",
      "FNR for class 2 : -1\n",
      "Accuracy for class 3 : 0.9977728800421128\n",
      "FNR for class 3 : -1\n"
     ]
    },
    {
     "name": "stderr",
     "output_type": "stream",
     "text": [
      "/Users/asonata/anaconda3/envs/cs3264/lib/python3.12/site-packages/sklearn/metrics/_classification.py:1509: UndefinedMetricWarning: Recall is ill-defined and being set to 0.0 in labels with no true samples. Use `zero_division` parameter to control this behavior.\n",
      "  _warn_prf(average, modifier, f\"{metric.capitalize()} is\", len(result))\n",
      "/Users/asonata/anaconda3/envs/cs3264/lib/python3.12/site-packages/sklearn/metrics/_classification.py:1509: UndefinedMetricWarning: Recall is ill-defined and being set to 0.0 in labels with no true samples. Use `zero_division` parameter to control this behavior.\n",
      "  _warn_prf(average, modifier, f\"{metric.capitalize()} is\", len(result))\n"
     ]
    },
    {
     "name": "stdout",
     "output_type": "stream",
     "text": [
      "Accuracy: 0.8591140649775648 | F1 score: 0.9242187783544442 | RandomForestClassifier\n",
      "0.09869774973853783\n",
      "0.03942174690462535\n",
      "0.8591140649775648\n",
      "0.0027664383792719545\n",
      "OVERALL: Accuracy: 0.85911406, Precision: 1.00000000, Recall: 0.85911406, F1 Score: 0.92421878\n",
      "Class 0:\tTest Precision: 0.00000000,\tTest Recall: 0.00000000,\tTest f1: 0.00000000\n",
      "Class 1:\tTest Precision: 0.00000000,\tTest Recall: 0.00000000,\tTest f1: 0.00000000\n",
      "Class 2:\tTest Precision: 1.00000000,\tTest Recall: 0.85911406,\tTest f1: 0.92421878\n",
      "Class 3:\tTest Precision: 0.00000000,\tTest Recall: 0.00000000,\tTest f1: 0.00000000\n",
      "Accuracy for class 0 : 0.9013022502614622\n",
      "FNR for class 0 : -1\n",
      "Accuracy for class 1 : 0.9605782530953747\n",
      "FNR for class 1 : -1\n",
      "Accuracy for class 2 : 0.8591140649775648\n",
      "FNR for class 2 : 0.14088593502243513\n",
      "Accuracy for class 3 : 0.9972335616207281\n",
      "FNR for class 3 : -1\n"
     ]
    },
    {
     "name": "stderr",
     "output_type": "stream",
     "text": [
      "/Users/asonata/anaconda3/envs/cs3264/lib/python3.12/site-packages/sklearn/metrics/_classification.py:1509: UndefinedMetricWarning: Recall is ill-defined and being set to 0.0 in labels with no true samples. Use `zero_division` parameter to control this behavior.\n",
      "  _warn_prf(average, modifier, f\"{metric.capitalize()} is\", len(result))\n",
      "/Users/asonata/anaconda3/envs/cs3264/lib/python3.12/site-packages/sklearn/metrics/_classification.py:1509: UndefinedMetricWarning: Recall is ill-defined and being set to 0.0 in labels with no true samples. Use `zero_division` parameter to control this behavior.\n",
      "  _warn_prf(average, modifier, f\"{metric.capitalize()} is\", len(result))\n"
     ]
    }
   ],
   "source": [
    "def evaluate(X_test_path, label):\n",
    "    X_train = pd.read_csv(X_train_path)\n",
    "    y_train = pd.read_csv(y_train_path)\n",
    "    X_test = pd.read_csv(X_test_path)\n",
    "    y_train = y_train.values.ravel()\n",
    "\n",
    "    scaler = MaxAbsScaler()\n",
    "    X_train = scaler.fit_transform(X_train)\n",
    "    X_test = scaler.transform(X_test)\n",
    "\n",
    "    model = RandomForestClassifier(n_estimators=50, max_depth=20, random_state=69)\n",
    "    model.fit(X_train, y_train)\n",
    "\n",
    "    y_pred = model.predict(X_test)\n",
    "    y_test = np.full((X_test.shape[0],), label)\n",
    "    accuracy = accuracy_score(y_test, y_pred)\n",
    "    f1 = f1_score(y_test, y_pred, average='weighted')\n",
    "\n",
    "    print(f\"Accuracy: {accuracy} | F1 score: {f1} | {model.__class__.__name__}\")\n",
    "    print(np.count_nonzero(y_pred == 0)/len(y_pred))\n",
    "    print(np.count_nonzero(y_pred == 1)/len(y_pred))\n",
    "    print(np.count_nonzero(y_pred == 2)/len(y_pred))\n",
    "    print(np.count_nonzero(y_pred == 3)/len(y_pred))\n",
    "\n",
    "    precision = precision_score(y_test, y_pred, average='weighted')\n",
    "    recall = recall_score(y_test, y_pred, average='weighted')\n",
    "    f1 = f1_score(y_test, y_pred, average='weighted')\n",
    "    val_accuracy = accuracy_score(y_test, y_pred)\n",
    "    print(f'OVERALL: Accuracy: {val_accuracy:.8f}, Precision: {precision:.8f}, Recall: {recall:.8f}, F1 Score: {f1:.8f}')\n",
    "\n",
    "    class_test_precision, class_test_recall, class_test_f1, class_ = precision_recall_fscore_support(y_test, y_pred)\n",
    "    for i in range(4):\n",
    "        print(f'Class {i}:\\tTest Precision: {class_test_precision[i]:.8f},\\tTest Recall: {class_test_recall[i]:.8f},\\tTest f1: {class_test_f1[i]:.8f}')\n",
    "    calc_FNR_accuracy(y_test, y_pred)\n",
    "\n",
    "evaluate(benign_dataset_path, 0) # Benign\n",
    "evaluate(phishing_dataset_path, 2) # Phishing"
   ]
  },
  {
   "cell_type": "markdown",
   "metadata": {},
   "source": [
    "### Feature selection"
   ]
  },
  {
   "cell_type": "code",
   "execution_count": 12,
   "metadata": {},
   "outputs": [],
   "source": [
    "# column_names = ['www', 'url_length', 'digit_count', 'percentage_count', 'dot_count',\n",
    "#                 'bs_count', 'dash_count', 'url_entropy', 'params_count', 'subdomain_count',\n",
    "#                 'domain_extension', 'semicolon_count', 'underscores_count', 'questionmarks_count', 'equals_count', 'ampersands_count', 'digit_letter_ratio', \n",
    "                \n",
    "#                 'pd_num_count', 'pd_non_alphanumeric_count', 'pd_at_count', 'pd_hyphen_count', 'pd_in_alex_top_1m',\n",
    "                \n",
    "#                 'path_double_slash_count', 'percent20_presence', 'uppercase_dirs', 'single_char_dirs', 'path_count_special_chars',\n",
    "#                 'path_zeroes_count', 'path_uppercase_to_lowercase_ratio', 'params_length', 'queries_count']\n",
    "\n",
    "# X_train = pd.read_csv(X_train_path)\n",
    "# y_train = pd.read_csv(y_train_path)\n",
    "# y_train = y_train.values.ravel()\n",
    "\n",
    "# X_train, X_test, y_train, y_test = train_test_split(X_train, y_train, test_size=0.2, random_state=69)\n",
    "\n",
    "# scaler = MaxAbsScaler()\n",
    "# X_train = scaler.fit_transform(X_train)\n",
    "# X_test = scaler.transform(X_test)\n",
    "\n",
    "# for i in range(1, X_train.shape[1] + 1):\n",
    "#     # Compare current score with previous score and filter out those below previous_score\n",
    "#     best_f1 = 0\n",
    "#     best_features = []\n",
    "\n",
    "#     model = RandomForestClassifier(n_estimators=50, max_depth=20, random_state=69)\n",
    "#     select_feature_model = SelectKBest(mutual_info_classif, k=i)\n",
    "#     X_train_partition = select_feature_model.fit_transform(X_train, y_train)\n",
    "#     model.fit(X_train_partition, y_train)\n",
    "#     X_test_partition = select_feature_model.transform(X_test)\n",
    "#     y_pred = model.predict(X_test_partition)\n",
    "\n",
    "#     indexes = select_feature_model.get_support(indices=True)\n",
    "#     features_used = np.array(column_names)[indexes]\n",
    "    \n",
    "#     # Verifying model fit\n",
    "#     accuracy = accuracy_score(y_test, y_pred)\n",
    "#     f1 = f1_score(y_test, y_pred, average='weighted')\n",
    "#     if f1 > best_f1:\n",
    "#         best_f1 = f1\n",
    "#         best_features = features_used\n",
    "\n",
    "#     print(f\"Accuracy: {accuracy} | F1 score: {f1} | {model.__class__.__name__} | Number of features: {i} | Features: {features_used}\")\n",
    "#     print(np.count_nonzero(y_pred == 0)/len(y_pred))\n",
    "#     print(np.count_nonzero(y_pred == 1)/len(y_pred))\n",
    "#     print(np.count_nonzero(y_pred == 2)/len(y_pred))\n",
    "#     print(np.count_nonzero(y_pred == 3)/len(y_pred))\n",
    "\n",
    "# print(f\"Best features: {best_features} | F1: {best_f1}\")"
   ]
  }
 ],
 "metadata": {
  "kernelspec": {
   "display_name": "cs3264",
   "language": "python",
   "name": "python3"
  },
  "language_info": {
   "codemirror_mode": {
    "name": "ipython",
    "version": 3
   },
   "file_extension": ".py",
   "mimetype": "text/x-python",
   "name": "python",
   "nbconvert_exporter": "python",
   "pygments_lexer": "ipython3",
   "version": "3.12.2"
  }
 },
 "nbformat": 4,
 "nbformat_minor": 2
}
