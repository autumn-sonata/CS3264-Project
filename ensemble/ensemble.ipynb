{
 "cells": [
  {
   "cell_type": "markdown",
   "metadata": {},
   "source": [
    "## Combined models\n",
    "1) rf-benign-specialize\n",
    "2) rf-general\n",
    "3) rf-lexical"
   ]
  },
  {
   "cell_type": "code",
   "execution_count": 116,
   "metadata": {},
   "outputs": [],
   "source": [
    "import os\n",
    "import pickle\n",
    "\n",
    "from collections import defaultdict\n",
    "import numpy as np\n",
    "import pandas as pd \n",
    "from sklearn.neural_network import MLPClassifier\n",
    "from sklearn.metrics import confusion_matrix\n",
    "from sklearn.metrics import accuracy_score, precision_score, recall_score, f1_score, precision_recall_fscore_support\n",
    "from sklearn.model_selection import train_test_split\n",
    "from sklearn.preprocessing import MaxAbsScaler"
   ]
  },
  {
   "cell_type": "code",
   "execution_count": 117,
   "metadata": {},
   "outputs": [],
   "source": [
    "def classification_type(type):\n",
    "    '''\n",
    "    Convert classification type into values:\n",
    "        1) Benign = 0\n",
    "        2) Defacement = 1\n",
    "        3) Phishing = 2\n",
    "        4) Malware = 3    \n",
    "    '''\n",
    "    if type == \"benign\":\n",
    "        return 0\n",
    "    elif type == \"defacement\":\n",
    "        return 1\n",
    "    elif type == \"phishing\":\n",
    "        return 2\n",
    "    elif type == \"malware\":\n",
    "        return 3\n",
    "    else:\n",
    "        print(f\"Unable to find proper type: {type}\")\n",
    "\n",
    "\n",
    "def calc_FNR_accuracy(y_true, y_pred):\n",
    "    conf_matrix = confusion_matrix(y_true, y_pred)\n",
    "    for label_class in range(4):\n",
    "        FN = sum(conf_matrix[label_class][i] for i in range(len(conf_matrix)) if i != label_class)  \n",
    "        \n",
    "        TP = conf_matrix[label_class][label_class]  \n",
    "        \n",
    "        TN = np.sum(np.delete(np.delete(conf_matrix, label_class, axis=0), label_class, axis=1))\n",
    "        \n",
    "        accuracy = (TP + TN) / np.sum(conf_matrix)\n",
    "        print(\"Accuracy for class\", label_class, \":\", accuracy)\n",
    "\n",
    "        FNR = FN / (FN + TP) if (FN + TP) > 0 else -1\n",
    "        print(\"FNR for class\", label_class, \":\", FNR)"
   ]
  },
  {
   "cell_type": "code",
   "execution_count": 118,
   "metadata": {},
   "outputs": [],
   "source": [
    "# Load models\n",
    "model_files = [file for file in os.listdir(os.getcwd()) if file.endswith(\".pkl\")]\n",
    "models = []\n",
    "for file in model_files:\n",
    "    with open(file, \"rb\") as file:\n",
    "        models.append((file.name, pickle.load(file)))"
   ]
  },
  {
   "cell_type": "code",
   "execution_count": 119,
   "metadata": {},
   "outputs": [],
   "source": [
    "# Data for training ensemble model\n",
    "training_dataset = {'rf-benign-specialize.pkl': 'rf-benign-specialize-features.csv',\n",
    "                    'rf-general.pkl': 'rf-general-features.csv',\n",
    "                    'rf-lexical.pkl': 'rf-lexical-features.csv'}\n",
    "\n",
    "df = pd.read_csv('../datasets/malicious_phish.csv')\n",
    "y = df.iloc[:, 1]\n",
    "y = y.apply(classification_type)\n",
    "y = y.values.ravel()"
   ]
  },
  {
   "cell_type": "code",
   "execution_count": 120,
   "metadata": {},
   "outputs": [],
   "source": [
    "testing_ensemble_X = {} # test size 0.2 values <model_name: (X_test, scaler)>\n",
    "testing_ensemble_y = None # test size 0.2 values\n",
    "scalers = {} # stores scaler models <model_name: scaler>\n",
    "\n",
    "# Prepare predictions from models\n",
    "for i in range(len(models)):\n",
    "    model_name, model = models[i]\n",
    "    data = pd.read_csv(training_dataset[model_name], header=None, skiprows=1)\n",
    "    X_train, X_test, _, y_test = train_test_split(data, y, test_size=0.2, random_state=69)\n",
    "    \n",
    "    scaler = MaxAbsScaler()\n",
    "    X_train = scaler.fit_transform(X_train)\n",
    "    X_test = scaler.transform(X_test)\n",
    "\n",
    "    if testing_ensemble_y is None:\n",
    "        testing_ensemble_y = y_test\n",
    "\n",
    "    # input_ensemble[:, i] = y_pred\n",
    "    testing_ensemble_X[model_name] = X_test\n",
    "    scalers[model_name] = scaler"
   ]
  },
  {
   "cell_type": "code",
   "execution_count": 121,
   "metadata": {},
   "outputs": [],
   "source": [
    "# Attached to endpoint prediction of above models\n",
    "# priority = [('rf-general.pkl', 3), ('rf-lexical.pkl', 3), ('rf-lexical.pkl', 1),\n",
    "#             ('rf-benign-specialize.pkl', 3), ('rf-benign-specialize.pkl', 0), ('rf-general.pkl', 1),\n",
    "#             ('rf-general.pkl', 2), ('rf-benign-specialize.pkl', 1), ('rf-lexical.pkl', 0),\n",
    "#             ('rf-lexical.pkl', 2), ('rf-benign-specialize.pkl', 2), ('rf-general.pkl', 0)]\n",
    "\n",
    "priority = [('rf-general.pkl', 3), ('rf-general.pkl', 2), ('rf-general.pkl', 1), ('rf-benign-specialize.pkl', 0), ('rf-lexical.pkl', 0), ('rf-general.pkl', 0)]\n",
    "# 0.94, 0.90, 0.67"
   ]
  },
  {
   "cell_type": "markdown",
   "metadata": {},
   "source": [
    "### Test on 0.2 validation split initial dataset"
   ]
  },
  {
   "cell_type": "code",
   "execution_count": 122,
   "metadata": {},
   "outputs": [
    {
     "name": "stderr",
     "output_type": "stream",
     "text": [
      "/Users/asonata/anaconda3/envs/cs3264/lib/python3.12/site-packages/sklearn/base.py:493: UserWarning: X does not have valid feature names, but RandomForestClassifier was fitted with feature names\n",
      "  warnings.warn(\n"
     ]
    }
   ],
   "source": [
    "y_ensemble_pred = None # holds predictions of all models\n",
    "model_col = {} # Takes note of which column the model predictions are in <index, model_name>\n",
    "\n",
    "for i in range(len(models)):\n",
    "    model_name, model = models[i]\n",
    "    X_test = testing_ensemble_X[model_name] # Already scaled\n",
    "    \n",
    "    y_pred = model.predict(X_test)\n",
    "    if y_ensemble_pred is None:\n",
    "        y_ensemble_pred = np.empty((y_pred.shape[0], 3))\n",
    "\n",
    "    y_ensemble_pred[:, i] = y_pred\n",
    "    model_col[i] = model_name\n",
    "\n",
    "# Look at priority list\n",
    "pred_combined_y = np.empty(shape=testing_ensemble_y.shape)\n",
    "\n",
    "row = 0\n",
    "for entry in y_ensemble_pred:\n",
    "    # Match to model\n",
    "    statements = defaultdict(int)\n",
    "\n",
    "    for i, prediction in enumerate(entry):\n",
    "        statements[(model_col[i], prediction)] = 1\n",
    "    for p in priority:\n",
    "        if statements[p] == 1:\n",
    "            # Take the choice\n",
    "            choice_for_entry = p[1]\n",
    "            pred_combined_y[row] = choice_for_entry\n",
    "            break\n",
    "    row += 1\n"
   ]
  },
  {
   "cell_type": "code",
   "execution_count": 123,
   "metadata": {},
   "outputs": [
    {
     "name": "stdout",
     "output_type": "stream",
     "text": [
      "OVERALL: Accuracy: 0.83582491, Precision: 0.83410359, Recall: 0.83582491, F1 Score: 0.82365547\n",
      "Class 0:\tTest Precision: 0.83218979,\tTest Recall: 0.95302977,\tTest f1: 0.88852000\n",
      "Class 1:\tTest Precision: 0.83694664,\tTest Recall: 0.66891471,\tTest f1: 0.74355573\n",
      "Class 2:\tTest Precision: 0.79875479,\tTest Recall: 0.44548320,\tTest f1: 0.57196749\n",
      "Class 3:\tTest Precision: 0.95099905,\tTest Recall: 0.90946315,\tTest f1: 0.92976744\n",
      "Accuracy for class 0 : 0.8427276007954606\n",
      "FNR for class 0 : 0.04697022767075307\n",
      "Accuracy for class 1 : 0.9317101636222637\n",
      "FNR for class 1 : 0.3310852874040257\n",
      "Accuracy for class 2 : 0.9041684902371794\n",
      "FNR for class 2 : 0.5545168011111705\n",
      "Accuracy for class 3 : 0.9930435583811301\n",
      "FNR for class 3 : 0.0905368516833485\n"
     ]
    }
   ],
   "source": [
    "precision = precision_score(testing_ensemble_y, pred_combined_y, average='weighted')\n",
    "recall = recall_score(testing_ensemble_y, pred_combined_y, average='weighted')\n",
    "f1 = f1_score(testing_ensemble_y, pred_combined_y, average='weighted')\n",
    "val_accuracy = accuracy_score(testing_ensemble_y, pred_combined_y)\n",
    "print(f'OVERALL: Accuracy: {val_accuracy:.8f}, Precision: {precision:.8f}, Recall: {recall:.8f}, F1 Score: {f1:.8f}')\n",
    "\n",
    "class_test_precision, class_test_recall, class_test_f1, class_ = precision_recall_fscore_support(testing_ensemble_y, pred_combined_y)\n",
    "for i in range(4):\n",
    "    print(f'Class {i}:\\tTest Precision: {class_test_precision[i]:.8f},\\tTest Recall: {class_test_recall[i]:.8f},\\tTest f1: {class_test_f1[i]:.8f}')\n",
    "calc_FNR_accuracy(testing_ensemble_y, pred_combined_y)"
   ]
  },
  {
   "cell_type": "markdown",
   "metadata": {},
   "source": [
    "### Test on phishing dataset"
   ]
  },
  {
   "cell_type": "code",
   "execution_count": 124,
   "metadata": {},
   "outputs": [
    {
     "name": "stderr",
     "output_type": "stream",
     "text": [
      "/Users/asonata/anaconda3/envs/cs3264/lib/python3.12/site-packages/sklearn/base.py:493: UserWarning: X does not have valid feature names, but RandomForestClassifier was fitted with feature names\n",
      "  warnings.warn(\n"
     ]
    }
   ],
   "source": [
    "training_dataset_phishing = {'rf-benign-specialize.pkl': 'rf-benign-specialize-test-phishing.csv',\n",
    "                    'rf-general.pkl': 'rf-general-test-phishing.csv',\n",
    "                    'rf-lexical.pkl': 'rf-lexical-test-phishing.csv'}\n",
    "\n",
    "input_ensemble_phishing = None\n",
    "\n",
    "# Prepare predictions from models\n",
    "for i in range(len(models)):\n",
    "    model_name, model = models[i]\n",
    "    X_test = pd.read_csv(training_dataset_phishing[model_name], header=None, skiprows=1)\n",
    "    X_test = scalers[model_name].transform(X_test)\n",
    "\n",
    "    y_pred = model.predict(X_test) # prediction for model\n",
    "    if input_ensemble_phishing is None:\n",
    "        input_ensemble_phishing = np.empty((y_pred.shape[0], 3))\n",
    "\n",
    "    input_ensemble_phishing[:, i] = y_pred"
   ]
  },
  {
   "cell_type": "code",
   "execution_count": 125,
   "metadata": {},
   "outputs": [],
   "source": [
    "# Phishing is label 2.\n",
    "y_phishing = np.full((input_ensemble_phishing.shape[0],), 2)\n",
    "pred_combined_y_phishing = np.empty(shape=y_phishing.shape)\n",
    "row = 0\n",
    "for entry in input_ensemble_phishing:\n",
    "    # Match to model\n",
    "    statements = defaultdict(int)\n",
    "\n",
    "    for i, prediction in enumerate(entry):\n",
    "        statements[(model_col[i], prediction)] = 1\n",
    "    for p in priority:\n",
    "        if statements[p] == 1:\n",
    "            # Take the choice\n",
    "            choice_for_entry = p[1]\n",
    "            pred_combined_y_phishing[row] = choice_for_entry\n",
    "            break\n",
    "    row += 1"
   ]
  },
  {
   "cell_type": "code",
   "execution_count": 126,
   "metadata": {},
   "outputs": [
    {
     "name": "stdout",
     "output_type": "stream",
     "text": [
      "OVERALL: Accuracy: 0.56006882, Precision: 1.00000000, Recall: 0.56006882, F1 Score: 0.71800528\n",
      "Class 0:\tTest Precision: 0.00000000,\tTest Recall: 0.00000000,\tTest f1: 0.00000000\n",
      "Class 1:\tTest Precision: 0.00000000,\tTest Recall: 0.00000000,\tTest f1: 0.00000000\n",
      "Class 2:\tTest Precision: 1.00000000,\tTest Recall: 0.56006882,\tTest f1: 0.71800528\n",
      "Class 3:\tTest Precision: 0.00000000,\tTest Recall: 0.00000000,\tTest f1: 0.00000000\n",
      "Accuracy for class 0 : 0.7058803684086232\n",
      "FNR for class 0 : -1\n",
      "Accuracy for class 1 : 0.8653554198576296\n",
      "FNR for class 1 : -1\n",
      "Accuracy for class 2 : 0.5600688235889477\n",
      "FNR for class 2 : 0.4399311764110523\n",
      "Accuracy for class 3 : 0.988833035322695\n",
      "FNR for class 3 : -1\n"
     ]
    },
    {
     "name": "stderr",
     "output_type": "stream",
     "text": [
      "/Users/asonata/anaconda3/envs/cs3264/lib/python3.12/site-packages/sklearn/metrics/_classification.py:1509: UndefinedMetricWarning: Recall is ill-defined and being set to 0.0 in labels with no true samples. Use `zero_division` parameter to control this behavior.\n",
      "  _warn_prf(average, modifier, f\"{metric.capitalize()} is\", len(result))\n",
      "/Users/asonata/anaconda3/envs/cs3264/lib/python3.12/site-packages/sklearn/metrics/_classification.py:1509: UndefinedMetricWarning: Recall is ill-defined and being set to 0.0 in labels with no true samples. Use `zero_division` parameter to control this behavior.\n",
      "  _warn_prf(average, modifier, f\"{metric.capitalize()} is\", len(result))\n"
     ]
    }
   ],
   "source": [
    "precision = precision_score(y_phishing, pred_combined_y_phishing, average='weighted')\n",
    "recall = recall_score(y_phishing, pred_combined_y_phishing, average='weighted')\n",
    "f1 = f1_score(y_phishing, pred_combined_y_phishing, average='weighted')\n",
    "val_accuracy = accuracy_score(y_phishing, pred_combined_y_phishing)\n",
    "print(f'OVERALL: Accuracy: {val_accuracy:.8f}, Precision: {precision:.8f}, Recall: {recall:.8f}, F1 Score: {f1:.8f}')\n",
    "\n",
    "class_test_precision, class_test_recall, class_test_f1, class_ = precision_recall_fscore_support(y_phishing, pred_combined_y_phishing)\n",
    "for i in range(4):\n",
    "    print(f'Class {i}:\\tTest Precision: {class_test_precision[i]:.8f},\\tTest Recall: {class_test_recall[i]:.8f},\\tTest f1: {class_test_f1[i]:.8f}')\n",
    "calc_FNR_accuracy(y_phishing, pred_combined_y_phishing)"
   ]
  },
  {
   "cell_type": "markdown",
   "metadata": {},
   "source": [
    "### Test on benign dataset"
   ]
  },
  {
   "cell_type": "code",
   "execution_count": 127,
   "metadata": {},
   "outputs": [
    {
     "name": "stderr",
     "output_type": "stream",
     "text": [
      "/Users/asonata/anaconda3/envs/cs3264/lib/python3.12/site-packages/sklearn/base.py:493: UserWarning: X does not have valid feature names, but RandomForestClassifier was fitted with feature names\n",
      "  warnings.warn(\n"
     ]
    }
   ],
   "source": [
    "training_dataset_benign = {'rf-benign-specialize.pkl': 'rf-benign-specialize-test-benign.csv',\n",
    "                    'rf-general.pkl': 'rf-general-test-benign.csv',\n",
    "                    'rf-lexical.pkl': 'rf-lexical-test-benign.csv'}\n",
    "\n",
    "input_ensemble_benign = None\n",
    "\n",
    "# Prepare predictions from models\n",
    "for i in range(len(models)):\n",
    "    model_name, model = models[i]\n",
    "    X_test = pd.read_csv(training_dataset_benign[model_name], header=None, skiprows=1)\n",
    "    X_test = scalers[model_name].transform(X_test)\n",
    "\n",
    "    y_pred = model.predict(X_test) # prediction for model\n",
    "    if input_ensemble_benign is None:\n",
    "        input_ensemble_benign = np.empty((y_pred.shape[0], 3))\n",
    "\n",
    "    input_ensemble_benign[:, i] = y_pred"
   ]
  },
  {
   "cell_type": "code",
   "execution_count": 128,
   "metadata": {},
   "outputs": [],
   "source": [
    "# Benign is label 0.\n",
    "y_benign = np.full((input_ensemble_benign.shape[0],), 2)\n",
    "pred_combined_y_benign = np.empty(shape=y_benign.shape)\n",
    "row = 0\n",
    "for entry in input_ensemble_benign:\n",
    "    # Match to model\n",
    "    statements = defaultdict(int)\n",
    "\n",
    "    for i, prediction in enumerate(entry):\n",
    "        statements[(model_col[i], prediction)] = 1\n",
    "    for p in priority:\n",
    "        if statements[p] == 1:\n",
    "            # Take the choice\n",
    "            choice_for_entry = p[1]\n",
    "            pred_combined_y_benign[row] = choice_for_entry\n",
    "            break\n",
    "    row += 1"
   ]
  },
  {
   "cell_type": "code",
   "execution_count": 129,
   "metadata": {},
   "outputs": [
    {
     "name": "stdout",
     "output_type": "stream",
     "text": [
      "OVERALL: Accuracy: 0.09557237, Precision: 1.00000000, Recall: 0.09557237, F1 Score: 0.17447021\n",
      "Class 0:\tTest Precision: 0.00000000,\tTest Recall: 0.00000000,\tTest f1: 0.00000000\n",
      "Class 1:\tTest Precision: 0.00000000,\tTest Recall: 0.00000000,\tTest f1: 0.00000000\n",
      "Class 2:\tTest Precision: 1.00000000,\tTest Recall: 0.09557237,\tTest f1: 0.17447021\n",
      "Class 3:\tTest Precision: 0.00000000,\tTest Recall: 0.00000000,\tTest f1: 0.00000000\n",
      "Accuracy for class 0 : 0.18938618260069764\n",
      "FNR for class 0 : -1\n",
      "Accuracy for class 1 : 0.9141257252601681\n",
      "FNR for class 1 : -1\n",
      "Accuracy for class 2 : 0.09557236982917701\n",
      "FNR for class 2 : 0.904427630170823\n",
      "Accuracy for class 3 : 0.9920604619683112\n",
      "FNR for class 3 : -1\n"
     ]
    },
    {
     "name": "stderr",
     "output_type": "stream",
     "text": [
      "/Users/asonata/anaconda3/envs/cs3264/lib/python3.12/site-packages/sklearn/metrics/_classification.py:1509: UndefinedMetricWarning: Recall is ill-defined and being set to 0.0 in labels with no true samples. Use `zero_division` parameter to control this behavior.\n",
      "  _warn_prf(average, modifier, f\"{metric.capitalize()} is\", len(result))\n",
      "/Users/asonata/anaconda3/envs/cs3264/lib/python3.12/site-packages/sklearn/metrics/_classification.py:1509: UndefinedMetricWarning: Recall is ill-defined and being set to 0.0 in labels with no true samples. Use `zero_division` parameter to control this behavior.\n",
      "  _warn_prf(average, modifier, f\"{metric.capitalize()} is\", len(result))\n"
     ]
    }
   ],
   "source": [
    "precision = precision_score(y_benign, pred_combined_y_benign, average='weighted')\n",
    "recall = recall_score(y_benign, pred_combined_y_benign, average='weighted')\n",
    "f1 = f1_score(y_benign, pred_combined_y_benign, average='weighted')\n",
    "val_accuracy = accuracy_score(y_benign, pred_combined_y_benign)\n",
    "print(f'OVERALL: Accuracy: {val_accuracy:.8f}, Precision: {precision:.8f}, Recall: {recall:.8f}, F1 Score: {f1:.8f}')\n",
    "\n",
    "class_test_precision, class_test_recall, class_test_f1, class_ = precision_recall_fscore_support(y_benign, pred_combined_y_benign)\n",
    "for i in range(4):\n",
    "    print(f'Class {i}:\\tTest Precision: {class_test_precision[i]:.8f},\\tTest Recall: {class_test_recall[i]:.8f},\\tTest f1: {class_test_f1[i]:.8f}')\n",
    "calc_FNR_accuracy(y_benign, pred_combined_y_benign)"
   ]
  }
 ],
 "metadata": {
  "kernelspec": {
   "display_name": "cs3264",
   "language": "python",
   "name": "python3"
  },
  "language_info": {
   "codemirror_mode": {
    "name": "ipython",
    "version": 3
   },
   "file_extension": ".py",
   "mimetype": "text/x-python",
   "name": "python",
   "nbconvert_exporter": "python",
   "pygments_lexer": "ipython3",
   "version": "3.12.2"
  }
 },
 "nbformat": 4,
 "nbformat_minor": 2
}
