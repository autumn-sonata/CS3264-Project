{
 "cells": [
  {
   "cell_type": "markdown",
   "metadata": {},
   "source": [
    "## Combined models\n",
    "1) rf-benign-specialize\n",
    "2) rf-general\n",
    "3) rf-lexical"
   ]
  },
  {
   "cell_type": "code",
   "execution_count": 349,
   "metadata": {},
   "outputs": [],
   "source": [
    "import os\n",
    "import pickle\n",
    "\n",
    "from collections import defaultdict\n",
    "import numpy as np\n",
    "import pandas as pd \n",
    "from sklearn.neural_network import MLPClassifier\n",
    "from sklearn.metrics import confusion_matrix\n",
    "from sklearn.metrics import accuracy_score, precision_score, recall_score, f1_score, precision_recall_fscore_support\n",
    "from sklearn.model_selection import train_test_split\n"
   ]
  },
  {
   "cell_type": "code",
   "execution_count": 350,
   "metadata": {},
   "outputs": [],
   "source": [
    "def classification_type(type):\n",
    "    '''\n",
    "    Convert classification type into values:\n",
    "        1) Benign = 0\n",
    "        2) Defacement = 1\n",
    "        3) Phishing = 2\n",
    "        4) Malware = 3    \n",
    "    '''\n",
    "    if type == \"benign\":\n",
    "        return 0\n",
    "    elif type == \"defacement\":\n",
    "        return 1\n",
    "    elif type == \"phishing\":\n",
    "        return 2\n",
    "    elif type == \"malware\":\n",
    "        return 3\n",
    "    else:\n",
    "        print(f\"Unable to find proper type: {type}\")\n",
    "\n",
    "\n",
    "def calc_FNR_accuracy(y_true, y_pred):\n",
    "    conf_matrix = confusion_matrix(y_true, y_pred)\n",
    "    for label_class in range(4):\n",
    "        FN = sum(conf_matrix[label_class][i] for i in range(len(conf_matrix)) if i != label_class)  \n",
    "        \n",
    "        TP = conf_matrix[label_class][label_class]  \n",
    "        \n",
    "        TN = np.sum(np.delete(np.delete(conf_matrix, label_class, axis=0), label_class, axis=1))\n",
    "        \n",
    "        accuracy = (TP + TN) / np.sum(conf_matrix)\n",
    "        print(\"Accuracy for class\", label_class, \":\", accuracy)\n",
    "\n",
    "        FNR = FN / (FN + TP) if (FN + TP) > 0 else -1\n",
    "        print(\"FNR for class\", label_class, \":\", FNR)"
   ]
  },
  {
   "cell_type": "code",
   "execution_count": 351,
   "metadata": {},
   "outputs": [],
   "source": [
    "# Load models\n",
    "model_files = [file for file in os.listdir(os.getcwd()) if file.endswith(\".pkl\")]\n",
    "models = []\n",
    "for file in model_files:\n",
    "    with open(file, \"rb\") as file:\n",
    "        models.append((file.name, pickle.load(file)))"
   ]
  },
  {
   "cell_type": "code",
   "execution_count": 352,
   "metadata": {},
   "outputs": [],
   "source": [
    "# Data for training ensemble model\n",
    "training_dataset = {'rf-benign-specialize.pkl': 'rf-benign-specialize-features.csv',\n",
    "                    'rf-general.pkl': 'rf-general-features.csv',\n",
    "                    'rf-lexical.pkl': 'rf-lexical-features.csv'}\n",
    "\n",
    "df = pd.read_csv('../datasets/malicious_phish.csv')\n",
    "y = df.iloc[:, 1]\n",
    "y = y.apply(classification_type)"
   ]
  },
  {
   "cell_type": "code",
   "execution_count": 353,
   "metadata": {},
   "outputs": [],
   "source": [
    "testing_ensemble_X = {} # test size 0.2 values\n",
    "testing_ensemble_y = None # test size 0.2 values\n",
    "\n",
    "# Prepare predictions from models\n",
    "for i in range(len(models)):\n",
    "    model_name, model = models[i]\n",
    "    data = pd.read_csv(training_dataset[model_name], header=None, skiprows=1)\n",
    "    _, X_test, _, y_test = train_test_split(data, y, test_size=0.2, random_state=69)\n",
    "\n",
    "    # y_pred = model.predict(X_train) # prediction for model\n",
    "    # if input_ensemble is None:\n",
    "    #     input_ensemble = np.empty((y_pred.shape[0], 3))\n",
    "\n",
    "    if testing_ensemble_y is None:\n",
    "        testing_ensemble_y = y_test\n",
    "\n",
    "    # input_ensemble[:, i] = y_pred\n",
    "    testing_ensemble_X[model_name] = X_test"
   ]
  },
  {
   "cell_type": "code",
   "execution_count": 354,
   "metadata": {},
   "outputs": [],
   "source": [
    "# Attached to endpoint prediction of above models\n",
    "# priority = [('rf-general.pkl', 3), ('rf-lexical.pkl', 3), ('rf-lexical.pkl', 1),\n",
    "#             ('rf-benign-specialize.pkl', 3), ('rf-benign-specialize.pkl', 0), ('rf-general.pkl', 1),\n",
    "#             ('rf-general.pkl', 2), ('rf-benign-specialize.pkl', 1), ('rf-lexical.pkl', 0),\n",
    "#             ('rf-lexical.pkl', 2), ('rf-benign-specialize.pkl', 2), ('rf-general.pkl', 0)]\n",
    "\n",
    "priority = [('rf-general.pkl', 3), ('rf-benign-specialize.pkl', 0), ('rf-general.pkl', 2), ('rf-general.pkl', 1), ('rf-lexical.pkl', 1), ('rf-lexical.pkl', 3),\n",
    "            ('rf-benign-specialize.pkl', 3),\n",
    "            ('rf-benign-specialize.pkl', 1), ('rf-lexical.pkl', 0),\n",
    "            ('rf-lexical.pkl', 2), ('rf-benign-specialize.pkl', 2), ('rf-general.pkl', 0)]"
   ]
  },
  {
   "cell_type": "markdown",
   "metadata": {},
   "source": [
    "### Test on 0.2 validation split initial dataset"
   ]
  },
  {
   "cell_type": "code",
   "execution_count": 355,
   "metadata": {},
   "outputs": [
    {
     "name": "stderr",
     "output_type": "stream",
     "text": [
      "/Users/asonata/anaconda3/envs/cs3264/lib/python3.12/site-packages/sklearn/base.py:493: UserWarning: X does not have valid feature names, but RandomForestClassifier was fitted with feature names\n",
      "  warnings.warn(\n"
     ]
    }
   ],
   "source": [
    "y_ensemble_pred = None\n",
    "model_col = {} # Takes note of which column the model predictions are in\n",
    "\n",
    "for i in range(len(models)):\n",
    "    model_name, model = models[i]\n",
    "    X_test = testing_ensemble_X[model_name]\n",
    "\n",
    "    y_pred = model.predict(X_test)\n",
    "    if y_ensemble_pred is None:\n",
    "        y_ensemble_pred = np.empty((y_pred.shape[0], 3))\n",
    "\n",
    "    y_ensemble_pred[:, i] = y_pred\n",
    "    model_col[i] = model_name\n",
    "\n",
    "# Look at priority list\n",
    "pred_combined_y = np.empty(shape=testing_ensemble_y.shape)\n",
    "row = 0\n",
    "for entry in y_ensemble_pred:\n",
    "    # Match to model\n",
    "    statements = defaultdict(int)\n",
    "\n",
    "    for i, prediction in enumerate(entry):\n",
    "        statements[(model_col[i], prediction)] = 1\n",
    "    for p in priority:\n",
    "        if statements[p] == 1:\n",
    "            # Take the choice\n",
    "            choice_for_entry = p[1]\n",
    "            pred_combined_y[row] = choice_for_entry\n",
    "            break\n",
    "    row += 1\n"
   ]
  },
  {
   "cell_type": "code",
   "execution_count": 356,
   "metadata": {},
   "outputs": [
    {
     "name": "stdout",
     "output_type": "stream",
     "text": [
      "OVERALL: Accuracy: 0.67873678, Precision: 0.62674700, Recall: 0.67873678, F1 Score: 0.56710771\n",
      "Class 0:\tTest Precision: 0.67248733,\tTest Recall: 0.99954466,\tTest f1: 0.80402902\n",
      "Class 1:\tTest Precision: 0.00000000,\tTest Recall: 0.00000000,\tTest f1: 0.00000000\n",
      "Class 2:\tTest Precision: 0.93137255,\tTest Recall: 0.10657621,\tTest f1: 0.19126600\n",
      "Class 3:\tTest Precision: 1.00000000,\tTest Recall: 0.12010919,\tTest f1: 0.21445979\n",
      "Accuracy for class 0 : 0.679566028608942\n",
      "FNR for class 0 : 0.0004553415061295972\n",
      "Accuracy for class 1 : 0.851995178095655\n",
      "FNR for class 1 : 1.0\n",
      "Accuracy for class 2 : 0.8704612289713527\n",
      "FNR for class 2 : 0.8934237940060901\n",
      "Accuracy for class 3 : 0.9554511321493562\n",
      "FNR for class 3 : 0.8798908098271155\n"
     ]
    },
    {
     "name": "stderr",
     "output_type": "stream",
     "text": [
      "/Users/asonata/anaconda3/envs/cs3264/lib/python3.12/site-packages/sklearn/metrics/_classification.py:1509: UndefinedMetricWarning: Precision is ill-defined and being set to 0.0 in labels with no predicted samples. Use `zero_division` parameter to control this behavior.\n",
      "  _warn_prf(average, modifier, f\"{metric.capitalize()} is\", len(result))\n",
      "/Users/asonata/anaconda3/envs/cs3264/lib/python3.12/site-packages/sklearn/metrics/_classification.py:1509: UndefinedMetricWarning: Precision is ill-defined and being set to 0.0 in labels with no predicted samples. Use `zero_division` parameter to control this behavior.\n",
      "  _warn_prf(average, modifier, f\"{metric.capitalize()} is\", len(result))\n"
     ]
    }
   ],
   "source": [
    "precision = precision_score(testing_ensemble_y, pred_combined_y, average='weighted')\n",
    "recall = recall_score(testing_ensemble_y, pred_combined_y, average='weighted')\n",
    "f1 = f1_score(testing_ensemble_y, pred_combined_y, average='weighted')\n",
    "val_accuracy = accuracy_score(testing_ensemble_y, pred_combined_y)\n",
    "print(f'OVERALL: Accuracy: {val_accuracy:.8f}, Precision: {precision:.8f}, Recall: {recall:.8f}, F1 Score: {f1:.8f}')\n",
    "\n",
    "class_test_precision, class_test_recall, class_test_f1, class_ = precision_recall_fscore_support(testing_ensemble_y, pred_combined_y)\n",
    "for i in range(4):\n",
    "    print(f'Class {i}:\\tTest Precision: {class_test_precision[i]:.8f},\\tTest Recall: {class_test_recall[i]:.8f},\\tTest f1: {class_test_f1[i]:.8f}')\n",
    "calc_FNR_accuracy(testing_ensemble_y, pred_combined_y)"
   ]
  },
  {
   "cell_type": "markdown",
   "metadata": {},
   "source": [
    "### Test on phishing dataset"
   ]
  },
  {
   "cell_type": "code",
   "execution_count": 357,
   "metadata": {},
   "outputs": [
    {
     "name": "stderr",
     "output_type": "stream",
     "text": [
      "/Users/asonata/anaconda3/envs/cs3264/lib/python3.12/site-packages/sklearn/base.py:493: UserWarning: X does not have valid feature names, but RandomForestClassifier was fitted with feature names\n",
      "  warnings.warn(\n"
     ]
    }
   ],
   "source": [
    "training_dataset_phishing = {'rf-benign-specialize.pkl': 'rf-benign-specialize-test-phishing.csv',\n",
    "                    'rf-general.pkl': 'rf-general-test-phishing.csv',\n",
    "                    'rf-lexical.pkl': 'rf-lexical-test-phishing.csv'}\n",
    "\n",
    "input_ensemble_phishing = None\n",
    "\n",
    "# Prepare predictions from models\n",
    "for i in range(len(models)):\n",
    "    model_name, model = models[i]\n",
    "    X_test = pd.read_csv(training_dataset_phishing[model_name], header=None, skiprows=1)\n",
    "\n",
    "    y_pred = model.predict(X_test) # prediction for model\n",
    "    if input_ensemble_phishing is None:\n",
    "        input_ensemble_phishing = np.empty((y_pred.shape[0], 3))\n",
    "\n",
    "    input_ensemble_phishing[:, i] = y_pred"
   ]
  },
  {
   "cell_type": "code",
   "execution_count": 358,
   "metadata": {},
   "outputs": [],
   "source": [
    "# Phishing is label 2.\n",
    "y_phishing = np.full((input_ensemble_phishing.shape[0],), 2)\n",
    "pred_combined_y_phishing = np.empty(shape=y_phishing.shape)\n",
    "row = 0\n",
    "for entry in input_ensemble_phishing:\n",
    "    # Match to model\n",
    "    statements = defaultdict(int)\n",
    "\n",
    "    for i, prediction in enumerate(entry):\n",
    "        statements[(model_col[i], prediction)] = 1\n",
    "    for p in priority:\n",
    "        if statements[p] == 1:\n",
    "            # Take the choice\n",
    "            choice_for_entry = p[1]\n",
    "            pred_combined_y_phishing[row] = choice_for_entry\n",
    "            break\n",
    "    row += 1"
   ]
  },
  {
   "cell_type": "code",
   "execution_count": 359,
   "metadata": {},
   "outputs": [
    {
     "name": "stdout",
     "output_type": "stream",
     "text": [
      "OVERALL: Accuracy: 0.00000000, Precision: 0.00000000, Recall: 0.00000000, F1 Score: 0.00000000\n",
      "Class 0:\tTest Precision: 0.00000000,\tTest Recall: 0.00000000,\tTest f1: 0.00000000\n",
      "Class 1:\tTest Precision: 0.00000000,\tTest Recall: 0.00000000,\tTest f1: 0.00000000\n",
      "Class 2:\tTest Precision: 0.00000000,\tTest Recall: 0.00000000,\tTest f1: 0.00000000\n"
     ]
    },
    {
     "name": "stderr",
     "output_type": "stream",
     "text": [
      "/Users/asonata/anaconda3/envs/cs3264/lib/python3.12/site-packages/sklearn/metrics/_classification.py:1509: UndefinedMetricWarning: Precision is ill-defined and being set to 0.0 in labels with no predicted samples. Use `zero_division` parameter to control this behavior.\n",
      "  _warn_prf(average, modifier, f\"{metric.capitalize()} is\", len(result))\n",
      "/Users/asonata/anaconda3/envs/cs3264/lib/python3.12/site-packages/sklearn/metrics/_classification.py:1509: UndefinedMetricWarning: Recall is ill-defined and being set to 0.0 in labels with no true samples. Use `zero_division` parameter to control this behavior.\n",
      "  _warn_prf(average, modifier, f\"{metric.capitalize()} is\", len(result))\n",
      "/Users/asonata/anaconda3/envs/cs3264/lib/python3.12/site-packages/sklearn/metrics/_classification.py:1509: UndefinedMetricWarning: Precision is ill-defined and being set to 0.0 in labels with no predicted samples. Use `zero_division` parameter to control this behavior.\n",
      "  _warn_prf(average, modifier, f\"{metric.capitalize()} is\", len(result))\n",
      "/Users/asonata/anaconda3/envs/cs3264/lib/python3.12/site-packages/sklearn/metrics/_classification.py:1509: UndefinedMetricWarning: Recall is ill-defined and being set to 0.0 in labels with no true samples. Use `zero_division` parameter to control this behavior.\n",
      "  _warn_prf(average, modifier, f\"{metric.capitalize()} is\", len(result))\n"
     ]
    },
    {
     "ename": "IndexError",
     "evalue": "index 3 is out of bounds for axis 0 with size 3",
     "output_type": "error",
     "traceback": [
      "\u001b[0;31m---------------------------------------------------------------------------\u001b[0m",
      "\u001b[0;31mIndexError\u001b[0m                                Traceback (most recent call last)",
      "Cell \u001b[0;32mIn[359], line 9\u001b[0m\n\u001b[1;32m      7\u001b[0m class_test_precision, class_test_recall, class_test_f1, class_ \u001b[38;5;241m=\u001b[39m precision_recall_fscore_support(y_phishing, pred_combined_y_phishing)\n\u001b[1;32m      8\u001b[0m \u001b[38;5;28;01mfor\u001b[39;00m i \u001b[38;5;129;01min\u001b[39;00m \u001b[38;5;28mrange\u001b[39m(\u001b[38;5;241m4\u001b[39m):\n\u001b[0;32m----> 9\u001b[0m     \u001b[38;5;28mprint\u001b[39m(\u001b[38;5;124mf\u001b[39m\u001b[38;5;124m'\u001b[39m\u001b[38;5;124mClass \u001b[39m\u001b[38;5;132;01m{\u001b[39;00mi\u001b[38;5;132;01m}\u001b[39;00m\u001b[38;5;124m:\u001b[39m\u001b[38;5;130;01m\\t\u001b[39;00m\u001b[38;5;124mTest Precision: \u001b[39m\u001b[38;5;132;01m{\u001b[39;00m\u001b[43mclass_test_precision\u001b[49m\u001b[43m[\u001b[49m\u001b[43mi\u001b[49m\u001b[43m]\u001b[49m\u001b[38;5;132;01m:\u001b[39;00m\u001b[38;5;124m.8f\u001b[39m\u001b[38;5;132;01m}\u001b[39;00m\u001b[38;5;124m,\u001b[39m\u001b[38;5;130;01m\\t\u001b[39;00m\u001b[38;5;124mTest Recall: \u001b[39m\u001b[38;5;132;01m{\u001b[39;00mclass_test_recall[i]\u001b[38;5;132;01m:\u001b[39;00m\u001b[38;5;124m.8f\u001b[39m\u001b[38;5;132;01m}\u001b[39;00m\u001b[38;5;124m,\u001b[39m\u001b[38;5;130;01m\\t\u001b[39;00m\u001b[38;5;124mTest f1: \u001b[39m\u001b[38;5;132;01m{\u001b[39;00mclass_test_f1[i]\u001b[38;5;132;01m:\u001b[39;00m\u001b[38;5;124m.8f\u001b[39m\u001b[38;5;132;01m}\u001b[39;00m\u001b[38;5;124m'\u001b[39m)\n\u001b[1;32m     10\u001b[0m calc_FNR_accuracy(y_phishing, pred_combined_y_phishing)\n",
      "\u001b[0;31mIndexError\u001b[0m: index 3 is out of bounds for axis 0 with size 3"
     ]
    }
   ],
   "source": [
    "precision = precision_score(y_phishing, pred_combined_y_phishing, average='weighted')\n",
    "recall = recall_score(y_phishing, pred_combined_y_phishing, average='weighted')\n",
    "f1 = f1_score(y_phishing, pred_combined_y_phishing, average='weighted')\n",
    "val_accuracy = accuracy_score(y_phishing, pred_combined_y_phishing)\n",
    "print(f'OVERALL: Accuracy: {val_accuracy:.8f}, Precision: {precision:.8f}, Recall: {recall:.8f}, F1 Score: {f1:.8f}')\n",
    "\n",
    "class_test_precision, class_test_recall, class_test_f1, class_ = precision_recall_fscore_support(y_phishing, pred_combined_y_phishing)\n",
    "for i in range(4):\n",
    "    print(f'Class {i}:\\tTest Precision: {class_test_precision[i]:.8f},\\tTest Recall: {class_test_recall[i]:.8f},\\tTest f1: {class_test_f1[i]:.8f}')\n",
    "calc_FNR_accuracy(y_phishing, pred_combined_y_phishing)"
   ]
  },
  {
   "cell_type": "markdown",
   "metadata": {},
   "source": [
    "### Test on benign dataset"
   ]
  },
  {
   "cell_type": "code",
   "execution_count": null,
   "metadata": {},
   "outputs": [
    {
     "name": "stderr",
     "output_type": "stream",
     "text": [
      "/Users/asonata/anaconda3/envs/cs3264/lib/python3.12/site-packages/sklearn/base.py:493: UserWarning: X does not have valid feature names, but RandomForestClassifier was fitted with feature names\n",
      "  warnings.warn(\n"
     ]
    }
   ],
   "source": [
    "training_dataset_benign = {'rf-benign-specialize.pkl': 'rf-benign-specialize-test-benign.csv',\n",
    "                    'rf-general.pkl': 'rf-general-test-benign.csv',\n",
    "                    'rf-lexical.pkl': 'rf-lexical-test-benign.csv'}\n",
    "\n",
    "input_ensemble_benign = None\n",
    "\n",
    "# Prepare predictions from models\n",
    "for i in range(len(models)):\n",
    "    model_name, model = models[i]\n",
    "    X_test = pd.read_csv(training_dataset_benign[model_name], header=None, skiprows=1)\n",
    "\n",
    "    y_pred = model.predict(X_test) # prediction for model\n",
    "    if input_ensemble_benign is None:\n",
    "        input_ensemble_benign = np.empty((y_pred.shape[0], 3))\n",
    "\n",
    "    input_ensemble_benign[:, i] = y_pred"
   ]
  },
  {
   "cell_type": "code",
   "execution_count": null,
   "metadata": {},
   "outputs": [],
   "source": [
    "# Benign is label 0.\n",
    "y_benign = np.full((input_ensemble_benign.shape[0],), 2)\n",
    "pred_combined_y_benign = np.empty(shape=y_benign.shape)\n",
    "row = 0\n",
    "for entry in input_ensemble_benign:\n",
    "    # Match to model\n",
    "    statements = defaultdict(int)\n",
    "\n",
    "    for i, prediction in enumerate(entry):\n",
    "        statements[(model_col[i], prediction)] = 1\n",
    "    for p in priority:\n",
    "        if statements[p] == 1:\n",
    "            # Take the choice\n",
    "            choice_for_entry = p[1]\n",
    "            pred_combined_y_benign[row] = choice_for_entry\n",
    "            break\n",
    "    row += 1"
   ]
  },
  {
   "cell_type": "code",
   "execution_count": null,
   "metadata": {},
   "outputs": [
    {
     "name": "stdout",
     "output_type": "stream",
     "text": [
      "OVERALL: Accuracy: 0.00000000, Precision: 0.00000000, Recall: 0.00000000, F1 Score: 0.00000000\n",
      "Class 0:\tTest Precision: 0.00000000,\tTest Recall: 0.00000000,\tTest f1: 0.00000000\n",
      "Class 1:\tTest Precision: 0.00000000,\tTest Recall: 0.00000000,\tTest f1: 0.00000000\n",
      "Class 2:\tTest Precision: 0.00000000,\tTest Recall: 0.00000000,\tTest f1: 0.00000000\n"
     ]
    },
    {
     "name": "stderr",
     "output_type": "stream",
     "text": [
      "/Users/asonata/anaconda3/envs/cs3264/lib/python3.12/site-packages/sklearn/metrics/_classification.py:1509: UndefinedMetricWarning: Precision is ill-defined and being set to 0.0 in labels with no predicted samples. Use `zero_division` parameter to control this behavior.\n",
      "  _warn_prf(average, modifier, f\"{metric.capitalize()} is\", len(result))\n",
      "/Users/asonata/anaconda3/envs/cs3264/lib/python3.12/site-packages/sklearn/metrics/_classification.py:1509: UndefinedMetricWarning: Recall is ill-defined and being set to 0.0 in labels with no true samples. Use `zero_division` parameter to control this behavior.\n",
      "  _warn_prf(average, modifier, f\"{metric.capitalize()} is\", len(result))\n",
      "/Users/asonata/anaconda3/envs/cs3264/lib/python3.12/site-packages/sklearn/metrics/_classification.py:1509: UndefinedMetricWarning: Precision is ill-defined and being set to 0.0 in labels with no predicted samples. Use `zero_division` parameter to control this behavior.\n",
      "  _warn_prf(average, modifier, f\"{metric.capitalize()} is\", len(result))\n",
      "/Users/asonata/anaconda3/envs/cs3264/lib/python3.12/site-packages/sklearn/metrics/_classification.py:1509: UndefinedMetricWarning: Recall is ill-defined and being set to 0.0 in labels with no true samples. Use `zero_division` parameter to control this behavior.\n",
      "  _warn_prf(average, modifier, f\"{metric.capitalize()} is\", len(result))\n"
     ]
    },
    {
     "ename": "IndexError",
     "evalue": "index 3 is out of bounds for axis 0 with size 3",
     "output_type": "error",
     "traceback": [
      "\u001b[0;31m---------------------------------------------------------------------------\u001b[0m",
      "\u001b[0;31mIndexError\u001b[0m                                Traceback (most recent call last)",
      "Cell \u001b[0;32mIn[337], line 9\u001b[0m\n\u001b[1;32m      7\u001b[0m class_test_precision, class_test_recall, class_test_f1, class_ \u001b[38;5;241m=\u001b[39m precision_recall_fscore_support(y_benign, pred_combined_y_benign)\n\u001b[1;32m      8\u001b[0m \u001b[38;5;28;01mfor\u001b[39;00m i \u001b[38;5;129;01min\u001b[39;00m \u001b[38;5;28mrange\u001b[39m(\u001b[38;5;241m4\u001b[39m):\n\u001b[0;32m----> 9\u001b[0m     \u001b[38;5;28mprint\u001b[39m(\u001b[38;5;124mf\u001b[39m\u001b[38;5;124m'\u001b[39m\u001b[38;5;124mClass \u001b[39m\u001b[38;5;132;01m{\u001b[39;00mi\u001b[38;5;132;01m}\u001b[39;00m\u001b[38;5;124m:\u001b[39m\u001b[38;5;130;01m\\t\u001b[39;00m\u001b[38;5;124mTest Precision: \u001b[39m\u001b[38;5;132;01m{\u001b[39;00m\u001b[43mclass_test_precision\u001b[49m\u001b[43m[\u001b[49m\u001b[43mi\u001b[49m\u001b[43m]\u001b[49m\u001b[38;5;132;01m:\u001b[39;00m\u001b[38;5;124m.8f\u001b[39m\u001b[38;5;132;01m}\u001b[39;00m\u001b[38;5;124m,\u001b[39m\u001b[38;5;130;01m\\t\u001b[39;00m\u001b[38;5;124mTest Recall: \u001b[39m\u001b[38;5;132;01m{\u001b[39;00mclass_test_recall[i]\u001b[38;5;132;01m:\u001b[39;00m\u001b[38;5;124m.8f\u001b[39m\u001b[38;5;132;01m}\u001b[39;00m\u001b[38;5;124m,\u001b[39m\u001b[38;5;130;01m\\t\u001b[39;00m\u001b[38;5;124mTest f1: \u001b[39m\u001b[38;5;132;01m{\u001b[39;00mclass_test_f1[i]\u001b[38;5;132;01m:\u001b[39;00m\u001b[38;5;124m.8f\u001b[39m\u001b[38;5;132;01m}\u001b[39;00m\u001b[38;5;124m'\u001b[39m)\n\u001b[1;32m     10\u001b[0m calc_FNR_accuracy(y_benign, pred_combined_y_benign)\n",
      "\u001b[0;31mIndexError\u001b[0m: index 3 is out of bounds for axis 0 with size 3"
     ]
    }
   ],
   "source": [
    "precision = precision_score(y_benign, pred_combined_y_benign, average='weighted')\n",
    "recall = recall_score(y_benign, pred_combined_y_benign, average='weighted')\n",
    "f1 = f1_score(y_benign, pred_combined_y_benign, average='weighted')\n",
    "val_accuracy = accuracy_score(y_benign, pred_combined_y_benign)\n",
    "print(f'OVERALL: Accuracy: {val_accuracy:.8f}, Precision: {precision:.8f}, Recall: {recall:.8f}, F1 Score: {f1:.8f}')\n",
    "\n",
    "class_test_precision, class_test_recall, class_test_f1, class_ = precision_recall_fscore_support(y_benign, pred_combined_y_benign)\n",
    "for i in range(4):\n",
    "    print(f'Class {i}:\\tTest Precision: {class_test_precision[i]:.8f},\\tTest Recall: {class_test_recall[i]:.8f},\\tTest f1: {class_test_f1[i]:.8f}')\n",
    "calc_FNR_accuracy(y_benign, pred_combined_y_benign)"
   ]
  }
 ],
 "metadata": {
  "kernelspec": {
   "display_name": "cs3264",
   "language": "python",
   "name": "python3"
  },
  "language_info": {
   "codemirror_mode": {
    "name": "ipython",
    "version": 3
   },
   "file_extension": ".py",
   "mimetype": "text/x-python",
   "name": "python",
   "nbconvert_exporter": "python",
   "pygments_lexer": "ipython3",
   "version": "3.12.2"
  }
 },
 "nbformat": 4,
 "nbformat_minor": 2
}
