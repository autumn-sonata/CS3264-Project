{
 "cells": [
  {
   "cell_type": "markdown",
   "metadata": {},
   "source": [
    "## Combined models\n",
    "1) rf-minimal\n",
    "2) rf-general\n",
    "3) rf-lexical"
   ]
  },
  {
   "cell_type": "code",
   "execution_count": 40,
   "metadata": {},
   "outputs": [],
   "source": [
    "import os\n",
    "import pickle\n",
    "\n",
    "from collections import defaultdict\n",
    "import numpy as np\n",
    "import pandas as pd \n",
    "from sklearn.neural_network import MLPClassifier\n",
    "from sklearn.metrics import confusion_matrix\n",
    "from sklearn.metrics import accuracy_score, precision_score, recall_score, f1_score, precision_recall_fscore_support\n",
    "from sklearn.model_selection import train_test_split\n",
    "from sklearn.preprocessing import MaxAbsScaler"
   ]
  },
  {
   "cell_type": "code",
   "execution_count": 41,
   "metadata": {},
   "outputs": [],
   "source": [
    "def classification_type(type):\n",
    "    '''\n",
    "    Convert classification type into values:\n",
    "        1) Benign = 0\n",
    "        2) Defacement = 1\n",
    "        3) Phishing = 2\n",
    "        4) Malware = 3    \n",
    "    '''\n",
    "    if type == \"benign\":\n",
    "        return 0\n",
    "    elif type == \"defacement\":\n",
    "        return 1\n",
    "    elif type == \"phishing\":\n",
    "        return 2\n",
    "    elif type == \"malware\":\n",
    "        return 3\n",
    "    else:\n",
    "        print(f\"Unable to find proper type: {type}\")\n",
    "\n",
    "\n",
    "def calc_FNR_accuracy(y_true, y_pred):\n",
    "    conf_matrix = confusion_matrix(y_true, y_pred)\n",
    "    for label_class in range(4):\n",
    "        FN = sum(conf_matrix[label_class][i] for i in range(len(conf_matrix)) if i != label_class)  \n",
    "        \n",
    "        TP = conf_matrix[label_class][label_class]  \n",
    "        \n",
    "        TN = np.sum(np.delete(np.delete(conf_matrix, label_class, axis=0), label_class, axis=1))\n",
    "        \n",
    "        accuracy = (TP + TN) / np.sum(conf_matrix)\n",
    "        print(\"Accuracy for class\", label_class, \":\", accuracy)\n",
    "\n",
    "        FNR = FN / (FN + TP) if (FN + TP) > 0 else -1\n",
    "        print(\"FNR for class\", label_class, \":\", FNR)"
   ]
  },
  {
   "cell_type": "code",
   "execution_count": 42,
   "metadata": {},
   "outputs": [],
   "source": [
    "# Load models\n",
    "model_files = [file for file in os.listdir(os.getcwd()) if file.endswith(\".pkl\")]\n",
    "models = []\n",
    "for file in model_files:\n",
    "    with open(file, \"rb\") as file:\n",
    "        models.append((file.name, pickle.load(file)))"
   ]
  },
  {
   "cell_type": "code",
   "execution_count": 43,
   "metadata": {},
   "outputs": [],
   "source": [
    "# Data for training ensemble model\n",
    "training_dataset = {'rf-minimal.pkl': 'rf-minimal-features.csv',\n",
    "                    'rf-general.pkl': 'rf-general-features.csv',\n",
    "                    'rf-lexical.pkl': 'rf-lexical-features.csv'}\n",
    "\n",
    "df = pd.read_csv('../datasets/malicious_phish.csv')\n",
    "y = df.iloc[:, 1]\n",
    "y = y.apply(classification_type)\n",
    "y = y.values.ravel()"
   ]
  },
  {
   "cell_type": "code",
   "execution_count": 44,
   "metadata": {},
   "outputs": [],
   "source": [
    "testing_ensemble_X = {} # test size 0.2 values <model_name: (X_test, scaler)>\n",
    "testing_ensemble_y = None # test size 0.2 values\n",
    "scalers = {} # stores scaler model for general and minimal <model_name: scaler>\n",
    "\n",
    "# Prepare predictions from models\n",
    "for i in range(len(models)):\n",
    "    model_name, model = models[i]\n",
    "    data = pd.read_csv(training_dataset[model_name], header=None, skiprows=1)\n",
    "    X_train, X_test, y_train, y_test = train_test_split(data, y, test_size=0.2, random_state=69)\n",
    "    \n",
    "    if model_name in [\"rf-minimal.pkl\", \"rf-general.pkl\"]:\n",
    "        scaler = MaxAbsScaler()\n",
    "        X_train = scaler.fit_transform(X_train)\n",
    "        X_test = scaler.transform(X_test)\n",
    "        scalers[model_name] = scaler\n",
    "\n",
    "    if testing_ensemble_y is None:\n",
    "        testing_ensemble_y = y_test\n",
    "\n",
    "    testing_ensemble_X[model_name] = X_test"
   ]
  },
  {
   "cell_type": "markdown",
   "metadata": {},
   "source": [
    "### Test on 0.2 validation split initial dataset"
   ]
  },
  {
   "cell_type": "code",
   "execution_count": 45,
   "metadata": {},
   "outputs": [
    {
     "name": "stderr",
     "output_type": "stream",
     "text": [
      "/Users/asonata/anaconda3/envs/cs3264/lib/python3.12/site-packages/sklearn/base.py:493: UserWarning: X does not have valid feature names, but RandomForestClassifier was fitted with feature names\n",
      "  warnings.warn(\n"
     ]
    }
   ],
   "source": [
    "y_ensemble_pred = None # holds predictions of all models\n",
    "model_col = {} # Takes note of which column the model predictions are in <index, model_name>\n",
    "model_col_rev = {} # <model_name, index>\n",
    "\n",
    "for i in range(len(models)):\n",
    "    model_name, model = models[i]\n",
    "    X_test = testing_ensemble_X[model_name] # Already scaled\n",
    "    \n",
    "    y_pred = model.predict(X_test)\n",
    "    if y_ensemble_pred is None:\n",
    "        y_ensemble_pred = np.empty((y_pred.shape[0], 3))\n",
    "\n",
    "    y_ensemble_pred[:, i] = y_pred\n",
    "    model_col[i] = model_name\n",
    "    model_col_rev[model_name] = i\n",
    "\n",
    "# Look at priority list\n",
    "pred_combined_y = y_ensemble_pred[:, model_col_rev[\"rf-general.pkl\"]]\n",
    "\n",
    "row = 0\n",
    "for entry in y_ensemble_pred:\n",
    "    index_benign_spec = model_col_rev[\"rf-minimal.pkl\"]\n",
    "    index_lexical = model_col_rev[\"rf-lexical.pkl\"]\n",
    "    if entry[index_benign_spec] == 0 and entry[index_lexical] == 0:\n",
    "        pred_combined_y[row] = 0\n",
    "    row += 1"
   ]
  },
  {
   "cell_type": "code",
   "execution_count": 46,
   "metadata": {},
   "outputs": [
    {
     "name": "stdout",
     "output_type": "stream",
     "text": [
      "OVERALL: Accuracy: 0.93192515, Precision: 0.93366513, Recall: 0.93192515, F1 Score: 0.92897798\n",
      "Class 0:\tTest Precision: 0.91870577,\tTest Recall: 0.99287799,\tTest f1: 0.95435289\n",
      "Class 1:\tTest Precision: 0.97495518,\tTest Recall: 0.90272878,\tTest f1: 0.93745286\n",
      "Class 2:\tTest Precision: 0.93784501,\tTest Recall: 0.69886212,\tTest f1: 0.80090609\n",
      "Class 3:\tTest Precision: 0.99540582,\tTest Recall: 0.88717015,\tTest f1: 0.93817657\n",
      "Accuracy for class 0 : 0.9375379110711846\n",
      "FNR for class 0 : 0.007122008172796264\n",
      "Accuracy for class 1 : 0.9821712390297838\n",
      "FNR for class 1 : 0.09727121809504047\n",
      "Accuracy for class 2 : 0.9500610416234768\n",
      "FNR for class 2 : 0.30113788129707786\n",
      "Accuracy for class 3 : 0.9940801142514915\n",
      "FNR for class 3 : 0.11282984531392175\n"
     ]
    }
   ],
   "source": [
    "precision = precision_score(testing_ensemble_y, pred_combined_y, average='weighted')\n",
    "recall = recall_score(testing_ensemble_y, pred_combined_y, average='weighted')\n",
    "f1 = f1_score(testing_ensemble_y, pred_combined_y, average='weighted')\n",
    "val_accuracy = accuracy_score(testing_ensemble_y, pred_combined_y)\n",
    "print(f'OVERALL: Accuracy: {val_accuracy:.8f}, Precision: {precision:.8f}, Recall: {recall:.8f}, F1 Score: {f1:.8f}')\n",
    "\n",
    "class_test_precision, class_test_recall, class_test_f1, class_ = precision_recall_fscore_support(testing_ensemble_y, pred_combined_y)\n",
    "for i in range(4):\n",
    "    print(f'Class {i}:\\tTest Precision: {class_test_precision[i]:.8f},\\tTest Recall: {class_test_recall[i]:.8f},\\tTest f1: {class_test_f1[i]:.8f}')\n",
    "calc_FNR_accuracy(testing_ensemble_y, pred_combined_y)"
   ]
  },
  {
   "cell_type": "markdown",
   "metadata": {},
   "source": [
    "### Test on phishing dataset"
   ]
  },
  {
   "cell_type": "code",
   "execution_count": 47,
   "metadata": {},
   "outputs": [
    {
     "name": "stderr",
     "output_type": "stream",
     "text": [
      "/Users/asonata/anaconda3/envs/cs3264/lib/python3.12/site-packages/sklearn/base.py:493: UserWarning: X does not have valid feature names, but RandomForestClassifier was fitted with feature names\n",
      "  warnings.warn(\n"
     ]
    }
   ],
   "source": [
    "training_dataset_phishing = {'rf-minimal.pkl': 'rf-minimal-test-phishing.csv',\n",
    "                    'rf-general.pkl': 'rf-general-test-phishing.csv',\n",
    "                    'rf-lexical.pkl': 'rf-lexical-test-phishing.csv'}\n",
    "\n",
    "input_ensemble_phishing = None\n",
    "\n",
    "# Prepare predictions from models\n",
    "for i in range(len(models)):\n",
    "    model_name, model = models[i]\n",
    "    X_test = pd.read_csv(training_dataset_phishing[model_name], header=None, skiprows=1)\n",
    "    if model_name in [\"rf-minimal.pkl\", \"rf-general.pkl\"]:\n",
    "        X_test = scalers[model_name].transform(X_test)\n",
    "\n",
    "    y_pred = model.predict(X_test) # prediction for model\n",
    "    if input_ensemble_phishing is None:\n",
    "        input_ensemble_phishing = np.empty((y_pred.shape[0], 3))\n",
    "\n",
    "    input_ensemble_phishing[:, i] = y_pred"
   ]
  },
  {
   "cell_type": "code",
   "execution_count": 48,
   "metadata": {},
   "outputs": [],
   "source": [
    "# Phishing is label 2.\n",
    "y_phishing = np.full((input_ensemble_phishing.shape[0],), 2)\n",
    "pred_combined_y_phishing = input_ensemble_phishing[:, model_col_rev[\"rf-general.pkl\"]]\n",
    "\n",
    "row = 0\n",
    "for entry in input_ensemble_phishing:\n",
    "    index_benign_spec = model_col_rev[\"rf-minimal.pkl\"]\n",
    "    index_lexical = model_col_rev[\"rf-lexical.pkl\"]\n",
    "    if entry[index_benign_spec] == 0 and entry[index_lexical] == 0:\n",
    "        pred_combined_y_phishing[row] = 0\n",
    "    row += 1"
   ]
  },
  {
   "cell_type": "code",
   "execution_count": 49,
   "metadata": {},
   "outputs": [
    {
     "name": "stdout",
     "output_type": "stream",
     "text": [
      "OVERALL: Accuracy: 0.67870517, Precision: 1.00000000, Recall: 0.67870517, F1 Score: 0.80860556\n",
      "Class 0:\tTest Precision: 0.00000000,\tTest Recall: 0.00000000,\tTest f1: 0.00000000\n",
      "Class 1:\tTest Precision: 0.00000000,\tTest Recall: 0.00000000,\tTest f1: 0.00000000\n",
      "Class 2:\tTest Precision: 1.00000000,\tTest Recall: 0.67870517,\tTest f1: 0.80860556\n",
      "Class 3:\tTest Precision: 0.00000000,\tTest Recall: 0.00000000,\tTest f1: 0.00000000\n",
      "Accuracy for class 0 : 0.7167268310785736\n",
      "FNR for class 0 : -1\n",
      "Accuracy for class 1 : 0.9648291218244999\n",
      "FNR for class 1 : -1\n",
      "Accuracy for class 2 : 0.6787051718902871\n",
      "FNR for class 2 : 0.3212948281097129\n",
      "Accuracy for class 3 : 0.9971492189872136\n",
      "FNR for class 3 : -1\n"
     ]
    },
    {
     "name": "stderr",
     "output_type": "stream",
     "text": [
      "/Users/asonata/anaconda3/envs/cs3264/lib/python3.12/site-packages/sklearn/metrics/_classification.py:1509: UndefinedMetricWarning: Recall is ill-defined and being set to 0.0 in labels with no true samples. Use `zero_division` parameter to control this behavior.\n",
      "  _warn_prf(average, modifier, f\"{metric.capitalize()} is\", len(result))\n",
      "/Users/asonata/anaconda3/envs/cs3264/lib/python3.12/site-packages/sklearn/metrics/_classification.py:1509: UndefinedMetricWarning: Recall is ill-defined and being set to 0.0 in labels with no true samples. Use `zero_division` parameter to control this behavior.\n",
      "  _warn_prf(average, modifier, f\"{metric.capitalize()} is\", len(result))\n"
     ]
    }
   ],
   "source": [
    "precision = precision_score(y_phishing, pred_combined_y_phishing, average='weighted')\n",
    "recall = recall_score(y_phishing, pred_combined_y_phishing, average='weighted')\n",
    "f1 = f1_score(y_phishing, pred_combined_y_phishing, average='weighted')\n",
    "val_accuracy = accuracy_score(y_phishing, pred_combined_y_phishing)\n",
    "print(f'OVERALL: Accuracy: {val_accuracy:.8f}, Precision: {precision:.8f}, Recall: {recall:.8f}, F1 Score: {f1:.8f}')\n",
    "\n",
    "class_test_precision, class_test_recall, class_test_f1, class_ = precision_recall_fscore_support(y_phishing, pred_combined_y_phishing)\n",
    "for i in range(4):\n",
    "    print(f'Class {i}:\\tTest Precision: {class_test_precision[i]:.8f},\\tTest Recall: {class_test_recall[i]:.8f},\\tTest f1: {class_test_f1[i]:.8f}')\n",
    "calc_FNR_accuracy(y_phishing, pred_combined_y_phishing)"
   ]
  },
  {
   "cell_type": "markdown",
   "metadata": {},
   "source": [
    "### Test on benign dataset"
   ]
  },
  {
   "cell_type": "code",
   "execution_count": 50,
   "metadata": {},
   "outputs": [
    {
     "name": "stderr",
     "output_type": "stream",
     "text": [
      "/Users/asonata/anaconda3/envs/cs3264/lib/python3.12/site-packages/sklearn/base.py:493: UserWarning: X does not have valid feature names, but RandomForestClassifier was fitted with feature names\n",
      "  warnings.warn(\n"
     ]
    }
   ],
   "source": [
    "training_dataset_benign = {'rf-minimal.pkl': 'rf-minimal-test-benign.csv',\n",
    "                    'rf-general.pkl': 'rf-general-test-benign.csv',\n",
    "                    'rf-lexical.pkl': 'rf-lexical-test-benign.csv'}\n",
    "\n",
    "input_ensemble_benign = None\n",
    "\n",
    "# Prepare predictions from models\n",
    "for i in range(len(models)):\n",
    "    model_name, model = models[i]\n",
    "    X_test = pd.read_csv(training_dataset_benign[model_name], header=None, skiprows=1)\n",
    "    if model_name in [\"rf-minimal.pkl\", \"rf-general.pkl\"]:\n",
    "        X_test = scalers[model_name].transform(X_test)\n",
    "\n",
    "    y_pred = model.predict(X_test) # prediction for model\n",
    "\n",
    "    if input_ensemble_benign is None:\n",
    "        input_ensemble_benign = np.empty((y_pred.shape[0], 3))\n",
    "\n",
    "    input_ensemble_benign[:, i] = y_pred"
   ]
  },
  {
   "cell_type": "code",
   "execution_count": 51,
   "metadata": {},
   "outputs": [],
   "source": [
    "# Benign is label 0.\n",
    "y_benign = np.full((input_ensemble_benign.shape[0],), 0)\n",
    "\n",
    "pred_combined_y_benign = input_ensemble_benign[:, model_col_rev[\"rf-general.pkl\"]]\n",
    "row = 0\n",
    "for entry in input_ensemble_benign:\n",
    "    index_benign_spec = model_col_rev[\"rf-minimal.pkl\"]\n",
    "    index_lexical = model_col_rev[\"rf-lexical.pkl\"]\n",
    "    if entry[index_benign_spec] == 0 and entry[index_lexical] == 0:\n",
    "        pred_combined_y_benign[row] = 0\n",
    "    row += 1"
   ]
  },
  {
   "cell_type": "code",
   "execution_count": 52,
   "metadata": {},
   "outputs": [
    {
     "name": "stdout",
     "output_type": "stream",
     "text": [
      "OVERALL: Accuracy: 0.59436625, Precision: 1.00000000, Recall: 0.59436625, F1 Score: 0.74558308\n",
      "Class 0:\tTest Precision: 1.00000000,\tTest Recall: 0.59436625,\tTest f1: 0.74558308\n",
      "Class 1:\tTest Precision: 0.00000000,\tTest Recall: 0.00000000,\tTest f1: 0.00000000\n",
      "Class 2:\tTest Precision: 0.00000000,\tTest Recall: 0.00000000,\tTest f1: 0.00000000\n",
      "Class 3:\tTest Precision: 0.00000000,\tTest Recall: 0.00000000,\tTest f1: 0.00000000\n",
      "Accuracy for class 0 : 0.59436625421562\n",
      "FNR for class 0 : 0.4056337457843801\n",
      "Accuracy for class 1 : 0.7702913767072176\n",
      "FNR for class 1 : -1\n",
      "Accuracy for class 2 : 0.8247054127692067\n",
      "FNR for class 2 : -1\n",
      "Accuracy for class 3 : 0.9993694647391955\n",
      "FNR for class 3 : -1\n"
     ]
    },
    {
     "name": "stderr",
     "output_type": "stream",
     "text": [
      "/Users/asonata/anaconda3/envs/cs3264/lib/python3.12/site-packages/sklearn/metrics/_classification.py:1509: UndefinedMetricWarning: Recall is ill-defined and being set to 0.0 in labels with no true samples. Use `zero_division` parameter to control this behavior.\n",
      "  _warn_prf(average, modifier, f\"{metric.capitalize()} is\", len(result))\n",
      "/Users/asonata/anaconda3/envs/cs3264/lib/python3.12/site-packages/sklearn/metrics/_classification.py:1509: UndefinedMetricWarning: Recall is ill-defined and being set to 0.0 in labels with no true samples. Use `zero_division` parameter to control this behavior.\n",
      "  _warn_prf(average, modifier, f\"{metric.capitalize()} is\", len(result))\n"
     ]
    }
   ],
   "source": [
    "precision = precision_score(y_benign, pred_combined_y_benign, average='weighted')\n",
    "recall = recall_score(y_benign, pred_combined_y_benign, average='weighted')\n",
    "f1 = f1_score(y_benign, pred_combined_y_benign, average='weighted')\n",
    "val_accuracy = accuracy_score(y_benign, pred_combined_y_benign)\n",
    "print(f'OVERALL: Accuracy: {val_accuracy:.8f}, Precision: {precision:.8f}, Recall: {recall:.8f}, F1 Score: {f1:.8f}')\n",
    "\n",
    "class_test_precision, class_test_recall, class_test_f1, class_ = precision_recall_fscore_support(y_benign, pred_combined_y_benign)\n",
    "for i in range(4):\n",
    "    print(f'Class {i}:\\tTest Precision: {class_test_precision[i]:.8f},\\tTest Recall: {class_test_recall[i]:.8f},\\tTest f1: {class_test_f1[i]:.8f}')\n",
    "calc_FNR_accuracy(y_benign, pred_combined_y_benign)"
   ]
  }
 ],
 "metadata": {
  "kernelspec": {
   "display_name": "cs3264",
   "language": "python",
   "name": "python3"
  },
  "language_info": {
   "codemirror_mode": {
    "name": "ipython",
    "version": 3
   },
   "file_extension": ".py",
   "mimetype": "text/x-python",
   "name": "python",
   "nbconvert_exporter": "python",
   "pygments_lexer": "ipython3",
   "version": "3.12.2"
  }
 },
 "nbformat": 4,
 "nbformat_minor": 2
}
