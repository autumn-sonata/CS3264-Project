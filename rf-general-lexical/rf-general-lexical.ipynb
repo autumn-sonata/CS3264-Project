{
 "cells": [
  {
   "cell_type": "markdown",
   "metadata": {},
   "source": [
    "### Setup"
   ]
  },
  {
   "cell_type": "code",
   "execution_count": 1,
   "metadata": {},
   "outputs": [],
   "source": [
    "import math\n",
    "import pandas as pd\n",
    "from sklearn.ensemble import RandomForestClassifier\n",
    "from sklearn.model_selection import train_test_split\n",
    "from sklearn.metrics import accuracy_score, precision_score, recall_score, f1_score, precision_recall_fscore_support, confusion_matrix\n",
    "import numpy as np\n",
    "import tldextract\n",
    "from urllib.parse import urlparse, parse_qs\n",
    "import re"
   ]
  },
  {
   "cell_type": "markdown",
   "metadata": {},
   "source": [
    "### Dataset"
   ]
  },
  {
   "cell_type": "code",
   "execution_count": 2,
   "metadata": {},
   "outputs": [
    {
     "data": {
      "text/html": [
       "<div>\n",
       "<style scoped>\n",
       "    .dataframe tbody tr th:only-of-type {\n",
       "        vertical-align: middle;\n",
       "    }\n",
       "\n",
       "    .dataframe tbody tr th {\n",
       "        vertical-align: top;\n",
       "    }\n",
       "\n",
       "    .dataframe thead th {\n",
       "        text-align: right;\n",
       "    }\n",
       "</style>\n",
       "<table border=\"1\" class=\"dataframe\">\n",
       "  <thead>\n",
       "    <tr style=\"text-align: right;\">\n",
       "      <th></th>\n",
       "      <th>0</th>\n",
       "      <th>1</th>\n",
       "    </tr>\n",
       "  </thead>\n",
       "  <tbody>\n",
       "    <tr>\n",
       "      <th>0</th>\n",
       "      <td>br-icloud.com.br</td>\n",
       "      <td>phishing</td>\n",
       "    </tr>\n",
       "    <tr>\n",
       "      <th>1</th>\n",
       "      <td>mp3raid.com/music/krizz_kaliko.html</td>\n",
       "      <td>benign</td>\n",
       "    </tr>\n",
       "    <tr>\n",
       "      <th>2</th>\n",
       "      <td>bopsecrets.org/rexroth/cr/1.htm</td>\n",
       "      <td>benign</td>\n",
       "    </tr>\n",
       "    <tr>\n",
       "      <th>3</th>\n",
       "      <td>http://www.garage-pirenne.be/index.php?option=...</td>\n",
       "      <td>defacement</td>\n",
       "    </tr>\n",
       "    <tr>\n",
       "      <th>4</th>\n",
       "      <td>http://adventure-nicaragua.net/index.php?optio...</td>\n",
       "      <td>defacement</td>\n",
       "    </tr>\n",
       "  </tbody>\n",
       "</table>\n",
       "</div>"
      ],
      "text/plain": [
       "                                                   0           1\n",
       "0                                   br-icloud.com.br    phishing\n",
       "1                mp3raid.com/music/krizz_kaliko.html      benign\n",
       "2                    bopsecrets.org/rexroth/cr/1.htm      benign\n",
       "3  http://www.garage-pirenne.be/index.php?option=...  defacement\n",
       "4  http://adventure-nicaragua.net/index.php?optio...  defacement"
      ]
     },
     "execution_count": 2,
     "metadata": {},
     "output_type": "execute_result"
    }
   ],
   "source": [
    "df = pd.read_csv('../datasets/malicious_phish.csv', header=None, skiprows=1)\n",
    "df.head()"
   ]
  },
  {
   "cell_type": "code",
   "execution_count": 3,
   "metadata": {},
   "outputs": [
    {
     "name": "stdout",
     "output_type": "stream",
     "text": [
      "0                                     br-icloud.com.br\n",
      "1                  mp3raid.com/music/krizz_kaliko.html\n",
      "2                      bopsecrets.org/rexroth/cr/1.htm\n",
      "3    http://www.garage-pirenne.be/index.php?option=...\n",
      "4    http://adventure-nicaragua.net/index.php?optio...\n",
      "Name: 0, dtype: object\n",
      "0      phishing\n",
      "1        benign\n",
      "2        benign\n",
      "3    defacement\n",
      "4    defacement\n",
      "Name: 1, dtype: object\n",
      "1\n",
      "benign        428103\n",
      "defacement     96457\n",
      "phishing       94111\n",
      "malware        32520\n",
      "Name: count, dtype: int64\n"
     ]
    }
   ],
   "source": [
    "X = df.iloc[:, 0]\n",
    "y = df.iloc[:, 1]\n",
    "\n",
    "print(X.head())\n",
    "print(y.head())\n",
    "print(y.value_counts())"
   ]
  },
  {
   "cell_type": "code",
   "execution_count": 4,
   "metadata": {},
   "outputs": [
    {
     "data": {
      "text/plain": [
       "1\n",
       "0    428103\n",
       "1     96457\n",
       "2     94111\n",
       "3     32520\n",
       "Name: count, dtype: int64"
      ]
     },
     "execution_count": 4,
     "metadata": {},
     "output_type": "execute_result"
    }
   ],
   "source": [
    "def classification_type(type):\n",
    "    '''\n",
    "    Convert classification type into values:\n",
    "        1) Benign = 0\n",
    "        2) Defacement = 1\n",
    "        3) Phishing = 2\n",
    "        4) Malware = 3    \n",
    "    '''\n",
    "    if type == \"benign\":\n",
    "        return 0\n",
    "    elif type == \"defacement\":\n",
    "        return 1\n",
    "    elif type == \"phishing\":\n",
    "        return 2\n",
    "    elif type == \"malware\":\n",
    "        return 3\n",
    "    else:\n",
    "        print(f\"Unable to find proper type: {type}\")\n",
    "\n",
    "y = y.apply(classification_type)\n",
    "y.value_counts()"
   ]
  },
  {
   "cell_type": "markdown",
   "metadata": {},
   "source": [
    "### Feature extraction"
   ]
  },
  {
   "cell_type": "markdown",
   "metadata": {},
   "source": [
    "#### `general`"
   ]
  },
  {
   "cell_type": "code",
   "execution_count": 5,
   "metadata": {},
   "outputs": [],
   "source": [
    "# www\n",
    "def get_www(url):\n",
    "    return len(re.findall(r\"www\", url))\n",
    "\n",
    "# url_length\n",
    "# DUPLICATE\n",
    "\n",
    "# digit_count\n",
    "def get_num_digits(url):\n",
    "    return len(re.findall(r'\\d', url))\n",
    "\n",
    "# dot_count\n",
    "def get_num_dot(url):\n",
    "    return len(re.findall(r'.', url))\n",
    "\n",
    "# bs_count\n",
    "def get_num_backslash(url):\n",
    "    return len(re.findall(r'/', url))\n",
    "\n",
    "# dash_count\n",
    "def get_num_dash(url):\n",
    "    return len(re.findall(r'-', url))\n",
    "\n",
    "# url_entropy\n",
    "def get_url_entropy(url):\n",
    "    url_str = url.strip()\n",
    "    prob = [float(url_str.count(c)) / len(url_str) for c in dict.fromkeys(list(url_str))]\n",
    "    entropy = sum([(p * math.log(p) / math.log(2.0)) for p in prob])\n",
    "    return entropy\n",
    "\n",
    "# params_count\n",
    "def get_num_params(url):\n",
    "    params = url.split('&')\n",
    "    return len(params) - 1\n",
    "\n",
    "# subdomain_count\n",
    "def get_num_subdomains(url):\n",
    "    extracted = tldextract.extract(url)\n",
    "    return len(extracted.subdomain.split('.'))\n",
    "\n",
    "# domain_extension\n",
    "def get_domain_extension(url):\n",
    "    extracted = tldextract.extract(url)\n",
    "    if extracted.suffix == '':\n",
    "      return 'None'\n",
    "    return extracted.suffix\n",
    "\n",
    "# underscores_count\n",
    "def get_num_underscores(url):\n",
    "    return len(re.findall(r'_', url))\n",
    "\n",
    "# questionmarks_count\n",
    "def get_num_questionmarks(url):\n",
    "    return len(re.findall(r'\\?', url))\n",
    "\n",
    "# equals_count\n",
    "def get_num_equals(url):\n",
    "    return len(re.findall(r'=', url))\n",
    "\n",
    "# ampersands_count\n",
    "def get_num_ampersands(url):\n",
    "    return len(re.findall(r'\\&', url))\n",
    "\n",
    "# digit_letter_ratio\n",
    "# DUPLICATE\n",
    "\n",
    "# pd_num_count\n",
    "# DUPLICATE\n",
    "\n",
    "# pd_non_alphanumeric_count\n",
    "# DUPLICATE\n",
    "\n",
    "# uppercase_dirs\n",
    "# DIFF\n",
    "def uppercase_dirs_count(url):\n",
    "    path = urlparse(url).path\n",
    "    return sum(1 for dir_name in path.split('/') if any(c.isupper() for c in dir_name))\n",
    "\n",
    "# path_count_special_chars\n",
    "# DIFF\n",
    "def special_chars_count(url):\n",
    "    path = urlparse(url).path\n",
    "    return sum(1 for c in path if not c.isalnum() and c != '/')\n",
    "\n",
    "# path_uppercase_to_lowercase_ratio\n",
    "# DIFF\n",
    "def uppercase_to_lowercase_ratio(url):\n",
    "    # Extract the path from the URL\n",
    "    path = urlparse(url).path\n",
    "    # Calculate the ratio of uppercase to lowercase characters\n",
    "    uppercase_count = sum(1 for c in path if c.isupper())\n",
    "    lowercase_count = sum(1 for c in path if c.islower())\n",
    "    return uppercase_count / lowercase_count if lowercase_count > 0 else 0\n",
    "\n",
    "# params_length\n",
    "# DIFF\n",
    "def params_get_length(url):\n",
    "    query = urlparse(url).query\n",
    "    return len(query)\n",
    "\n",
    "# queries_count\n",
    "# DIFF\n",
    "def queries_get_count(url):\n",
    "    query = urlparse(url).query\n",
    "    return len(parse_qs(query))\n",
    "\n",
    "def get_general_feature_set(X_):\n",
    "    return pd.concat([\n",
    "        X_.apply(get_www),\n",
    "        X_.apply(get_num_digits),\n",
    "        X_.apply(get_num_dot),\n",
    "        X_.apply(get_num_backslash),\n",
    "        X_.apply(get_num_dash),\n",
    "        X_.apply(get_url_entropy),\n",
    "        X_.apply(get_num_params),\n",
    "        X_.apply(get_num_subdomains),\n",
    "        pd.DataFrame(X_.apply(get_domain_extension).factorize()[0]),\n",
    "        X_.apply(get_num_underscores),\n",
    "        X_.apply(get_num_questionmarks),\n",
    "        X_.apply(get_num_equals),\n",
    "        X_.apply(get_num_ampersands),\n",
    "        X_.apply(uppercase_dirs_count),\n",
    "        X_.apply(special_chars_count),\n",
    "        X_.apply(uppercase_to_lowercase_ratio),\n",
    "        X_.apply(params_get_length),\n",
    "        X_.apply(queries_get_count)],\n",
    "        axis=1)\n",
    "\n",
    "# general_feat = get_general_feat(X)\n",
    "# general_feat.head()"
   ]
  },
  {
   "cell_type": "markdown",
   "metadata": {},
   "source": [
    "___"
   ]
  },
  {
   "cell_type": "markdown",
   "metadata": {},
   "source": [
    "#### `lexical`"
   ]
  },
  {
   "cell_type": "markdown",
   "metadata": {},
   "source": [
    "#### URL"
   ]
  },
  {
   "cell_type": "code",
   "execution_count": 6,
   "metadata": {},
   "outputs": [],
   "source": [
    "# Length\n",
    "def get_url_length(url):\n",
    "    return len(url)\n",
    "\n",
    "# Number of ; _ ? = &\n",
    "def get_url_punct_count(url):\n",
    "    return len(re.findall(r'[;_\\?=&]', url))\n",
    "\n",
    "# Digit to Letter ratio\n",
    "def get_url_dlr(url):\n",
    "    num_digits = len(re.findall(r'\\d', url))\n",
    "    num_letters = len(re.findall(r'[a-zA-Z]', url))\n",
    "    if num_letters:\n",
    "        return num_digits / num_letters\n",
    "    else:\n",
    "        return 0\n",
    "\n",
    "def get_url_feat(X_):\n",
    "    return pd.concat([\n",
    "        X_.apply(get_url_length),       # Length\n",
    "        X_.apply(get_url_punct_count),  # Number of ; _ ? = &\n",
    "        X_.apply(get_url_dlr)],             # Digit to Letter ratio\n",
    "    axis=1)\n",
    "\n",
    "# URL_feat = get_url_feat(X)\n",
    "# URL_feat.head()"
   ]
  },
  {
   "cell_type": "markdown",
   "metadata": {},
   "source": [
    "#### Primary domain"
   ]
  },
  {
   "cell_type": "code",
   "execution_count": 7,
   "metadata": {},
   "outputs": [],
   "source": [
    "def get_primary_domain(url):\n",
    "    extracted = tldextract.extract(url)\n",
    "    return extracted.domain + '.' + extracted.suffix\n",
    "\n",
    "# Presence of IP\n",
    "def get_PD_has_IP(url):\n",
    "    return int(bool(re.match(r'(?:[0-9]{1,3}\\.){3}[0-9]{1,3}', url)))\n",
    "\n",
    "# Length\n",
    "def get_PD_len(url):\n",
    "    return len(url)\n",
    "\n",
    "# Number of digits\n",
    "def get_PD_digits(url):\n",
    "    return len(re.findall(r'\\d', url))\n",
    "\n",
    "# Number of non-alphanumeric characters\n",
    "def get_PD_num_non_alphanumeric(url):\n",
    "    return len(re.findall(r'[^a-zA-Z0-9]', url))\n",
    "\n",
    "# Number of hyphens\n",
    "def get_PD_num_hyphens(url):\n",
    "    return len(re.findall(r'-', url))\n",
    "\n",
    "# Number of @s\n",
    "def get_PD_num_at(url):\n",
    "    return len(re.findall(r'@', url))\n",
    "\n",
    "def get_PD_feat(X_):\n",
    "    PD = X_.apply(lambda x: get_primary_domain(x))\n",
    "    return pd.concat([\n",
    "        PD.apply(get_PD_has_IP),               # Presence of IP\n",
    "        PD.apply(get_PD_len),                  # Length\n",
    "        PD.apply(get_PD_digits),               # Number of digits\n",
    "        PD.apply(get_PD_num_non_alphanumeric), # Number of non-alphanumeric characters\n",
    "        PD.apply(get_PD_num_hyphens),          # Number of hyphens\n",
    "        PD.apply(get_PD_num_at)],              # Number of @s\n",
    "        axis=1)\n",
    "\n",
    "# PD_feat = get_PD_feat(X)\n",
    "# PD_feat.head()"
   ]
  },
  {
   "cell_type": "markdown",
   "metadata": {},
   "source": [
    "#### Subdomain"
   ]
  },
  {
   "cell_type": "code",
   "execution_count": 8,
   "metadata": {},
   "outputs": [],
   "source": [
    "# Number of dots\n",
    "def get_SD_num_dots(url):\n",
    "    return url.count('.')\n",
    "\n",
    "# Number of subdomains\n",
    "def get_num_SD(url):\n",
    "    return sum(1 for subdomain in url.split('.') if subdomain)\n",
    "\n",
    "def get_SD_feat(X_):\n",
    "    SD = X_.apply(lambda x: tldextract.extract(x).subdomain)\n",
    "    return pd.concat([\n",
    "        SD.apply(get_SD_num_dots),  # Number of dots\n",
    "        SD.apply(get_num_SD)],      # Number of subdomains\n",
    "        axis=1)\n",
    "\n",
    "# SD_feat = get_SD_feat(X)\n",
    "# SD_feat.head()"
   ]
  },
  {
   "cell_type": "markdown",
   "metadata": {},
   "source": [
    "#### Path"
   ]
  },
  {
   "cell_type": "code",
   "execution_count": 9,
   "metadata": {},
   "outputs": [],
   "source": [
    "# ensure proper parsing of paths\n",
    "def parse_path(url):\n",
    "    try:\n",
    "        if url.startswith('https://') or url.startswith('http://'):\n",
    "            return urlparse(url)\n",
    "        else:\n",
    "            return urlparse('https://' + url)\n",
    "    except:\n",
    "        return urlparse(url)\n",
    "\n",
    "# Number of //\n",
    "def get_path_num_dbl_fwdslash(url):\n",
    "    return len(re.findall(r'//', url))\n",
    "\n",
    "# Number of subdirectories\n",
    "def get_path_num_subdirs(url):\n",
    "    return url.count('/')\n",
    "\n",
    "# Presence of %20\n",
    "def get_path_has_percent20(url):\n",
    "    return int('%20' in url)\n",
    "\n",
    "# Presence of uppercase directories\n",
    "def get_path_has_uppercase_dirs(url):\n",
    "    return int(any(any(c.isupper() for c in dir_name) for dir_name in url.split('/')))\n",
    "\n",
    "# Presence of single character directories\n",
    "def get_path_has_char_dirs(url):\n",
    "    return int(any((len(dir_name) == 1) for dir_name in url.split('/')))\n",
    "\n",
    "# Number of special characters\n",
    "def get_path_num_special_chars(url):\n",
    "    return sum(len(re.findall(r'[^A-Za-z0-9]', dir_name)) for dir_name in url.split('/'))\n",
    "\n",
    "# Number of 0s\n",
    "def get_path_num_zeroes(url):\n",
    "    return url.count('0')\n",
    "\n",
    "# Ratio of uppercase to lowercase characters\n",
    "def get_path_upper_to_lower_ratio(url):\n",
    "    upper_count = sum(1 for c in url if c.isupper())\n",
    "    lower_count = sum(1 for c in url if c.islower())\n",
    "    if lower_count:\n",
    "        return upper_count / lower_count\n",
    "    else:\n",
    "        return 0\n",
    "\n",
    "def get_path_feat(X_):\n",
    "    path_ = X_.apply(lambda x: parse_path(x).path)\n",
    "    return pd.concat([\n",
    "        path_.apply(get_path_num_dbl_fwdslash),         # Number of //\n",
    "        path_.apply(get_path_num_subdirs),              # Number of subdirectories\n",
    "        path_.apply(get_path_has_percent20),            # Presence of %20\n",
    "        path_.apply(get_path_has_uppercase_dirs),       # Presence of uppercase directories\n",
    "        path_.apply(get_path_has_char_dirs),            # Presence of single character directories\n",
    "        path_.apply(get_path_num_special_chars),        # Number of special characters\n",
    "        path_.apply(get_path_num_zeroes),               # Number of 0s\n",
    "        path_.apply(get_path_upper_to_lower_ratio)],    # Ratio of uppercase to lowercase characters\n",
    "        axis=1)\n",
    "\n",
    "# path_feat = get_path_feat(X)\n",
    "# path_feat.head()"
   ]
  },
  {
   "cell_type": "markdown",
   "metadata": {},
   "source": [
    "#### Parameters"
   ]
  },
  {
   "cell_type": "code",
   "execution_count": 10,
   "metadata": {},
   "outputs": [],
   "source": [
    "# Length\n",
    "def get_param_length(url):\n",
    "    return sum(len(value[0]) for value in parse_qs(urlparse(url).query).values())\n",
    "\n",
    "def get_param_feat(X_):\n",
    "    return pd.concat([\n",
    "        X_.apply(get_param_length)],    # Length\n",
    "        axis=1)\n",
    "\n",
    "# param_feat = get_param_feat(X)\n",
    "# param_feat.head()"
   ]
  },
  {
   "cell_type": "markdown",
   "metadata": {},
   "source": [
    "#### Query"
   ]
  },
  {
   "cell_type": "code",
   "execution_count": 11,
   "metadata": {},
   "outputs": [],
   "source": [
    "# Number of queries\n",
    "def get_num_queries(url):\n",
    "    return len(parse_qs(urlparse(url).query))\n",
    "\n",
    "def get_query_feat(X_):\n",
    "    return pd.concat([\n",
    "        X_.apply(get_num_queries)\n",
    "    ])\n",
    "\n",
    "# query_feat = get_query_feat(X)\n",
    "# query_feat.head()"
   ]
  },
  {
   "cell_type": "code",
   "execution_count": 12,
   "metadata": {},
   "outputs": [],
   "source": [
    "def get_lexical_feature_set(X_):\n",
    "    return pd.concat([\n",
    "        get_url_feat(X_),\n",
    "        get_PD_feat(X_),\n",
    "        get_SD_feat(X_),\n",
    "        get_path_feat(X_),\n",
    "        get_param_feat(X_),\n",
    "        get_query_feat(X_)],\n",
    "        axis=1)\n",
    "\n",
    "# feature_set = get_lexical_feature_set(X)\n",
    "# feature_set.head()"
   ]
  },
  {
   "cell_type": "code",
   "execution_count": 13,
   "metadata": {},
   "outputs": [
    {
     "data": {
      "text/html": [
       "<div>\n",
       "<style scoped>\n",
       "    .dataframe tbody tr th:only-of-type {\n",
       "        vertical-align: middle;\n",
       "    }\n",
       "\n",
       "    .dataframe tbody tr th {\n",
       "        vertical-align: top;\n",
       "    }\n",
       "\n",
       "    .dataframe thead th {\n",
       "        text-align: right;\n",
       "    }\n",
       "</style>\n",
       "<table border=\"1\" class=\"dataframe\">\n",
       "  <thead>\n",
       "    <tr style=\"text-align: right;\">\n",
       "      <th></th>\n",
       "      <th>0</th>\n",
       "      <th>0</th>\n",
       "      <th>0</th>\n",
       "      <th>0</th>\n",
       "      <th>0</th>\n",
       "      <th>0</th>\n",
       "      <th>0</th>\n",
       "      <th>0</th>\n",
       "      <th>0</th>\n",
       "      <th>0</th>\n",
       "      <th>...</th>\n",
       "      <th>0</th>\n",
       "      <th>0</th>\n",
       "      <th>0</th>\n",
       "      <th>0</th>\n",
       "      <th>0</th>\n",
       "      <th>0</th>\n",
       "      <th>0</th>\n",
       "      <th>0</th>\n",
       "      <th>0</th>\n",
       "      <th>0</th>\n",
       "    </tr>\n",
       "  </thead>\n",
       "  <tbody>\n",
       "    <tr>\n",
       "      <th>0</th>\n",
       "      <td>0</td>\n",
       "      <td>0</td>\n",
       "      <td>16</td>\n",
       "      <td>0</td>\n",
       "      <td>1</td>\n",
       "      <td>-3.375000</td>\n",
       "      <td>0</td>\n",
       "      <td>1</td>\n",
       "      <td>0</td>\n",
       "      <td>0</td>\n",
       "      <td>...</td>\n",
       "      <td>0</td>\n",
       "      <td>0</td>\n",
       "      <td>0</td>\n",
       "      <td>0</td>\n",
       "      <td>0</td>\n",
       "      <td>0</td>\n",
       "      <td>0</td>\n",
       "      <td>0.0</td>\n",
       "      <td>0</td>\n",
       "      <td>0</td>\n",
       "    </tr>\n",
       "    <tr>\n",
       "      <th>1</th>\n",
       "      <td>0</td>\n",
       "      <td>1</td>\n",
       "      <td>35</td>\n",
       "      <td>2</td>\n",
       "      <td>0</td>\n",
       "      <td>-4.079143</td>\n",
       "      <td>0</td>\n",
       "      <td>1</td>\n",
       "      <td>1</td>\n",
       "      <td>1</td>\n",
       "      <td>...</td>\n",
       "      <td>0</td>\n",
       "      <td>2</td>\n",
       "      <td>0</td>\n",
       "      <td>0</td>\n",
       "      <td>0</td>\n",
       "      <td>2</td>\n",
       "      <td>0</td>\n",
       "      <td>0.0</td>\n",
       "      <td>0</td>\n",
       "      <td>0</td>\n",
       "    </tr>\n",
       "    <tr>\n",
       "      <th>2</th>\n",
       "      <td>0</td>\n",
       "      <td>1</td>\n",
       "      <td>31</td>\n",
       "      <td>3</td>\n",
       "      <td>0</td>\n",
       "      <td>-3.708093</td>\n",
       "      <td>0</td>\n",
       "      <td>1</td>\n",
       "      <td>2</td>\n",
       "      <td>0</td>\n",
       "      <td>...</td>\n",
       "      <td>0</td>\n",
       "      <td>3</td>\n",
       "      <td>0</td>\n",
       "      <td>0</td>\n",
       "      <td>0</td>\n",
       "      <td>1</td>\n",
       "      <td>0</td>\n",
       "      <td>0.0</td>\n",
       "      <td>0</td>\n",
       "      <td>0</td>\n",
       "    </tr>\n",
       "    <tr>\n",
       "      <th>3</th>\n",
       "      <td>1</td>\n",
       "      <td>7</td>\n",
       "      <td>88</td>\n",
       "      <td>3</td>\n",
       "      <td>1</td>\n",
       "      <td>-4.660343</td>\n",
       "      <td>3</td>\n",
       "      <td>1</td>\n",
       "      <td>3</td>\n",
       "      <td>2</td>\n",
       "      <td>...</td>\n",
       "      <td>0</td>\n",
       "      <td>1</td>\n",
       "      <td>0</td>\n",
       "      <td>0</td>\n",
       "      <td>0</td>\n",
       "      <td>1</td>\n",
       "      <td>0</td>\n",
       "      <td>0.0</td>\n",
       "      <td>22</td>\n",
       "      <td>4</td>\n",
       "    </tr>\n",
       "    <tr>\n",
       "      <th>4</th>\n",
       "      <td>0</td>\n",
       "      <td>22</td>\n",
       "      <td>235</td>\n",
       "      <td>3</td>\n",
       "      <td>1</td>\n",
       "      <td>-5.491293</td>\n",
       "      <td>2</td>\n",
       "      <td>1</td>\n",
       "      <td>4</td>\n",
       "      <td>1</td>\n",
       "      <td>...</td>\n",
       "      <td>0</td>\n",
       "      <td>1</td>\n",
       "      <td>0</td>\n",
       "      <td>0</td>\n",
       "      <td>0</td>\n",
       "      <td>1</td>\n",
       "      <td>0</td>\n",
       "      <td>0.0</td>\n",
       "      <td>175</td>\n",
       "      <td>3</td>\n",
       "    </tr>\n",
       "  </tbody>\n",
       "</table>\n",
       "<p>5 rows × 39 columns</p>\n",
       "</div>"
      ],
      "text/plain": [
       "   0   0    0  0  0         0  0  0  0  0  ...  0  0  0  0  0  0  0    0    0  \\\n",
       "0  0   0   16  0  1 -3.375000  0  1  0  0  ...  0  0  0  0  0  0  0  0.0    0   \n",
       "1  0   1   35  2  0 -4.079143  0  1  1  1  ...  0  2  0  0  0  2  0  0.0    0   \n",
       "2  0   1   31  3  0 -3.708093  0  1  2  0  ...  0  3  0  0  0  1  0  0.0    0   \n",
       "3  1   7   88  3  1 -4.660343  3  1  3  2  ...  0  1  0  0  0  1  0  0.0   22   \n",
       "4  0  22  235  3  1 -5.491293  2  1  4  1  ...  0  1  0  0  0  1  0  0.0  175   \n",
       "\n",
       "   0  \n",
       "0  0  \n",
       "1  0  \n",
       "2  0  \n",
       "3  4  \n",
       "4  3  \n",
       "\n",
       "[5 rows x 39 columns]"
      ]
     },
     "execution_count": 13,
     "metadata": {},
     "output_type": "execute_result"
    }
   ],
   "source": [
    "feature_set = pd.concat([\n",
    "    get_general_feature_set(X),\n",
    "    get_lexical_feature_set(X)],\n",
    "    axis=1)\n",
    "feature_set.head()"
   ]
  },
  {
   "cell_type": "markdown",
   "metadata": {},
   "source": [
    "### Train Test Split"
   ]
  },
  {
   "cell_type": "code",
   "execution_count": 14,
   "metadata": {},
   "outputs": [],
   "source": [
    "X_train, X_test, y_train, y_test = train_test_split(feature_set, y, test_size=0.2, random_state=69)"
   ]
  },
  {
   "cell_type": "code",
   "execution_count": 15,
   "metadata": {},
   "outputs": [
    {
     "name": "stdout",
     "output_type": "stream",
     "text": [
      "1\n",
      "0    342451\n",
      "1     77182\n",
      "2     75393\n",
      "3     25926\n",
      "Name: count, dtype: int64\n",
      "1\n",
      "0    85652\n",
      "1    19275\n",
      "2    18718\n",
      "3     6594\n",
      "Name: count, dtype: int64\n"
     ]
    }
   ],
   "source": [
    "print(y_train.value_counts())\n",
    "print(y_test.value_counts())"
   ]
  },
  {
   "cell_type": "markdown",
   "metadata": {},
   "source": [
    "### Model"
   ]
  },
  {
   "cell_type": "code",
   "execution_count": 16,
   "metadata": {},
   "outputs": [],
   "source": [
    "model = RandomForestClassifier(n_estimators=50, max_depth=20, random_state=69)"
   ]
  },
  {
   "cell_type": "code",
   "execution_count": 17,
   "metadata": {},
   "outputs": [
    {
     "data": {
      "text/html": [
       "<style>#sk-container-id-1 {\n",
       "  /* Definition of color scheme common for light and dark mode */\n",
       "  --sklearn-color-text: black;\n",
       "  --sklearn-color-line: gray;\n",
       "  /* Definition of color scheme for unfitted estimators */\n",
       "  --sklearn-color-unfitted-level-0: #fff5e6;\n",
       "  --sklearn-color-unfitted-level-1: #f6e4d2;\n",
       "  --sklearn-color-unfitted-level-2: #ffe0b3;\n",
       "  --sklearn-color-unfitted-level-3: chocolate;\n",
       "  /* Definition of color scheme for fitted estimators */\n",
       "  --sklearn-color-fitted-level-0: #f0f8ff;\n",
       "  --sklearn-color-fitted-level-1: #d4ebff;\n",
       "  --sklearn-color-fitted-level-2: #b3dbfd;\n",
       "  --sklearn-color-fitted-level-3: cornflowerblue;\n",
       "\n",
       "  /* Specific color for light theme */\n",
       "  --sklearn-color-text-on-default-background: var(--sg-text-color, var(--theme-code-foreground, var(--jp-content-font-color1, black)));\n",
       "  --sklearn-color-background: var(--sg-background-color, var(--theme-background, var(--jp-layout-color0, white)));\n",
       "  --sklearn-color-border-box: var(--sg-text-color, var(--theme-code-foreground, var(--jp-content-font-color1, black)));\n",
       "  --sklearn-color-icon: #696969;\n",
       "\n",
       "  @media (prefers-color-scheme: dark) {\n",
       "    /* Redefinition of color scheme for dark theme */\n",
       "    --sklearn-color-text-on-default-background: var(--sg-text-color, var(--theme-code-foreground, var(--jp-content-font-color1, white)));\n",
       "    --sklearn-color-background: var(--sg-background-color, var(--theme-background, var(--jp-layout-color0, #111)));\n",
       "    --sklearn-color-border-box: var(--sg-text-color, var(--theme-code-foreground, var(--jp-content-font-color1, white)));\n",
       "    --sklearn-color-icon: #878787;\n",
       "  }\n",
       "}\n",
       "\n",
       "#sk-container-id-1 {\n",
       "  color: var(--sklearn-color-text);\n",
       "}\n",
       "\n",
       "#sk-container-id-1 pre {\n",
       "  padding: 0;\n",
       "}\n",
       "\n",
       "#sk-container-id-1 input.sk-hidden--visually {\n",
       "  border: 0;\n",
       "  clip: rect(1px 1px 1px 1px);\n",
       "  clip: rect(1px, 1px, 1px, 1px);\n",
       "  height: 1px;\n",
       "  margin: -1px;\n",
       "  overflow: hidden;\n",
       "  padding: 0;\n",
       "  position: absolute;\n",
       "  width: 1px;\n",
       "}\n",
       "\n",
       "#sk-container-id-1 div.sk-dashed-wrapped {\n",
       "  border: 1px dashed var(--sklearn-color-line);\n",
       "  margin: 0 0.4em 0.5em 0.4em;\n",
       "  box-sizing: border-box;\n",
       "  padding-bottom: 0.4em;\n",
       "  background-color: var(--sklearn-color-background);\n",
       "}\n",
       "\n",
       "#sk-container-id-1 div.sk-container {\n",
       "  /* jupyter's `normalize.less` sets `[hidden] { display: none; }`\n",
       "     but bootstrap.min.css set `[hidden] { display: none !important; }`\n",
       "     so we also need the `!important` here to be able to override the\n",
       "     default hidden behavior on the sphinx rendered scikit-learn.org.\n",
       "     See: https://github.com/scikit-learn/scikit-learn/issues/21755 */\n",
       "  display: inline-block !important;\n",
       "  position: relative;\n",
       "}\n",
       "\n",
       "#sk-container-id-1 div.sk-text-repr-fallback {\n",
       "  display: none;\n",
       "}\n",
       "\n",
       "div.sk-parallel-item,\n",
       "div.sk-serial,\n",
       "div.sk-item {\n",
       "  /* draw centered vertical line to link estimators */\n",
       "  background-image: linear-gradient(var(--sklearn-color-text-on-default-background), var(--sklearn-color-text-on-default-background));\n",
       "  background-size: 2px 100%;\n",
       "  background-repeat: no-repeat;\n",
       "  background-position: center center;\n",
       "}\n",
       "\n",
       "/* Parallel-specific style estimator block */\n",
       "\n",
       "#sk-container-id-1 div.sk-parallel-item::after {\n",
       "  content: \"\";\n",
       "  width: 100%;\n",
       "  border-bottom: 2px solid var(--sklearn-color-text-on-default-background);\n",
       "  flex-grow: 1;\n",
       "}\n",
       "\n",
       "#sk-container-id-1 div.sk-parallel {\n",
       "  display: flex;\n",
       "  align-items: stretch;\n",
       "  justify-content: center;\n",
       "  background-color: var(--sklearn-color-background);\n",
       "  position: relative;\n",
       "}\n",
       "\n",
       "#sk-container-id-1 div.sk-parallel-item {\n",
       "  display: flex;\n",
       "  flex-direction: column;\n",
       "}\n",
       "\n",
       "#sk-container-id-1 div.sk-parallel-item:first-child::after {\n",
       "  align-self: flex-end;\n",
       "  width: 50%;\n",
       "}\n",
       "\n",
       "#sk-container-id-1 div.sk-parallel-item:last-child::after {\n",
       "  align-self: flex-start;\n",
       "  width: 50%;\n",
       "}\n",
       "\n",
       "#sk-container-id-1 div.sk-parallel-item:only-child::after {\n",
       "  width: 0;\n",
       "}\n",
       "\n",
       "/* Serial-specific style estimator block */\n",
       "\n",
       "#sk-container-id-1 div.sk-serial {\n",
       "  display: flex;\n",
       "  flex-direction: column;\n",
       "  align-items: center;\n",
       "  background-color: var(--sklearn-color-background);\n",
       "  padding-right: 1em;\n",
       "  padding-left: 1em;\n",
       "}\n",
       "\n",
       "\n",
       "/* Toggleable style: style used for estimator/Pipeline/ColumnTransformer box that is\n",
       "clickable and can be expanded/collapsed.\n",
       "- Pipeline and ColumnTransformer use this feature and define the default style\n",
       "- Estimators will overwrite some part of the style using the `sk-estimator` class\n",
       "*/\n",
       "\n",
       "/* Pipeline and ColumnTransformer style (default) */\n",
       "\n",
       "#sk-container-id-1 div.sk-toggleable {\n",
       "  /* Default theme specific background. It is overwritten whether we have a\n",
       "  specific estimator or a Pipeline/ColumnTransformer */\n",
       "  background-color: var(--sklearn-color-background);\n",
       "}\n",
       "\n",
       "/* Toggleable label */\n",
       "#sk-container-id-1 label.sk-toggleable__label {\n",
       "  cursor: pointer;\n",
       "  display: block;\n",
       "  width: 100%;\n",
       "  margin-bottom: 0;\n",
       "  padding: 0.5em;\n",
       "  box-sizing: border-box;\n",
       "  text-align: center;\n",
       "}\n",
       "\n",
       "#sk-container-id-1 label.sk-toggleable__label-arrow:before {\n",
       "  /* Arrow on the left of the label */\n",
       "  content: \"▸\";\n",
       "  float: left;\n",
       "  margin-right: 0.25em;\n",
       "  color: var(--sklearn-color-icon);\n",
       "}\n",
       "\n",
       "#sk-container-id-1 label.sk-toggleable__label-arrow:hover:before {\n",
       "  color: var(--sklearn-color-text);\n",
       "}\n",
       "\n",
       "/* Toggleable content - dropdown */\n",
       "\n",
       "#sk-container-id-1 div.sk-toggleable__content {\n",
       "  max-height: 0;\n",
       "  max-width: 0;\n",
       "  overflow: hidden;\n",
       "  text-align: left;\n",
       "  /* unfitted */\n",
       "  background-color: var(--sklearn-color-unfitted-level-0);\n",
       "}\n",
       "\n",
       "#sk-container-id-1 div.sk-toggleable__content.fitted {\n",
       "  /* fitted */\n",
       "  background-color: var(--sklearn-color-fitted-level-0);\n",
       "}\n",
       "\n",
       "#sk-container-id-1 div.sk-toggleable__content pre {\n",
       "  margin: 0.2em;\n",
       "  border-radius: 0.25em;\n",
       "  color: var(--sklearn-color-text);\n",
       "  /* unfitted */\n",
       "  background-color: var(--sklearn-color-unfitted-level-0);\n",
       "}\n",
       "\n",
       "#sk-container-id-1 div.sk-toggleable__content.fitted pre {\n",
       "  /* unfitted */\n",
       "  background-color: var(--sklearn-color-fitted-level-0);\n",
       "}\n",
       "\n",
       "#sk-container-id-1 input.sk-toggleable__control:checked~div.sk-toggleable__content {\n",
       "  /* Expand drop-down */\n",
       "  max-height: 200px;\n",
       "  max-width: 100%;\n",
       "  overflow: auto;\n",
       "}\n",
       "\n",
       "#sk-container-id-1 input.sk-toggleable__control:checked~label.sk-toggleable__label-arrow:before {\n",
       "  content: \"▾\";\n",
       "}\n",
       "\n",
       "/* Pipeline/ColumnTransformer-specific style */\n",
       "\n",
       "#sk-container-id-1 div.sk-label input.sk-toggleable__control:checked~label.sk-toggleable__label {\n",
       "  color: var(--sklearn-color-text);\n",
       "  background-color: var(--sklearn-color-unfitted-level-2);\n",
       "}\n",
       "\n",
       "#sk-container-id-1 div.sk-label.fitted input.sk-toggleable__control:checked~label.sk-toggleable__label {\n",
       "  background-color: var(--sklearn-color-fitted-level-2);\n",
       "}\n",
       "\n",
       "/* Estimator-specific style */\n",
       "\n",
       "/* Colorize estimator box */\n",
       "#sk-container-id-1 div.sk-estimator input.sk-toggleable__control:checked~label.sk-toggleable__label {\n",
       "  /* unfitted */\n",
       "  background-color: var(--sklearn-color-unfitted-level-2);\n",
       "}\n",
       "\n",
       "#sk-container-id-1 div.sk-estimator.fitted input.sk-toggleable__control:checked~label.sk-toggleable__label {\n",
       "  /* fitted */\n",
       "  background-color: var(--sklearn-color-fitted-level-2);\n",
       "}\n",
       "\n",
       "#sk-container-id-1 div.sk-label label.sk-toggleable__label,\n",
       "#sk-container-id-1 div.sk-label label {\n",
       "  /* The background is the default theme color */\n",
       "  color: var(--sklearn-color-text-on-default-background);\n",
       "}\n",
       "\n",
       "/* On hover, darken the color of the background */\n",
       "#sk-container-id-1 div.sk-label:hover label.sk-toggleable__label {\n",
       "  color: var(--sklearn-color-text);\n",
       "  background-color: var(--sklearn-color-unfitted-level-2);\n",
       "}\n",
       "\n",
       "/* Label box, darken color on hover, fitted */\n",
       "#sk-container-id-1 div.sk-label.fitted:hover label.sk-toggleable__label.fitted {\n",
       "  color: var(--sklearn-color-text);\n",
       "  background-color: var(--sklearn-color-fitted-level-2);\n",
       "}\n",
       "\n",
       "/* Estimator label */\n",
       "\n",
       "#sk-container-id-1 div.sk-label label {\n",
       "  font-family: monospace;\n",
       "  font-weight: bold;\n",
       "  display: inline-block;\n",
       "  line-height: 1.2em;\n",
       "}\n",
       "\n",
       "#sk-container-id-1 div.sk-label-container {\n",
       "  text-align: center;\n",
       "}\n",
       "\n",
       "/* Estimator-specific */\n",
       "#sk-container-id-1 div.sk-estimator {\n",
       "  font-family: monospace;\n",
       "  border: 1px dotted var(--sklearn-color-border-box);\n",
       "  border-radius: 0.25em;\n",
       "  box-sizing: border-box;\n",
       "  margin-bottom: 0.5em;\n",
       "  /* unfitted */\n",
       "  background-color: var(--sklearn-color-unfitted-level-0);\n",
       "}\n",
       "\n",
       "#sk-container-id-1 div.sk-estimator.fitted {\n",
       "  /* fitted */\n",
       "  background-color: var(--sklearn-color-fitted-level-0);\n",
       "}\n",
       "\n",
       "/* on hover */\n",
       "#sk-container-id-1 div.sk-estimator:hover {\n",
       "  /* unfitted */\n",
       "  background-color: var(--sklearn-color-unfitted-level-2);\n",
       "}\n",
       "\n",
       "#sk-container-id-1 div.sk-estimator.fitted:hover {\n",
       "  /* fitted */\n",
       "  background-color: var(--sklearn-color-fitted-level-2);\n",
       "}\n",
       "\n",
       "/* Specification for estimator info (e.g. \"i\" and \"?\") */\n",
       "\n",
       "/* Common style for \"i\" and \"?\" */\n",
       "\n",
       ".sk-estimator-doc-link,\n",
       "a:link.sk-estimator-doc-link,\n",
       "a:visited.sk-estimator-doc-link {\n",
       "  float: right;\n",
       "  font-size: smaller;\n",
       "  line-height: 1em;\n",
       "  font-family: monospace;\n",
       "  background-color: var(--sklearn-color-background);\n",
       "  border-radius: 1em;\n",
       "  height: 1em;\n",
       "  width: 1em;\n",
       "  text-decoration: none !important;\n",
       "  margin-left: 1ex;\n",
       "  /* unfitted */\n",
       "  border: var(--sklearn-color-unfitted-level-1) 1pt solid;\n",
       "  color: var(--sklearn-color-unfitted-level-1);\n",
       "}\n",
       "\n",
       ".sk-estimator-doc-link.fitted,\n",
       "a:link.sk-estimator-doc-link.fitted,\n",
       "a:visited.sk-estimator-doc-link.fitted {\n",
       "  /* fitted */\n",
       "  border: var(--sklearn-color-fitted-level-1) 1pt solid;\n",
       "  color: var(--sklearn-color-fitted-level-1);\n",
       "}\n",
       "\n",
       "/* On hover */\n",
       "div.sk-estimator:hover .sk-estimator-doc-link:hover,\n",
       ".sk-estimator-doc-link:hover,\n",
       "div.sk-label-container:hover .sk-estimator-doc-link:hover,\n",
       ".sk-estimator-doc-link:hover {\n",
       "  /* unfitted */\n",
       "  background-color: var(--sklearn-color-unfitted-level-3);\n",
       "  color: var(--sklearn-color-background);\n",
       "  text-decoration: none;\n",
       "}\n",
       "\n",
       "div.sk-estimator.fitted:hover .sk-estimator-doc-link.fitted:hover,\n",
       ".sk-estimator-doc-link.fitted:hover,\n",
       "div.sk-label-container:hover .sk-estimator-doc-link.fitted:hover,\n",
       ".sk-estimator-doc-link.fitted:hover {\n",
       "  /* fitted */\n",
       "  background-color: var(--sklearn-color-fitted-level-3);\n",
       "  color: var(--sklearn-color-background);\n",
       "  text-decoration: none;\n",
       "}\n",
       "\n",
       "/* Span, style for the box shown on hovering the info icon */\n",
       ".sk-estimator-doc-link span {\n",
       "  display: none;\n",
       "  z-index: 9999;\n",
       "  position: relative;\n",
       "  font-weight: normal;\n",
       "  right: .2ex;\n",
       "  padding: .5ex;\n",
       "  margin: .5ex;\n",
       "  width: min-content;\n",
       "  min-width: 20ex;\n",
       "  max-width: 50ex;\n",
       "  color: var(--sklearn-color-text);\n",
       "  box-shadow: 2pt 2pt 4pt #999;\n",
       "  /* unfitted */\n",
       "  background: var(--sklearn-color-unfitted-level-0);\n",
       "  border: .5pt solid var(--sklearn-color-unfitted-level-3);\n",
       "}\n",
       "\n",
       ".sk-estimator-doc-link.fitted span {\n",
       "  /* fitted */\n",
       "  background: var(--sklearn-color-fitted-level-0);\n",
       "  border: var(--sklearn-color-fitted-level-3);\n",
       "}\n",
       "\n",
       ".sk-estimator-doc-link:hover span {\n",
       "  display: block;\n",
       "}\n",
       "\n",
       "/* \"?\"-specific style due to the `<a>` HTML tag */\n",
       "\n",
       "#sk-container-id-1 a.estimator_doc_link {\n",
       "  float: right;\n",
       "  font-size: 1rem;\n",
       "  line-height: 1em;\n",
       "  font-family: monospace;\n",
       "  background-color: var(--sklearn-color-background);\n",
       "  border-radius: 1rem;\n",
       "  height: 1rem;\n",
       "  width: 1rem;\n",
       "  text-decoration: none;\n",
       "  /* unfitted */\n",
       "  color: var(--sklearn-color-unfitted-level-1);\n",
       "  border: var(--sklearn-color-unfitted-level-1) 1pt solid;\n",
       "}\n",
       "\n",
       "#sk-container-id-1 a.estimator_doc_link.fitted {\n",
       "  /* fitted */\n",
       "  border: var(--sklearn-color-fitted-level-1) 1pt solid;\n",
       "  color: var(--sklearn-color-fitted-level-1);\n",
       "}\n",
       "\n",
       "/* On hover */\n",
       "#sk-container-id-1 a.estimator_doc_link:hover {\n",
       "  /* unfitted */\n",
       "  background-color: var(--sklearn-color-unfitted-level-3);\n",
       "  color: var(--sklearn-color-background);\n",
       "  text-decoration: none;\n",
       "}\n",
       "\n",
       "#sk-container-id-1 a.estimator_doc_link.fitted:hover {\n",
       "  /* fitted */\n",
       "  background-color: var(--sklearn-color-fitted-level-3);\n",
       "}\n",
       "</style><div id=\"sk-container-id-1\" class=\"sk-top-container\"><div class=\"sk-text-repr-fallback\"><pre>RandomForestClassifier(max_depth=20, n_estimators=50, random_state=69)</pre><b>In a Jupyter environment, please rerun this cell to show the HTML representation or trust the notebook. <br />On GitHub, the HTML representation is unable to render, please try loading this page with nbviewer.org.</b></div><div class=\"sk-container\" hidden><div class=\"sk-item\"><div class=\"sk-estimator fitted sk-toggleable\"><input class=\"sk-toggleable__control sk-hidden--visually\" id=\"sk-estimator-id-1\" type=\"checkbox\" checked><label for=\"sk-estimator-id-1\" class=\"sk-toggleable__label fitted sk-toggleable__label-arrow fitted\">&nbsp;&nbsp;RandomForestClassifier<a class=\"sk-estimator-doc-link fitted\" rel=\"noreferrer\" target=\"_blank\" href=\"https://scikit-learn.org/1.4/modules/generated/sklearn.ensemble.RandomForestClassifier.html\">?<span>Documentation for RandomForestClassifier</span></a><span class=\"sk-estimator-doc-link fitted\">i<span>Fitted</span></span></label><div class=\"sk-toggleable__content fitted\"><pre>RandomForestClassifier(max_depth=20, n_estimators=50, random_state=69)</pre></div> </div></div></div></div>"
      ],
      "text/plain": [
       "RandomForestClassifier(max_depth=20, n_estimators=50, random_state=69)"
      ]
     },
     "execution_count": 17,
     "metadata": {},
     "output_type": "execute_result"
    }
   ],
   "source": [
    "model.fit(X_train, y_train)"
   ]
  },
  {
   "cell_type": "code",
   "execution_count": 37,
   "metadata": {},
   "outputs": [
    {
     "data": {
      "text/plain": [
       "26"
      ]
     },
     "execution_count": 37,
     "metadata": {},
     "output_type": "execute_result"
    }
   ],
   "source": [
    "np.argmin(model.feature_importances_)"
   ]
  },
  {
   "cell_type": "code",
   "execution_count": null,
   "metadata": {},
   "outputs": [],
   "source": []
  },
  {
   "cell_type": "markdown",
   "metadata": {},
   "source": [
    "### Evaluation"
   ]
  },
  {
   "cell_type": "code",
   "execution_count": 19,
   "metadata": {},
   "outputs": [],
   "source": [
    "def calc_FNR_accuracy(y_true, y_pred):\n",
    "    conf_matrix = confusion_matrix(y_true, y_pred)\n",
    "    for label_class in range(4):\n",
    "        FN = sum(conf_matrix[label_class][i] for i in range(len(conf_matrix)) if i != label_class)  \n",
    "        \n",
    "        TP = conf_matrix[label_class][label_class]  \n",
    "        \n",
    "        TN = np.sum(np.delete(np.delete(conf_matrix, label_class, axis=0), label_class, axis=1))\n",
    "        \n",
    "        accuracy = (TP + TN) / np.sum(conf_matrix)\n",
    "        print(\"Accuracy for class\", label_class, \":\", accuracy)\n",
    "\n",
    "        FNR = FN / (FN + TP) if (FN + TP) > 0 else -1\n",
    "        print(\"FNR for class\", label_class, \":\", FNR)"
   ]
  },
  {
   "cell_type": "markdown",
   "metadata": {},
   "source": [
    "#### Malicious URLS (multi-class)\n",
    "1) Benign       = 0\n",
    "2) Defacement   = 1\n",
    "3) Phishing     = 2\n",
    "4) Malware      = 3 "
   ]
  },
  {
   "cell_type": "code",
   "execution_count": 20,
   "metadata": {},
   "outputs": [],
   "source": [
    "y_pred = model.predict(X_test)"
   ]
  },
  {
   "cell_type": "code",
   "execution_count": 21,
   "metadata": {},
   "outputs": [],
   "source": [
    "accuracy = accuracy_score(y_test, y_pred)\n",
    "precision = precision_score(y_test, y_pred, average='weighted')\n",
    "recall = recall_score(y_test, y_pred, average='weighted')\n",
    "f1 = f1_score(y_test, y_pred, average='weighted')\n",
    "\n",
    "class_test_precision, class_test_recall, class_test_f1, class_ = precision_recall_fscore_support(y_test, y_pred)"
   ]
  },
  {
   "cell_type": "code",
   "execution_count": 22,
   "metadata": {},
   "outputs": [
    {
     "name": "stdout",
     "output_type": "stream",
     "text": [
      "OVERALL: Accuracy: 0.96562474, Precision: 0.96522551, Recall: 0.96562474, f1 Score: 0.96501186\n"
     ]
    }
   ],
   "source": [
    "print(f'OVERALL: Accuracy: {accuracy:.8f}, Precision: {precision:.8f}, Recall: {recall:.8f}, f1 Score: {f1:.8f}')"
   ]
  },
  {
   "cell_type": "code",
   "execution_count": 23,
   "metadata": {},
   "outputs": [
    {
     "name": "stdout",
     "output_type": "stream",
     "text": [
      "Class 0:\tTest Precision: 0.97060270,\tTest Recall: 0.99067155,\tTest f1: 0.98053445\n",
      "Class 1:\tTest Precision: 0.96559107,\tTest Recall: 0.98272374,\tTest f1: 0.97408207\n",
      "Class 2:\tTest Precision: 0.93030462,\tTest Recall: 0.85003740,\tTest f1: 0.88836158\n",
      "Class 3:\tTest Precision: 0.99343832,\tTest Recall: 0.91841068,\tTest f1: 0.95445232\n"
     ]
    }
   ],
   "source": [
    "for i in range(4):\n",
    "    print(f'Class {i}:\\tTest Precision: {class_test_precision[i]:.8f},\\tTest Recall: {class_test_recall[i]:.8f},\\tTest f1: {class_test_f1[i]:.8f}')"
   ]
  },
  {
   "cell_type": "code",
   "execution_count": 24,
   "metadata": {},
   "outputs": [
    {
     "name": "stdout",
     "output_type": "stream",
     "text": [
      "Accuracy for class 0 : 0.9741321723907586\n",
      "FNR for class 0 : 0.009328445336944846\n",
      "Accuracy for class 1 : 0.9922603828346348\n",
      "FNR for class 1 : 0.01727626459143969\n",
      "Accuracy for class 2 : 0.9692949116624052\n",
      "FNR for class 2 : 0.149962602842184\n",
      "Accuracy for class 3 : 0.9955620052365267\n",
      "FNR for class 3 : 0.08158932362754019\n"
     ]
    }
   ],
   "source": [
    "calc_FNR_accuracy(y_test, y_pred)"
   ]
  },
  {
   "cell_type": "markdown",
   "metadata": {},
   "source": [
    "#### External Datasets"
   ]
  },
  {
   "cell_type": "code",
   "execution_count": 25,
   "metadata": {},
   "outputs": [
    {
     "data": {
      "text/plain": [
       "0                       https://servicecu.mobi/Service\n",
       "1          https://sp581716.sitebeat.crazydomains.com/\n",
       "2          https://sp774647.sitebeat.crazydomains.com/\n",
       "3          https://sp779562.sitebeat.crazydomains.com/\n",
       "4    https://manaliindiancuisine.es//gmx/rechnung/d...\n",
       "Name: 0, dtype: object"
      ]
     },
     "execution_count": 25,
     "metadata": {},
     "output_type": "execute_result"
    }
   ],
   "source": [
    "# phishing\n",
    "df_phish = pd.read_csv('../datasets/phishtank_phish_urls.csv', header=None, skiprows=1).iloc[:, 0]\n",
    "df_phish.head()"
   ]
  },
  {
   "cell_type": "code",
   "execution_count": 26,
   "metadata": {},
   "outputs": [],
   "source": [
    "y_pred_phish = model.predict(pd.concat([\n",
    "    get_general_feature_set(df_phish),\n",
    "    get_lexical_feature_set(df_phish)],\n",
    "    axis=1))\n",
    "y_test_phish = np.full((df_phish.shape[0],), 2)"
   ]
  },
  {
   "cell_type": "code",
   "execution_count": 27,
   "metadata": {},
   "outputs": [
    {
     "name": "stderr",
     "output_type": "stream",
     "text": [
      "c:\\Users\\Hong\\AppData\\Local\\Programs\\Python\\Python311\\Lib\\site-packages\\sklearn\\metrics\\_classification.py:1509: UndefinedMetricWarning: Recall is ill-defined and being set to 0.0 in labels with no true samples. Use `zero_division` parameter to control this behavior.\n",
      "  _warn_prf(average, modifier, f\"{metric.capitalize()} is\", len(result))\n"
     ]
    }
   ],
   "source": [
    "phish_accuracy = accuracy_score(y_test_phish, y_pred_phish)\n",
    "phish_precision = precision_score(y_test_phish, y_pred_phish, average='weighted')\n",
    "phish_recall = recall_score(y_test_phish, y_pred_phish, average='weighted')\n",
    "phish_f1 = f1_score(y_test_phish, y_pred_phish, average='weighted')"
   ]
  },
  {
   "cell_type": "code",
   "execution_count": 28,
   "metadata": {},
   "outputs": [
    {
     "name": "stdout",
     "output_type": "stream",
     "text": [
      "OVERALL: Accuracy: 0.91864310, Precision: 1.00000000, Recall: 0.91864310, f1 Score: 0.95759665\n"
     ]
    }
   ],
   "source": [
    "print(f'OVERALL: Accuracy: {phish_accuracy:.8f}, Precision: {phish_precision:.8f}, Recall: {phish_recall:.8f}, f1 Score: {phish_f1:.8f}')"
   ]
  },
  {
   "cell_type": "code",
   "execution_count": 29,
   "metadata": {},
   "outputs": [
    {
     "name": "stdout",
     "output_type": "stream",
     "text": [
      "Accuracy for class 0 : 0.9457170810701393\n",
      "FNR for class 0 : -1\n",
      "Accuracy for class 1 : 0.9754731621740157\n",
      "FNR for class 1 : -1\n",
      "Accuracy for class 2 : 0.9186430957120205\n",
      "FNR for class 2 : 0.08135690428797948\n",
      "Accuracy for class 3 : 0.9974528524678654\n",
      "FNR for class 3 : -1\n"
     ]
    }
   ],
   "source": [
    "calc_FNR_accuracy(y_test_phish, y_pred_phish)"
   ]
  },
  {
   "cell_type": "markdown",
   "metadata": {},
   "source": [
    "___"
   ]
  },
  {
   "cell_type": "code",
   "execution_count": 30,
   "metadata": {},
   "outputs": [
    {
     "data": {
      "text/plain": [
       "0       https://www.google.com\n",
       "1      https://www.youtube.com\n",
       "2     https://www.facebook.com\n",
       "3        https://www.baidu.com\n",
       "4    https://www.wikipedia.org\n",
       "Name: 0, dtype: object"
      ]
     },
     "execution_count": 30,
     "metadata": {},
     "output_type": "execute_result"
    }
   ],
   "source": [
    "# benign\n",
    "df_benign = pd.read_csv('../datasets/benign_urls.csv', header=None, skiprows=1).iloc[:, 0]\n",
    "df_benign.head()"
   ]
  },
  {
   "cell_type": "code",
   "execution_count": 31,
   "metadata": {},
   "outputs": [],
   "source": [
    "y_pred_benign = model.predict(pd.concat([\n",
    "    get_general_feature_set(df_benign),\n",
    "    get_lexical_feature_set(df_benign)],\n",
    "    axis=1))\n",
    "y_test_benign = np.full((df_benign.shape[0],), 0)"
   ]
  },
  {
   "cell_type": "code",
   "execution_count": 32,
   "metadata": {},
   "outputs": [
    {
     "name": "stderr",
     "output_type": "stream",
     "text": [
      "c:\\Users\\Hong\\AppData\\Local\\Programs\\Python\\Python311\\Lib\\site-packages\\sklearn\\metrics\\_classification.py:1509: UndefinedMetricWarning: Recall is ill-defined and being set to 0.0 in labels with no true samples. Use `zero_division` parameter to control this behavior.\n",
      "  _warn_prf(average, modifier, f\"{metric.capitalize()} is\", len(result))\n"
     ]
    }
   ],
   "source": [
    "benign_accuracy = accuracy_score(y_test_benign, y_pred_benign)\n",
    "benign_precision = precision_score(y_test_benign, y_pred_benign, average='weighted')\n",
    "benign_recall = recall_score(y_test_benign, y_pred_benign, average='weighted')\n",
    "benign_f1 = f1_score(y_test_benign, y_pred_benign, average='weighted')"
   ]
  },
  {
   "cell_type": "code",
   "execution_count": 33,
   "metadata": {},
   "outputs": [
    {
     "name": "stdout",
     "output_type": "stream",
     "text": [
      "OVERALL: Accuracy: 0.01429985, Precision: 1.00000000, Recall: 0.01429985, f1 Score: 0.02819649\n"
     ]
    }
   ],
   "source": [
    "print(f'OVERALL: Accuracy: {benign_accuracy:.8f}, Precision: {benign_precision:.8f}, Recall: {benign_recall:.8f}, f1 Score: {benign_f1:.8f}')"
   ]
  },
  {
   "cell_type": "code",
   "execution_count": 34,
   "metadata": {},
   "outputs": [
    {
     "name": "stdout",
     "output_type": "stream",
     "text": [
      "Accuracy for class 0 : 0.014299845547784738\n",
      "FNR for class 0 : 0.9857001544522153\n",
      "Accuracy for class 1 : 0.5303206474266641\n",
      "FNR for class 1 : -1\n",
      "Accuracy for class 2 : 0.48652737043657335\n",
      "FNR for class 2 : -1\n",
      "Accuracy for class 3 : 0.9974518276845472\n",
      "FNR for class 3 : -1\n"
     ]
    }
   ],
   "source": [
    "calc_FNR_accuracy(y_test_benign, y_pred_benign)"
   ]
  }
 ],
 "metadata": {
  "kernelspec": {
   "display_name": "Python 3",
   "language": "python",
   "name": "python3"
  },
  "language_info": {
   "codemirror_mode": {
    "name": "ipython",
    "version": 3
   },
   "file_extension": ".py",
   "mimetype": "text/x-python",
   "name": "python",
   "nbconvert_exporter": "python",
   "pygments_lexer": "ipython3",
   "version": "3.11.8"
  }
 },
 "nbformat": 4,
 "nbformat_minor": 2
}
