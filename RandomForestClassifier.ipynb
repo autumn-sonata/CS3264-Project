{
 "cells": [
  {
   "cell_type": "markdown",
   "metadata": {},
   "source": [
    "### Setup"
   ]
  },
  {
   "cell_type": "code",
   "execution_count": 16,
   "metadata": {},
   "outputs": [],
   "source": [
    "import pandas as pd\n",
    "from sklearn.ensemble import RandomForestClassifier\n",
    "from sklearn.model_selection import train_test_split\n",
    "from sklearn.metrics import accuracy_score, precision_recall_fscore_support\n",
    "from sklearn.feature_selection import SelectKBest, f_classif\n",
    "import numpy as np\n",
    "from sklearn import tree \n",
    "from matplotlib import pyplot as plt\n"
   ]
  },
  {
   "cell_type": "markdown",
   "metadata": {},
   "source": [
    "### Dataset"
   ]
  },
  {
   "cell_type": "code",
   "execution_count": 3,
   "metadata": {},
   "outputs": [],
   "source": [
    "X = pd.read_csv(\"datasets/feature_updated_dataset_X.csv\")\n",
    "y = pd.read_csv(\"datasets/feature_updated_dataset_y.csv\")"
   ]
  },
  {
   "cell_type": "markdown",
   "metadata": {},
   "source": [
    "### Split"
   ]
  },
  {
   "cell_type": "code",
   "execution_count": 4,
   "metadata": {},
   "outputs": [],
   "source": [
    "X_train, X_val, y_train, y_val = train_test_split(X, y, test_size=0.2, random_state=69)\n",
    "y_train, y_val = y_train.values.ravel(), y_val.values.ravel()"
   ]
  },
  {
   "cell_type": "code",
   "execution_count": 5,
   "metadata": {},
   "outputs": [
    {
     "name": "stdout",
     "output_type": "stream",
     "text": [
      "0    342451\n",
      "1     77182\n",
      "2     75393\n",
      "3     25926\n",
      "Name: count, dtype: int64\n",
      "0    85652\n",
      "1    19275\n",
      "2    18718\n",
      "3     6594\n",
      "Name: count, dtype: int64\n"
     ]
    }
   ],
   "source": [
    "print(pd.Series(y_train).value_counts())\n",
    "print(pd.Series(y_val).value_counts())"
   ]
  },
  {
   "cell_type": "markdown",
   "metadata": {},
   "source": [
    "### Model"
   ]
  },
  {
   "cell_type": "code",
   "execution_count": 6,
   "metadata": {},
   "outputs": [],
   "source": [
    "model = RandomForestClassifier(n_estimators=100, max_depth=20, min_samples_split=2, min_samples_leaf=1)"
   ]
  },
  {
   "cell_type": "markdown",
   "metadata": {},
   "source": [
    "### Evaluation"
   ]
  },
  {
   "cell_type": "code",
   "execution_count": 7,
   "metadata": {},
   "outputs": [],
   "source": [
    "model.fit(X_train, y_train)\n",
    "y_pred = model.predict(X_val)"
   ]
  },
  {
   "cell_type": "code",
   "execution_count": 8,
   "metadata": {},
   "outputs": [
    {
     "name": "stdout",
     "output_type": "stream",
     "text": [
      "Accuracy: 0.9621158024861984 | Precision: 0.9614548136474571 | Recall: 0.9621158024861984 | f1 score: 0.9612759333976157 | RandomForestClassifier\n"
     ]
    }
   ],
   "source": [
    "accuracy = accuracy_score(y_val, y_pred)\n",
    "precision, recall, f1, support = precision_recall_fscore_support(y_val, y_pred, average='weighted')\n",
    "print(f\"Accuracy: {accuracy} | Precision: {precision} | Recall: {recall} | f1 score: {f1} | {model.__class__.__name__}\")"
   ]
  },
  {
   "cell_type": "code",
   "execution_count": 9,
   "metadata": {},
   "outputs": [
    {
     "name": "stdout",
     "output_type": "stream",
     "text": [
      "Class 0:\n",
      "Precision: 0.9688847213804618 | Recall: 0.9892121608368748 | f1 score: 0.9789429292725057 | RandomForestClassifier\n",
      "Class 1:\n",
      "Precision: 0.9597145604534643 | Recall: 0.9838132295719845 | f1 score: 0.9716144899318543 | RandomForestClassifier\n",
      "Class 2:\n",
      "Precision: 0.9206500956022945 | Recall: 0.8231648680414574 | f1 score: 0.869182602809274 | RandomForestClassifier\n",
      "Class 3:\n",
      "Precision: 0.9858617950754567 | Recall: 0.9411586290567182 | f1 score: 0.962991698347428 | RandomForestClassifier\n"
     ]
    }
   ],
   "source": [
    "# Per-class metrics\n",
    "precision, recall, f1, support = precision_recall_fscore_support(y_val, y_pred)\n",
    "for i in range(4):\n",
    "    print(f\"Class {i}:\\nPrecision: {precision[i]} | Recall: {recall[i]} | f1 score: {f1[i]} | {model.__class__.__name__}\")"
   ]
  },
  {
   "cell_type": "markdown",
   "metadata": {},
   "source": [
    "### Extract model structure"
   ]
  },
  {
   "cell_type": "code",
   "execution_count": 10,
   "metadata": {},
   "outputs": [],
   "source": [
    "X_test = pd.read_csv(\"datasets/single_X.csv\")\n",
    "y_test = pd.read_csv(\"datasets/single_y.csv\")"
   ]
  },
  {
   "cell_type": "code",
   "execution_count": 11,
   "metadata": {},
   "outputs": [
    {
     "name": "stdout",
     "output_type": "stream",
     "text": [
      "   http  https  www  url_length  digit_count  percentage_count  dot_count  \\\n",
      "0   0.0    0.0  0.0        16.0          0.0               0.0       16.0   \n",
      "\n",
      "   bs_count  dash_count  url_entropy  params_count  subdomains_count  \\\n",
      "0       0.0         1.0       -3.375           0.0               0.0   \n",
      "\n",
      "   domain_extension  \n",
      "0               0.0      type_val\n",
      "0         2\n"
     ]
    }
   ],
   "source": [
    "print(X_test, y_test)"
   ]
  },
  {
   "cell_type": "code",
   "execution_count": 12,
   "metadata": {},
   "outputs": [
    {
     "name": "stdout",
     "output_type": "stream",
     "text": [
      "Feature Importance\n",
      "csr_http: 0.19271972011089436\n",
      "csr_https: 0.03517554943973927\n",
      "csr_www: 0.17264609049344912\n",
      "csr_url_len: 0.05567823215436183\n",
      "csr_digit_count: 0.05329402486790133\n",
      "csr_percentage_count: 0.009422722099244284\n",
      "csr_dot_count: 0.05557625316959293\n",
      "csr_bs_count: 0.10422209645555534\n",
      "csr_dash_count: 0.03164923254525475\n",
      "csr_url_entropy: 0.04634592900664131\n",
      "csr_url_num_params: 0.04964989537466519\n",
      "csr_url_num_subdomains: 0.0985291565040882\n",
      "csr_domain_extension: 0.09509109777861231\n"
     ]
    }
   ],
   "source": [
    "feature_name_ls = [\"csr_http\", \"csr_https\", \"csr_www\", \"csr_url_len\", \"csr_digit_count\", \n",
    "      \"csr_percentage_count\", \"csr_dot_count\", \"csr_bs_count\", \"csr_dash_count\", \n",
    "      \"csr_url_entropy\", \"csr_url_num_params\", \"csr_url_num_subdomains\", \"csr_domain_extension\"]\n",
    "\n",
    "print(\"Feature Importance\")\n",
    "for i in range(len(feature_name_ls)):\n",
    "    print(f'{feature_name_ls[i]}: {model.feature_importances_[i]}')"
   ]
  },
  {
   "cell_type": "code",
   "execution_count": 46,
   "metadata": {},
   "outputs": [
    {
     "name": "stdout",
     "output_type": "stream",
     "text": [
      "Classification: 2\n",
      "Class 0 confidence: 0.0000%\n",
      "Class 1 confidence: 0.0000%\n",
      "Class 2 confidence: 99.5721%\n",
      "Class 3 confidence: 0.4279%\n",
      "\n",
      "\n"
     ]
    }
   ],
   "source": [
    "y_pred_proba = model.predict_proba(X_test)\n",
    "for prediction in y_pred_proba:\n",
    "    print(f'Classification: {max(range(len(prediction)), key=prediction.__getitem__)}')\n",
    "    for i in range(4):\n",
    "        print(f'Class {i} confidence: {(prediction[i] * 100):.4f}%')\n",
    "    print('\\n')"
   ]
  },
  {
   "cell_type": "code",
   "execution_count": null,
   "metadata": {},
   "outputs": [],
   "source": [
    "tree.plot_tree(estimators[0],\n",
    "               max_depth=1,\n",
    "               feature_names=[\"csr_http\", \"csr_https\", \"csr_www\", \"csr_url_len\", \"csr_digit_count\",\n",
    "                              \"csr_percentage_count\", \"csr_dot_count\", \"csr_bs_count\", \"csr_dash_count\",\n",
    "                              \"csr_url_entropy\", \"csr_url_num_params\", \"csr_url_num_subdomains\", \"csr_domain_extension\"],\n",
    "               class_names=True,\n",
    "               filled=True,\n",
    "               label='none',\n",
    "               impurity=False,\n",
    "               fontsize=8)"
   ]
  }
 ],
 "metadata": {
  "kernelspec": {
   "display_name": "Python 3",
   "language": "python",
   "name": "python3"
  },
  "language_info": {
   "codemirror_mode": {
    "name": "ipython",
    "version": 3
   },
   "file_extension": ".py",
   "mimetype": "text/x-python",
   "name": "python",
   "nbconvert_exporter": "python",
   "pygments_lexer": "ipython3",
   "version": "3.11.8"
  }
 },
 "nbformat": 4,
 "nbformat_minor": 2
}
